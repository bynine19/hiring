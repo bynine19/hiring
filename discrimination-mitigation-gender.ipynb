{
 "cells": [
  {
   "cell_type": "code",
   "execution_count": 1,
   "metadata": {},
   "outputs": [
    {
     "name": "stdout",
     "output_type": "stream",
     "text": [
      "Collecting aif360\r\n",
      "\u001b[?25l  Downloading https://files.pythonhosted.org/packages/b3/5d/da04c68bd82f2d358146aafc18aed02326ab772a135660af499b6f73bb09/aif360-0.2.1-py2.py3-none-any.whl (56.4MB)\r\n",
      "\u001b[K     |████████████████████████████████| 56.4MB 49.8MB/s \r\n",
      "\u001b[?25hRequirement already satisfied: scipy in /opt/conda/lib/python3.6/site-packages (from aif360) (1.2.1)\r\n",
      "Requirement already satisfied: numpy>=1.16 in /opt/conda/lib/python3.6/site-packages (from aif360) (1.17.0)\r\n",
      "Requirement already satisfied: pandas>=0.23.3 in /opt/conda/lib/python3.6/site-packages (from aif360) (0.23.4)\r\n",
      "Requirement already satisfied: scikit-learn in /opt/conda/lib/python3.6/site-packages (from aif360) (0.21.3)\r\n",
      "Requirement already satisfied: pytz>=2011k in /opt/conda/lib/python3.6/site-packages (from pandas>=0.23.3->aif360) (2019.1)\r\n",
      "Requirement already satisfied: python-dateutil>=2.5.0 in /opt/conda/lib/python3.6/site-packages (from pandas>=0.23.3->aif360) (2.8.0)\r\n",
      "Requirement already satisfied: joblib>=0.11 in /opt/conda/lib/python3.6/site-packages (from scikit-learn->aif360) (0.13.2)\r\n",
      "Requirement already satisfied: six>=1.5 in /opt/conda/lib/python3.6/site-packages (from python-dateutil>=2.5.0->pandas>=0.23.3->aif360) (1.12.0)\r\n",
      "Installing collected packages: aif360\r\n",
      "Successfully installed aif360-0.2.1\r\n"
     ]
    }
   ],
   "source": [
    "!pip install aif360"
   ]
  },
  {
   "cell_type": "code",
   "execution_count": 2,
   "metadata": {},
   "outputs": [
    {
     "name": "stdout",
     "output_type": "stream",
     "text": [
      "Collecting BlackBoxAuditing\r\n",
      "\u001b[?25l  Downloading https://files.pythonhosted.org/packages/d8/2e/e2e7166bc78eb599b602ca79ace1ceba2ef83b69a0b708c9a7eb729347bf/BlackBoxAuditing-0.1.54.tar.gz (2.6MB)\r\n",
      "\u001b[K     |████████████████████████████████| 2.6MB 2.8MB/s \r\n",
      "\u001b[?25hRequirement already satisfied: networkx in /opt/conda/lib/python3.6/site-packages (from BlackBoxAuditing) (2.2)\r\n",
      "Requirement already satisfied: matplotlib in /opt/conda/lib/python3.6/site-packages (from BlackBoxAuditing) (3.0.3)\r\n",
      "Requirement already satisfied: pandas in /opt/conda/lib/python3.6/site-packages (from BlackBoxAuditing) (0.23.4)\r\n",
      "Requirement already satisfied: numpy in /opt/conda/lib/python3.6/site-packages (from BlackBoxAuditing) (1.17.0)\r\n",
      "Requirement already satisfied: decorator>=4.3.0 in /opt/conda/lib/python3.6/site-packages (from networkx->BlackBoxAuditing) (4.4.0)\r\n",
      "Requirement already satisfied: cycler>=0.10 in /opt/conda/lib/python3.6/site-packages (from matplotlib->BlackBoxAuditing) (0.10.0)\r\n",
      "Requirement already satisfied: kiwisolver>=1.0.1 in /opt/conda/lib/python3.6/site-packages (from matplotlib->BlackBoxAuditing) (1.1.0)\r\n",
      "Requirement already satisfied: pyparsing!=2.0.4,!=2.1.2,!=2.1.6,>=2.0.1 in /opt/conda/lib/python3.6/site-packages (from matplotlib->BlackBoxAuditing) (2.4.0)\r\n",
      "Requirement already satisfied: python-dateutil>=2.1 in /opt/conda/lib/python3.6/site-packages (from matplotlib->BlackBoxAuditing) (2.8.0)\r\n",
      "Requirement already satisfied: pytz>=2011k in /opt/conda/lib/python3.6/site-packages (from pandas->BlackBoxAuditing) (2019.1)\r\n",
      "Requirement already satisfied: six in /opt/conda/lib/python3.6/site-packages (from cycler>=0.10->matplotlib->BlackBoxAuditing) (1.12.0)\r\n",
      "Requirement already satisfied: setuptools in /opt/conda/lib/python3.6/site-packages (from kiwisolver>=1.0.1->matplotlib->BlackBoxAuditing) (41.0.1)\r\n",
      "Building wheels for collected packages: BlackBoxAuditing\r\n",
      "  Building wheel for BlackBoxAuditing (setup.py) ... \u001b[?25l-\b \b\\\b \b|\b \b/\b \b-\b \bdone\r\n",
      "\u001b[?25h  Created wheel for BlackBoxAuditing: filename=BlackBoxAuditing-0.1.54-py2.py3-none-any.whl size=1394770 sha256=9da0d3a116042c596157d5357b86f71d2251c513edf8c5c99624e12c4035f920\r\n",
      "  Stored in directory: /tmp/.cache/pip/wheels/66/82/7b/ac2a79b8caf97e15ed415162a7f272cbba1e2e2c851fa76ae3\r\n",
      "Successfully built BlackBoxAuditing\r\n",
      "Installing collected packages: BlackBoxAuditing\r\n",
      "Successfully installed BlackBoxAuditing-0.1.54\r\n"
     ]
    }
   ],
   "source": [
    "!pip install BlackBoxAuditing"
   ]
  },
  {
   "cell_type": "code",
   "execution_count": 3,
   "metadata": {},
   "outputs": [
    {
     "name": "stdout",
     "output_type": "stream",
     "text": [
      "Requirement already up-to-date: numpy in /opt/conda/lib/python3.6/site-packages (1.17.0)\r\n"
     ]
    }
   ],
   "source": [
    "!pip install numpy --upgrade"
   ]
  },
  {
   "cell_type": "code",
   "execution_count": 4,
   "metadata": {
    "_cell_guid": "b1076dfc-b9ad-4769-8c92-a6c4dae69d19",
    "_uuid": "8f2839f25d086af736a60e9eeb907d3b93b6e0e5"
   },
   "outputs": [
    {
     "name": "stderr",
     "output_type": "stream",
     "text": [
      "/opt/conda/lib/python3.6/site-packages/tensorflow/python/framework/dtypes.py:516: FutureWarning: Passing (type, 1) or '1type' as a synonym of type is deprecated; in a future version of numpy, it will be understood as (type, (1,)) / '(1,)type'.\n",
      "  _np_qint8 = np.dtype([(\"qint8\", np.int8, 1)])\n",
      "/opt/conda/lib/python3.6/site-packages/tensorflow/python/framework/dtypes.py:517: FutureWarning: Passing (type, 1) or '1type' as a synonym of type is deprecated; in a future version of numpy, it will be understood as (type, (1,)) / '(1,)type'.\n",
      "  _np_quint8 = np.dtype([(\"quint8\", np.uint8, 1)])\n",
      "/opt/conda/lib/python3.6/site-packages/tensorflow/python/framework/dtypes.py:518: FutureWarning: Passing (type, 1) or '1type' as a synonym of type is deprecated; in a future version of numpy, it will be understood as (type, (1,)) / '(1,)type'.\n",
      "  _np_qint16 = np.dtype([(\"qint16\", np.int16, 1)])\n",
      "/opt/conda/lib/python3.6/site-packages/tensorflow/python/framework/dtypes.py:519: FutureWarning: Passing (type, 1) or '1type' as a synonym of type is deprecated; in a future version of numpy, it will be understood as (type, (1,)) / '(1,)type'.\n",
      "  _np_quint16 = np.dtype([(\"quint16\", np.uint16, 1)])\n",
      "/opt/conda/lib/python3.6/site-packages/tensorflow/python/framework/dtypes.py:520: FutureWarning: Passing (type, 1) or '1type' as a synonym of type is deprecated; in a future version of numpy, it will be understood as (type, (1,)) / '(1,)type'.\n",
      "  _np_qint32 = np.dtype([(\"qint32\", np.int32, 1)])\n",
      "/opt/conda/lib/python3.6/site-packages/tensorflow/python/framework/dtypes.py:525: FutureWarning: Passing (type, 1) or '1type' as a synonym of type is deprecated; in a future version of numpy, it will be understood as (type, (1,)) / '(1,)type'.\n",
      "  np_resource = np.dtype([(\"resource\", np.ubyte, 1)])\n",
      "/opt/conda/lib/python3.6/site-packages/tensorboard/compat/tensorflow_stub/dtypes.py:541: FutureWarning: Passing (type, 1) or '1type' as a synonym of type is deprecated; in a future version of numpy, it will be understood as (type, (1,)) / '(1,)type'.\n",
      "  _np_qint8 = np.dtype([(\"qint8\", np.int8, 1)])\n",
      "/opt/conda/lib/python3.6/site-packages/tensorboard/compat/tensorflow_stub/dtypes.py:542: FutureWarning: Passing (type, 1) or '1type' as a synonym of type is deprecated; in a future version of numpy, it will be understood as (type, (1,)) / '(1,)type'.\n",
      "  _np_quint8 = np.dtype([(\"quint8\", np.uint8, 1)])\n",
      "/opt/conda/lib/python3.6/site-packages/tensorboard/compat/tensorflow_stub/dtypes.py:543: FutureWarning: Passing (type, 1) or '1type' as a synonym of type is deprecated; in a future version of numpy, it will be understood as (type, (1,)) / '(1,)type'.\n",
      "  _np_qint16 = np.dtype([(\"qint16\", np.int16, 1)])\n",
      "/opt/conda/lib/python3.6/site-packages/tensorboard/compat/tensorflow_stub/dtypes.py:544: FutureWarning: Passing (type, 1) or '1type' as a synonym of type is deprecated; in a future version of numpy, it will be understood as (type, (1,)) / '(1,)type'.\n",
      "  _np_quint16 = np.dtype([(\"quint16\", np.uint16, 1)])\n",
      "/opt/conda/lib/python3.6/site-packages/tensorboard/compat/tensorflow_stub/dtypes.py:545: FutureWarning: Passing (type, 1) or '1type' as a synonym of type is deprecated; in a future version of numpy, it will be understood as (type, (1,)) / '(1,)type'.\n",
      "  _np_qint32 = np.dtype([(\"qint32\", np.int32, 1)])\n",
      "/opt/conda/lib/python3.6/site-packages/tensorboard/compat/tensorflow_stub/dtypes.py:550: FutureWarning: Passing (type, 1) or '1type' as a synonym of type is deprecated; in a future version of numpy, it will be understood as (type, (1,)) / '(1,)type'.\n",
      "  np_resource = np.dtype([(\"resource\", np.ubyte, 1)])\n",
      "/opt/conda/lib/python3.6/site-packages/sklearn/externals/joblib/__init__.py:15: DeprecationWarning: sklearn.externals.joblib is deprecated in 0.21 and will be removed in 0.23. Please import this functionality directly from joblib, which can be installed with: pip install joblib. If this warning is raised when loading pickled models, you may need to re-serialize those models with scikit-learn 0.21+.\n",
      "  warnings.warn(msg, category=DeprecationWarning)\n"
     ]
    },
    {
     "name": "stdout",
     "output_type": "stream",
     "text": [
      "['plain-model', 'hiring']\n"
     ]
    }
   ],
   "source": [
    "# This Python 3 environment comes with many helpful analytics libraries installed\n",
    "# It is defined by the kaggle/python docker image: https://github.com/kaggle/docker-python\n",
    "# For example, here's several helpful packages to load in \n",
    "\n",
    "import numpy as np # linear algebra\n",
    "import pandas as pd # data processing, CSV file I/O (e.g. pd.read_csv)\n",
    "import matplotlib.pyplot as plt\n",
    "import matplotlib.patches as patches\n",
    "import seaborn as sns\n",
    "import tensorflow as tf\n",
    "import warnings\n",
    "warnings.filterwarnings(\"ignore\")\n",
    "from sklearn.externals import joblib\n",
    "from tqdm import tqdm\n",
    "from IPython.display import Markdown, display\n",
    "\n",
    "\n",
    "# Input data files are available in the \"../input/\" directory.\n",
    "# For example, running this (by clicking run or pressing Shift+Enter) will list the files in the input directory\n",
    "\n",
    "import os\n",
    "print(os.listdir(\"../input\"))\n",
    "\n",
    "# Any results you write to the current directory are saved as output.\n",
    "\n",
    "from aif360.datasets import BinaryLabelDataset, StandardDataset  # To handle the data\n",
    "from aif360.metrics import BinaryLabelDatasetMetric, ClassificationMetric  # For calculating metrics\n",
    "from aif360.explainers import MetricTextExplainer  # For explaining metrics\n",
    "\n",
    "from sklearn.metrics import confusion_matrix, accuracy_score, precision_score, recall_score, f1_score\n",
    "from sklearn.metrics import precision_recall_curve, auc, roc_auc_score, roc_curve, classification_report \n",
    "from sklearn.model_selection import cross_val_score, train_test_split, RandomizedSearchCV\n",
    "from sklearn.linear_model import LogisticRegression\n",
    "from sklearn.svm import SVC\n",
    "from sklearn.preprocessing import StandardScaler"
   ]
  },
  {
   "cell_type": "code",
   "execution_count": 5,
   "metadata": {
    "_cell_guid": "79c7e3d0-c299-4dcb-8224-4455121ee9b0",
    "_uuid": "d629ff2d2480ee46fbb7e2d37f6b5fab8052498a"
   },
   "outputs": [],
   "source": [
    "df = pd.read_csv('../input/hiring/hiring-dataset.csv')"
   ]
  },
  {
   "cell_type": "code",
   "execution_count": 6,
   "metadata": {},
   "outputs": [],
   "source": [
    "map_dict = {'No': 0, 'Yes': 1}\n",
    "df['Hired'] = df['Hired'].apply(lambda x: map_dict[str(x)])\n",
    "\n",
    "map_dict = {'F': 0, 'M': 1, 'nan': 2}\n",
    "df['Candidate Gender'] = df['Candidate Gender'].apply(lambda x: map_dict[str(x)])"
   ]
  },
  {
   "cell_type": "code",
   "execution_count": 7,
   "metadata": {},
   "outputs": [
    {
     "name": "stdout",
     "output_type": "stream",
     "text": [
      "Label Distributions: \n",
      "\n",
      "[0.98686758 0.01313242]\n",
      "[0.98669434 0.01330566]\n"
     ]
    }
   ],
   "source": [
    "data_with_scores = df.dropna(subset=[\"iq\", \"ambition\", \"interpersonal\", \"creativity\", \"fluid_iq\", \"achievement\", \n",
    "                                                   \"achievement_striving\", \"agreeableness\", \"benevolence\", \"cog_flex\", \n",
    "                                                   \"collectivism\", \"core_self_evaluation\", \"curiosity\", \"extraversion\", \n",
    "                                                   \"neuroticism\", \"openness\", \"self_discipline\", \"total score\"])\n",
    "\n",
    "protected_class = ['Job Schedule', 'Job Type', 'Location', 'Job Field', 'Application Source Type', \n",
    "                   'Ethnicity Type', 'Candidate Is Internal', 'Candiate is disabled', 'Age (Years)', \n",
    "                   'Candidate Gender', 'Manager Gender', 'Recruiter Gender', 'Hired']\n",
    "\n",
    "data_with_scores = data_with_scores[data_with_scores['Candidate Gender']!=2]\n",
    "\n",
    "\n",
    "from sklearn.model_selection import StratifiedShuffleSplit\n",
    "\n",
    "X = data_with_scores\n",
    "y = data_with_scores['Hired']\n",
    "\n",
    "Xtrain_, Xtest_, y_train, y_test = train_test_split(X, y, test_size = 0.3, random_state = 235)\n",
    "\n",
    "Xtrain_['Hired'] = y_train\n",
    "Xtest_['Hired'] = y_test\n",
    "training_df = Xtrain_\n",
    "test_df = Xtest_\n",
    "\n",
    "\n",
    "# See if both the train and test label distribution are similarly distributed\n",
    "train_unique_label, train_counts_label = np.unique(y_train, return_counts=True)\n",
    "test_unique_label, test_counts_label = np.unique(y_test, return_counts=True)\n",
    "\n",
    "print('Label Distributions: \\n')\n",
    "print(train_counts_label/ len(y_train))\n",
    "print(test_counts_label/ len(y_test))"
   ]
  },
  {
   "cell_type": "code",
   "execution_count": 8,
   "metadata": {},
   "outputs": [],
   "source": [
    "protected_class = ['Job Schedule', 'Job Type', 'Location', 'Job Field', 'Application Source Type', \n",
    "                   'Candidate Is Internal', 'Ethnicity Type', 'Candiate is disabled', 'Age (Years)',\n",
    "                   'Manager Gender', 'Recruiter Gender']\n",
    "\n",
    "train = training_df.drop(protected_class, axis=1)\n",
    "test = test_df.drop(protected_class, axis=1)\n",
    "train = train[train['Candidate Gender']!=2]\n",
    "test = test[test['Candidate Gender']!=2]\n",
    "\n",
    "privileged_sex = [1]\n",
    "favorable_label = 1\n",
    "unprivileged_groups = [{'Candidate Gender': 0}]\n",
    "privileged_groups = [{'Candidate Gender': 1}]\n",
    "\n",
    "original_training_dataset = StandardDataset(train, \n",
    "                               label_name='Hired', \n",
    "                               favorable_classes=[favorable_label], \n",
    "                               protected_attribute_names=['Candidate Gender'], \n",
    "                               privileged_classes=[privileged_sex])\n",
    "original_test_dataset = StandardDataset(test, \n",
    "                               label_name='Hired', \n",
    "                               favorable_classes=[favorable_label], \n",
    "                               protected_attribute_names=['Candidate Gender'], \n",
    "                               privileged_classes=[privileged_sex])"
   ]
  },
  {
   "cell_type": "code",
   "execution_count": 9,
   "metadata": {},
   "outputs": [
    {
     "data": {
      "text/markdown": [
       "#### Training Dataset shape"
      ],
      "text/plain": [
       "<IPython.core.display.Markdown object>"
      ]
     },
     "metadata": {},
     "output_type": "display_data"
    },
    {
     "name": "stdout",
     "output_type": "stream",
     "text": [
      "(19113, 19)\n"
     ]
    },
    {
     "data": {
      "text/markdown": [
       "#### Favorable and unfavorable labels"
      ],
      "text/plain": [
       "<IPython.core.display.Markdown object>"
      ]
     },
     "metadata": {},
     "output_type": "display_data"
    },
    {
     "name": "stdout",
     "output_type": "stream",
     "text": [
      "1.0 0.0\n"
     ]
    },
    {
     "data": {
      "text/markdown": [
       "#### Protected attribute names"
      ],
      "text/plain": [
       "<IPython.core.display.Markdown object>"
      ]
     },
     "metadata": {},
     "output_type": "display_data"
    },
    {
     "name": "stdout",
     "output_type": "stream",
     "text": [
      "['Candidate Gender']\n"
     ]
    },
    {
     "data": {
      "text/markdown": [
       "#### Privileged and unprivileged protected attribute values"
      ],
      "text/plain": [
       "<IPython.core.display.Markdown object>"
      ]
     },
     "metadata": {},
     "output_type": "display_data"
    },
    {
     "name": "stdout",
     "output_type": "stream",
     "text": [
      "[array([1.])] [array([0.])]\n"
     ]
    },
    {
     "data": {
      "text/markdown": [
       "#### Dataset feature names"
      ],
      "text/plain": [
       "<IPython.core.display.Markdown object>"
      ]
     },
     "metadata": {},
     "output_type": "display_data"
    },
    {
     "name": "stdout",
     "output_type": "stream",
     "text": [
      "['iq', 'ambition', 'interpersonal', 'creativity', 'fluid_iq', 'achievement', 'achievement_striving', 'agreeableness', 'benevolence', 'cog_flex', 'collectivism', 'core_self_evaluation', 'curiosity', 'extraversion', 'neuroticism', 'openness', 'self_discipline', 'total score', 'Candidate Gender']\n"
     ]
    }
   ],
   "source": [
    "# print out some labels, names, etc.\n",
    "display(Markdown(\"#### Training Dataset shape\"))\n",
    "print(original_training_dataset.features.shape)\n",
    "display(Markdown(\"#### Favorable and unfavorable labels\"))\n",
    "print(original_training_dataset.favorable_label, original_training_dataset.unfavorable_label)\n",
    "display(Markdown(\"#### Protected attribute names\"))\n",
    "print(original_training_dataset.protected_attribute_names)\n",
    "display(Markdown(\"#### Privileged and unprivileged protected attribute values\"))\n",
    "print(original_training_dataset.privileged_protected_attributes, \n",
    "      original_training_dataset.unprivileged_protected_attributes)\n",
    "display(Markdown(\"#### Dataset feature names\"))\n",
    "print(original_training_dataset.feature_names)"
   ]
  },
  {
   "cell_type": "code",
   "execution_count": 10,
   "metadata": {},
   "outputs": [],
   "source": [
    "index = original_training_dataset.feature_names.index('Candidate Gender')\n",
    "X_train = np.delete(original_training_dataset.features, index, axis=1)\n",
    "X_test = np.delete(original_test_dataset.features, index, axis=1)\n",
    "y_train = original_training_dataset.labels.ravel()\n",
    "y_test = original_test_dataset.labels.ravel()"
   ]
  },
  {
   "cell_type": "code",
   "execution_count": 11,
   "metadata": {},
   "outputs": [],
   "source": [
    "plain_lr = joblib.load('../input/plain-model/plain_lr_model.pkl') \n",
    "y_pred_lr = plain_lr.predict(X_test)\n",
    "\n",
    "plain_svc = joblib.load('../input/plain-model/plain_svc_model.pkl') \n",
    "y_pred_svc = plain_svc.predict(X_test)"
   ]
  },
  {
   "cell_type": "code",
   "execution_count": 12,
   "metadata": {},
   "outputs": [],
   "source": [
    "y_pred_lr_df = test.copy()\n",
    "y_pred_lr_df['Hired'] = y_pred_lr\n",
    "y_pred_svc_df = test.copy()\n",
    "y_pred_svc_df['Hired'] = y_pred_svc\n",
    "\n",
    "\n",
    "plain_predictions_test_dataset_lr = StandardDataset(y_pred_lr_df, \n",
    "                                                   label_name='Hired', \n",
    "                                                   favorable_classes=[favorable_label], \n",
    "                                                   protected_attribute_names=['Candidate Gender'], \n",
    "                                                   privileged_classes=[privileged_sex])\n",
    "plain_predictions_test_dataset_svc = StandardDataset(y_pred_svc_df, \n",
    "                                                   label_name='Hired', \n",
    "                                                   favorable_classes=[favorable_label], \n",
    "                                                   protected_attribute_names=['Candidate Gender'], \n",
    "                                                   privileged_classes=[privileged_sex])"
   ]
  },
  {
   "cell_type": "code",
   "execution_count": 13,
   "metadata": {},
   "outputs": [],
   "source": [
    "def print_metrics(classified_metric, title):\n",
    "\n",
    "    TPR = classified_metric.true_positive_rate()\n",
    "    TNR = classified_metric.true_negative_rate()\n",
    "    bal_acc = 0.5*(TPR+TNR)\n",
    "\n",
    "    print(title)\n",
    "    print(\"Test set: Classification accuracy = %f\" % classified_metric.accuracy())\n",
    "    print(\"Test set: Balanced classification accuracy = %f\" % bal_acc)\n",
    "    print(\"Test set: Statistical parity difference = %f\" % classified_metric.statistical_parity_difference())\n",
    "    print(\"Test set: Disparate impact = %f\" % classified_metric.disparate_impact())\n",
    "    print(\"Test set: Equal opportunity difference = %f\" % classified_metric.equal_opportunity_difference())\n",
    "    print(\"Test set: Average odds difference = %f\" % classified_metric.average_odds_difference())\n",
    "    print(\"Test set: Theil index = %f\" % classified_metric.theil_index())\n",
    "    print(\"Test set: False negative rate difference = %f\" % classified_metric.false_positive_rate_difference())\n",
    "    print()"
   ]
  },
  {
   "cell_type": "code",
   "execution_count": 14,
   "metadata": {},
   "outputs": [],
   "source": [
    "def produce_metrics_dataframe(classifier, algorithm, classified_metric):\n",
    "    \n",
    "    TPR = classified_metric.true_positive_rate()\n",
    "    TNR = classified_metric.true_negative_rate()\n",
    "    FPR = classified_metric.false_positive_rate()\n",
    "    bal_acc = 0.5*(TPR+TNR)\n",
    "    roc_auc = auc([0, FPR, 1], [0, TPR, 1])\n",
    "    \n",
    "    results = {'Classifier': classifier,\n",
    "            'Algorithm': algorithm,\n",
    "            'Classification accuracy': classified_metric.accuracy(),\n",
    "            'Balanced classification accuracy': bal_acc, \n",
    "            'Precision': classified_metric.precision(),\n",
    "            'Recall': classified_metric.recall(),\n",
    "            'F1 score': 2*classified_metric.precision()*classified_metric.recall()/(classified_metric.recall()+classified_metric.precision()),\n",
    "            'AUC': roc_auc,\n",
    "            'Statistical parity difference': classified_metric.statistical_parity_difference(),\n",
    "            'Disparate impact': classified_metric.disparate_impact(),\n",
    "            'Equal opportunity difference': classified_metric.equal_opportunity_difference(),\n",
    "            'Average odds difference': classified_metric.average_odds_difference(),\n",
    "            'False positive rate difference': classified_metric.false_positive_rate_difference()\n",
    "            }\n",
    "    return results"
   ]
  },
  {
   "cell_type": "code",
   "execution_count": 15,
   "metadata": {},
   "outputs": [],
   "source": [
    "def fair_metrics(dataset, pred, pred_is_dataset=False):\n",
    "    if pred_is_dataset:\n",
    "        dataset_pred = pred\n",
    "    else:\n",
    "        dataset_pred = dataset.copy()\n",
    "        dataset_pred.labels = pred\n",
    "    \n",
    "    cols = ['statistical_parity_difference', 'equal_opportunity_difference', 'average_abs_odds_difference',  'disparate_impact', 'false_positive_rate_difference']\n",
    "    obj_fairness = [[0,0,0,1,0]]\n",
    "    \n",
    "    fair_metrics = pd.DataFrame(data=obj_fairness, index=['objective'], columns=cols)\n",
    "    \n",
    "    for attr in dataset_pred.protected_attribute_names:\n",
    "        idx = dataset_pred.protected_attribute_names.index(attr)\n",
    "        privileged_groups =  [{attr:dataset_pred.privileged_protected_attributes[idx][0]}] \n",
    "        unprivileged_groups = [{attr:dataset_pred.unprivileged_protected_attributes[idx][0]}] \n",
    "        \n",
    "        classified_metric = ClassificationMetric(dataset, \n",
    "                                                     dataset_pred,\n",
    "                                                     unprivileged_groups=unprivileged_groups,\n",
    "                                                     privileged_groups=privileged_groups)\n",
    "\n",
    "        metric_pred = BinaryLabelDatasetMetric(dataset_pred,\n",
    "                                                     unprivileged_groups=unprivileged_groups,\n",
    "                                                     privileged_groups=privileged_groups)\n",
    "\n",
    "        acc = classified_metric.accuracy()\n",
    "\n",
    "        row = pd.DataFrame([[metric_pred.mean_difference(),\n",
    "                                classified_metric.equal_opportunity_difference(),\n",
    "                                classified_metric.average_abs_odds_difference(),\n",
    "                                metric_pred.disparate_impact(),\n",
    "                                classified_metric.false_positive_rate_difference()]],\n",
    "                           columns  = cols,\n",
    "                           index = [attr]\n",
    "                          )\n",
    "        fair_metrics = fair_metrics.append(row)    \n",
    "        \n",
    "    return fair_metrics\n",
    "\n",
    "def plot_fair_metrics(fair_metrics):\n",
    "    fig, ax = plt.subplots(figsize=(20,4), ncols=5, nrows=1)\n",
    "\n",
    "    plt.subplots_adjust(\n",
    "        left    =  0.125, \n",
    "        bottom  =  0.1, \n",
    "        right   =  0.9, \n",
    "        top     =  0.9, \n",
    "        wspace  =  .5, \n",
    "        hspace  =  1.1\n",
    "    )\n",
    "\n",
    "    y_title_margin = 1.2\n",
    "\n",
    "    plt.suptitle(\"Fairness metrics\", y = 1.09, fontsize=20)\n",
    "    sns.set(style=\"dark\")\n",
    "\n",
    "    cols = fair_metrics.columns.values\n",
    "    obj = fair_metrics.loc['objective']\n",
    "    size_rect = [0.2,0.2,0.2,0.4,0.2]\n",
    "    rect = [-0.1,-0.1,-0.1,0.8,-0.1]\n",
    "    bottom = [-1,-1,-1,0,-1]\n",
    "    top = [1,1,1,2,1]\n",
    "    bound = [[-0.1,0.1],[-0.1,0.1],[-0.1,0.1],[0.8,1.2],[-0.1,0.1]]\n",
    "\n",
    "    display(Markdown(\"### Check bias metrics :\"))\n",
    "    display(Markdown(\"A model can be considered bias if just one of these five metrics show that this model is biased.\"))\n",
    "    for attr in fair_metrics.index[1:3].values:\n",
    "        display(Markdown(\"#### For the %s attribute :\"%attr))\n",
    "        check = [bound[i][0] < fair_metrics.loc[attr][i] < bound[i][1] for i in range(0,5)]\n",
    "        display(Markdown(\"With default thresholds, bias against unprivileged group detected in **%d** out of 5 metrics\"%(5 - sum(check))))\n",
    "\n",
    "    for i in range(0,5):\n",
    "        plt.subplot(1, 5, i+1)\n",
    "        ax = sns.barplot(x=fair_metrics.index[1:3], y=fair_metrics.iloc[1:3][cols[i]])\n",
    "\n",
    "        for j in range(0,len(fair_metrics)-1):\n",
    "            a, val = ax.patches[j], fair_metrics.iloc[j+1][cols[i]]\n",
    "            marg = -0.2 if val < 0 else 0.1\n",
    "            ax.text(a.get_x()+a.get_width()/5, a.get_y()+a.get_height()+marg, round(val, 3), fontsize=15,color='black')\n",
    "\n",
    "        plt.ylim(bottom[i], top[i])\n",
    "        plt.setp(ax.patches, linewidth=0)\n",
    "        ax.add_patch(patches.Rectangle((-5,rect[i]), 10, size_rect[i], alpha=0.3, facecolor=\"green\", linewidth=1, linestyle='solid'))\n",
    "        plt.axhline(obj[i], color='black', alpha=0.3)\n",
    "        plt.title(cols[i])\n",
    "        ax.set_ylabel('')    \n",
    "        ax.set_xlabel('')\n",
    "        \n",
    "def get_fair_metrics_and_plot(data, pred, plot=True, model_aif=False):\n",
    "    # fair_metrics function available in the metrics.py file\n",
    "    fair = fair_metrics(data, pred)\n",
    "\n",
    "    if plot:\n",
    "        # plot_fair_metrics function available in the visualisations.py file\n",
    "        # The visualisation of this function is inspired by the dashboard on the demo of IBM aif360 \n",
    "        plot_fair_metrics(fair)\n",
    "        display(fair)\n",
    "    \n",
    "    return fair"
   ]
  },
  {
   "cell_type": "code",
   "execution_count": 16,
   "metadata": {},
   "outputs": [
    {
     "name": "stdout",
     "output_type": "stream",
     "text": [
      "Plain LR model - without debiasing - classification metrics\n",
      "Test set: Classification accuracy = 0.564575\n",
      "Test set: Balanced classification accuracy = 0.539511\n",
      "Test set: Statistical parity difference = -0.028409\n",
      "Test set: Disparate impact = 0.936281\n",
      "Test set: Equal opportunity difference = -0.140217\n",
      "Test set: Average odds difference = -0.083578\n",
      "Test set: Theil index = 0.065636\n",
      "Test set: False negative rate difference = -0.026938\n",
      "\n",
      "Plain SVM model - without debiasing - classification metrics\n",
      "Test set: Classification accuracy = 0.508057\n",
      "Test set: Balanced classification accuracy = 0.528972\n",
      "Test set: Statistical parity difference = -0.019760\n",
      "Test set: Disparate impact = 0.960503\n",
      "Test set: Equal opportunity difference = -0.119203\n",
      "Test set: Average odds difference = -0.068822\n",
      "Test set: Theil index = 0.063171\n",
      "Test set: False negative rate difference = -0.018441\n",
      "\n"
     ]
    }
   ],
   "source": [
    "classified_metric_nodebiasing_test_lr = ClassificationMetric(original_test_dataset,\n",
    "                                         plain_predictions_test_dataset_lr,\n",
    "                                         unprivileged_groups=unprivileged_groups,\n",
    "                                         privileged_groups=privileged_groups)\n",
    "print_metrics(classified_metric_nodebiasing_test_lr, \"Plain LR model - without debiasing - classification metrics\")\n",
    "\n",
    "classified_metric_nodebiasing_test_svc = ClassificationMetric(original_test_dataset,\n",
    "                                         plain_predictions_test_dataset_svc,\n",
    "                                         unprivileged_groups=unprivileged_groups,\n",
    "                                         privileged_groups=privileged_groups)\n",
    "print_metrics(classified_metric_nodebiasing_test_svc, \"Plain SVM model - without debiasing - classification metrics\")"
   ]
  },
  {
   "cell_type": "code",
   "execution_count": 17,
   "metadata": {},
   "outputs": [],
   "source": [
    "results_lr = produce_metrics_dataframe('LR', '/', classified_metric_nodebiasing_test_lr)\n",
    "results_svc = produce_metrics_dataframe('SVM', '/', classified_metric_nodebiasing_test_svc)\n",
    "results_df_lr = pd.DataFrame(results_lr, index = [0])\n",
    "results_df_svc = pd.DataFrame(results_svc, index = [0])\n",
    "results_df = pd.concat([results_df_lr, results_df_svc],ignore_index = True)"
   ]
  },
  {
   "cell_type": "code",
   "execution_count": 18,
   "metadata": {},
   "outputs": [
    {
     "data": {
      "text/markdown": [
       "### Bias metrics"
      ],
      "text/plain": [
       "<IPython.core.display.Markdown object>"
      ]
     },
     "metadata": {},
     "output_type": "display_data"
    },
    {
     "data": {
      "text/markdown": [
       "### Check bias metrics :"
      ],
      "text/plain": [
       "<IPython.core.display.Markdown object>"
      ]
     },
     "metadata": {},
     "output_type": "display_data"
    },
    {
     "data": {
      "text/markdown": [
       "A model can be considered bias if just one of these five metrics show that this model is biased."
      ],
      "text/plain": [
       "<IPython.core.display.Markdown object>"
      ]
     },
     "metadata": {},
     "output_type": "display_data"
    },
    {
     "data": {
      "text/markdown": [
       "#### For the Candidate Gender attribute :"
      ],
      "text/plain": [
       "<IPython.core.display.Markdown object>"
      ]
     },
     "metadata": {},
     "output_type": "display_data"
    },
    {
     "data": {
      "text/markdown": [
       "With default thresholds, bias against unprivileged group detected in **1** out of 5 metrics"
      ],
      "text/plain": [
       "<IPython.core.display.Markdown object>"
      ]
     },
     "metadata": {},
     "output_type": "display_data"
    },
    {
     "data": {
      "text/html": [
       "<div>\n",
       "<style scoped>\n",
       "    .dataframe tbody tr th:only-of-type {\n",
       "        vertical-align: middle;\n",
       "    }\n",
       "\n",
       "    .dataframe tbody tr th {\n",
       "        vertical-align: top;\n",
       "    }\n",
       "\n",
       "    .dataframe thead th {\n",
       "        text-align: right;\n",
       "    }\n",
       "</style>\n",
       "<table border=\"1\" class=\"dataframe\">\n",
       "  <thead>\n",
       "    <tr style=\"text-align: right;\">\n",
       "      <th></th>\n",
       "      <th>statistical_parity_difference</th>\n",
       "      <th>equal_opportunity_difference</th>\n",
       "      <th>average_abs_odds_difference</th>\n",
       "      <th>disparate_impact</th>\n",
       "      <th>false_positive_rate_difference</th>\n",
       "    </tr>\n",
       "  </thead>\n",
       "  <tbody>\n",
       "    <tr>\n",
       "      <th>objective</th>\n",
       "      <td>0.000000</td>\n",
       "      <td>0.000000</td>\n",
       "      <td>0.000000</td>\n",
       "      <td>1.000000</td>\n",
       "      <td>0.000000</td>\n",
       "    </tr>\n",
       "    <tr>\n",
       "      <th>Candidate Gender</th>\n",
       "      <td>-0.028409</td>\n",
       "      <td>-0.140217</td>\n",
       "      <td>0.083578</td>\n",
       "      <td>0.936281</td>\n",
       "      <td>-0.026938</td>\n",
       "    </tr>\n",
       "  </tbody>\n",
       "</table>\n",
       "</div>"
      ],
      "text/plain": [
       "                  statistical_parity_difference  equal_opportunity_difference  \\\n",
       "objective                              0.000000                      0.000000   \n",
       "Candidate Gender                      -0.028409                     -0.140217   \n",
       "\n",
       "                  average_abs_odds_difference  disparate_impact  \\\n",
       "objective                            0.000000          1.000000   \n",
       "Candidate Gender                     0.083578          0.936281   \n",
       "\n",
       "                  false_positive_rate_difference  \n",
       "objective                               0.000000  \n",
       "Candidate Gender                       -0.026938  "
      ]
     },
     "metadata": {},
     "output_type": "display_data"
    },
    {
     "data": {
      "image/png": "[encoded data removed]",
      "text/plain": [
       "<Figure size 1440x288 with 5 Axes>"
      ]
     },
     "metadata": {
      "needs_background": "light"
     },
     "output_type": "display_data"
    }
   ],
   "source": [
    "display(Markdown('### Bias metrics'))\n",
    "fair = get_fair_metrics_and_plot(original_test_dataset, y_pred_lr)"
   ]
  },
  {
   "cell_type": "code",
   "execution_count": 19,
   "metadata": {},
   "outputs": [
    {
     "data": {
      "text/markdown": [
       "### Bias metrics"
      ],
      "text/plain": [
       "<IPython.core.display.Markdown object>"
      ]
     },
     "metadata": {},
     "output_type": "display_data"
    },
    {
     "data": {
      "text/markdown": [
       "### Check bias metrics :"
      ],
      "text/plain": [
       "<IPython.core.display.Markdown object>"
      ]
     },
     "metadata": {},
     "output_type": "display_data"
    },
    {
     "data": {
      "text/markdown": [
       "A model can be considered bias if just one of these five metrics show that this model is biased."
      ],
      "text/plain": [
       "<IPython.core.display.Markdown object>"
      ]
     },
     "metadata": {},
     "output_type": "display_data"
    },
    {
     "data": {
      "text/markdown": [
       "#### For the Candidate Gender attribute :"
      ],
      "text/plain": [
       "<IPython.core.display.Markdown object>"
      ]
     },
     "metadata": {},
     "output_type": "display_data"
    },
    {
     "data": {
      "text/markdown": [
       "With default thresholds, bias against unprivileged group detected in **1** out of 5 metrics"
      ],
      "text/plain": [
       "<IPython.core.display.Markdown object>"
      ]
     },
     "metadata": {},
     "output_type": "display_data"
    },
    {
     "data": {
      "text/html": [
       "<div>\n",
       "<style scoped>\n",
       "    .dataframe tbody tr th:only-of-type {\n",
       "        vertical-align: middle;\n",
       "    }\n",
       "\n",
       "    .dataframe tbody tr th {\n",
       "        vertical-align: top;\n",
       "    }\n",
       "\n",
       "    .dataframe thead th {\n",
       "        text-align: right;\n",
       "    }\n",
       "</style>\n",
       "<table border=\"1\" class=\"dataframe\">\n",
       "  <thead>\n",
       "    <tr style=\"text-align: right;\">\n",
       "      <th></th>\n",
       "      <th>statistical_parity_difference</th>\n",
       "      <th>equal_opportunity_difference</th>\n",
       "      <th>average_abs_odds_difference</th>\n",
       "      <th>disparate_impact</th>\n",
       "      <th>false_positive_rate_difference</th>\n",
       "    </tr>\n",
       "  </thead>\n",
       "  <tbody>\n",
       "    <tr>\n",
       "      <th>objective</th>\n",
       "      <td>0.00000</td>\n",
       "      <td>0.000000</td>\n",
       "      <td>0.000000</td>\n",
       "      <td>1.000000</td>\n",
       "      <td>0.000000</td>\n",
       "    </tr>\n",
       "    <tr>\n",
       "      <th>Candidate Gender</th>\n",
       "      <td>-0.01976</td>\n",
       "      <td>-0.119203</td>\n",
       "      <td>0.068822</td>\n",
       "      <td>0.960503</td>\n",
       "      <td>-0.018441</td>\n",
       "    </tr>\n",
       "  </tbody>\n",
       "</table>\n",
       "</div>"
      ],
      "text/plain": [
       "                  statistical_parity_difference  equal_opportunity_difference  \\\n",
       "objective                               0.00000                      0.000000   \n",
       "Candidate Gender                       -0.01976                     -0.119203   \n",
       "\n",
       "                  average_abs_odds_difference  disparate_impact  \\\n",
       "objective                            0.000000          1.000000   \n",
       "Candidate Gender                     0.068822          0.960503   \n",
       "\n",
       "                  false_positive_rate_difference  \n",
       "objective                               0.000000  \n",
       "Candidate Gender                       -0.018441  "
      ]
     },
     "metadata": {},
     "output_type": "display_data"
    },
    {
     "data": {
      "image/png": "[encoded data removed]",
      "text/plain": [
       "<Figure size 1440x288 with 5 Axes>"
      ]
     },
     "metadata": {},
     "output_type": "display_data"
    }
   ],
   "source": [
    "display(Markdown('### Bias metrics'))\n",
    "fair = get_fair_metrics_and_plot(original_test_dataset, y_pred_svc)"
   ]
  },
  {
   "cell_type": "markdown",
   "metadata": {},
   "source": [
    "# Reweighing"
   ]
  },
  {
   "cell_type": "code",
   "execution_count": 20,
   "metadata": {},
   "outputs": [],
   "source": [
    "from aif360.algorithms.preprocessing import Reweighing\n",
    "RW = Reweighing(unprivileged_groups=unprivileged_groups,\n",
    "               privileged_groups=privileged_groups)\n",
    "RW.fit(original_training_dataset)\n",
    "transf_training_dataset = RW.transform(original_training_dataset)"
   ]
  },
  {
   "cell_type": "code",
   "execution_count": 21,
   "metadata": {},
   "outputs": [
    {
     "name": "stdout",
     "output_type": "stream",
     "text": [
      "Original training dataset:\n",
      "Difference in mean outcomes between privileged and unprivileged groups = 0.003375\n",
      "Transformed training dataset:\n",
      "Difference in mean outcomes between privileged and unprivileged groups = 0.000000\n"
     ]
    }
   ],
   "source": [
    "metric_orig_train = BinaryLabelDatasetMetric(original_training_dataset, \n",
    "                                             unprivileged_groups=unprivileged_groups,\n",
    "                                             privileged_groups=privileged_groups)\n",
    "metric_tranf_train = BinaryLabelDatasetMetric(transf_training_dataset, \n",
    "                                             unprivileged_groups=unprivileged_groups,\n",
    "                                             privileged_groups=privileged_groups)\n",
    "print(\"Original training dataset:\")\n",
    "print(\"Difference in mean outcomes between privileged and unprivileged groups = %f\" % metric_orig_train.mean_difference())\n",
    "print(\"Transformed training dataset:\")\n",
    "print(\"Difference in mean outcomes between privileged and unprivileged groups = %f\" % metric_tranf_train.mean_difference())"
   ]
  },
  {
   "cell_type": "code",
   "execution_count": 22,
   "metadata": {},
   "outputs": [
    {
     "name": "stdout",
     "output_type": "stream",
     "text": [
      "Original testing dataset:\n",
      "Difference in mean outcomes between privileged and unprivileged groups = 0.000747\n",
      "Transformed testing dataset:\n",
      "Difference in mean outcomes between privileged and unprivileged groups = -0.002535\n"
     ]
    }
   ],
   "source": [
    "metric_orig_test = BinaryLabelDatasetMetric(original_test_dataset, \n",
    "                                             unprivileged_groups=unprivileged_groups,\n",
    "                                             privileged_groups=privileged_groups)\n",
    "transf_test_dataset = RW.transform(original_test_dataset)\n",
    "metric_transf_test = BinaryLabelDatasetMetric(transf_test_dataset, \n",
    "                                             unprivileged_groups=unprivileged_groups,\n",
    "                                             privileged_groups=privileged_groups)\n",
    "print(\"Original testing dataset:\")\n",
    "print(\"Difference in mean outcomes between privileged and unprivileged groups = %f\" % metric_orig_test.mean_difference())\n",
    "print(\"Transformed testing dataset:\")\n",
    "print(\"Difference in mean outcomes between privileged and unprivileged groups = %f\" % metric_transf_test.mean_difference())"
   ]
  },
  {
   "cell_type": "code",
   "execution_count": 23,
   "metadata": {},
   "outputs": [
    {
     "name": "stdout",
     "output_type": "stream",
     "text": [
      "1.0021835306532874\n",
      "0.859306468283466\n",
      "0.9987605124366729\n",
      "1.10285182318588\n"
     ]
    }
   ],
   "source": [
    "new_weights = pd.DataFrame({'Candidate Gender': train['Candidate Gender'],\n",
    "              'Hired': train['Hired'],\n",
    "              'Original_weight': np.ones(shape=(train.shape[0],)),\n",
    "              'new_weight': transf_training_dataset.instance_weights})\n",
    "new_weights.reset_index()\n",
    "new_weights_00 = new_weights[(new_weights['Candidate Gender']==0)&(new_weights['Hired']==0)]\n",
    "new_weights_01 = new_weights[(new_weights['Candidate Gender']==0)&(new_weights['Hired']==1)]\n",
    "new_weights_10 = new_weights[(new_weights['Candidate Gender']==1)&(new_weights['Hired']==0)]\n",
    "new_weights_11 = new_weights[(new_weights['Candidate Gender']==1)&(new_weights['Hired']==1)]\n",
    "print(new_weights_00['new_weight'].iloc[0])\n",
    "print(new_weights_01['new_weight'].iloc[0])\n",
    "print(new_weights_10['new_weight'].iloc[0])\n",
    "print(new_weights_11['new_weight'].iloc[0])\n",
    "# new_weights.iloc[[1, 2, 3, 4], :]"
   ]
  },
  {
   "cell_type": "code",
   "execution_count": 24,
   "metadata": {},
   "outputs": [],
   "source": [
    "unbiased_lr = LogisticRegression(penalty='l2', C=1, class_weight={0:1,1:75})\n",
    "unbiased_lr.fit(X_train, y_train, sample_weight=transf_training_dataset.instance_weights)\n",
    "    \n",
    "y_pred_transf_lr = unbiased_lr.predict(X_test)"
   ]
  },
  {
   "cell_type": "code",
   "execution_count": 25,
   "metadata": {},
   "outputs": [],
   "source": [
    "unbiased_svc =  SVC(kernel = 'linear', C=1, class_weight={0:1,1:75})\n",
    "unbiased_svc.fit(X_train, y_train, sample_weight=transf_training_dataset.instance_weights)\n",
    "    \n",
    "y_pred_transf_svc = unbiased_svc.predict(X_test)"
   ]
  },
  {
   "cell_type": "code",
   "execution_count": 26,
   "metadata": {},
   "outputs": [],
   "source": [
    "y_pred_transf_lr_df = test.copy()\n",
    "y_pred_transf_lr_df['Hired'] = y_pred_transf_lr\n",
    "y_pred_transf_svc_df = test.copy()\n",
    "y_pred_transf_svc_df['Hired'] = y_pred_transf_svc\n",
    "\n",
    "\n",
    "transf_predictions_test_dataset_lr = StandardDataset(y_pred_transf_lr_df, \n",
    "                                                   label_name='Hired', \n",
    "                                                   favorable_classes=[favorable_label], \n",
    "                                                   protected_attribute_names=['Candidate Gender'], \n",
    "                                                   privileged_classes=[privileged_sex])\n",
    "transf_predictions_test_dataset_svc = StandardDataset(y_pred_transf_svc_df, \n",
    "                                                   label_name='Hired', \n",
    "                                                   favorable_classes=[favorable_label], \n",
    "                                                   protected_attribute_names=['Candidate Gender'], \n",
    "                                                   privileged_classes=[privileged_sex])\n",
    "\n",
    "classified_metric_reweighing_test_lr = ClassificationMetric(original_test_dataset, \n",
    "                                                 transf_predictions_test_dataset_lr,\n",
    "                                                 unprivileged_groups=unprivileged_groups,\n",
    "                                                 privileged_groups=privileged_groups)\n",
    "classified_metric_reweighing_test_svc = ClassificationMetric(original_test_dataset, \n",
    "                                                 transf_predictions_test_dataset_svc,\n",
    "                                                 unprivileged_groups=unprivileged_groups,\n",
    "                                                 privileged_groups=privileged_groups)\n",
    "\n"
   ]
  },
  {
   "cell_type": "code",
   "execution_count": 27,
   "metadata": {},
   "outputs": [],
   "source": [
    "results_lr = produce_metrics_dataframe('LR', 'Reweighing', classified_metric_reweighing_test_lr)\n",
    "results_svc = produce_metrics_dataframe('SVM', 'Reweighing', classified_metric_reweighing_test_svc)\n",
    "results_df_lr = pd.DataFrame(results_lr, index = [0])\n",
    "results_df_svc = pd.DataFrame(results_svc, index = [0])\n",
    "results_df = pd.concat([results_df, results_df_lr, results_df_svc],ignore_index = True)"
   ]
  },
  {
   "cell_type": "code",
   "execution_count": 28,
   "metadata": {},
   "outputs": [
    {
     "data": {
      "text/html": [
       "<div>\n",
       "<style scoped>\n",
       "    .dataframe tbody tr th:only-of-type {\n",
       "        vertical-align: middle;\n",
       "    }\n",
       "\n",
       "    .dataframe tbody tr th {\n",
       "        vertical-align: top;\n",
       "    }\n",
       "\n",
       "    .dataframe thead th {\n",
       "        text-align: right;\n",
       "    }\n",
       "</style>\n",
       "<table border=\"1\" class=\"dataframe\">\n",
       "  <thead>\n",
       "    <tr style=\"text-align: right;\">\n",
       "      <th></th>\n",
       "      <th>Classifier</th>\n",
       "      <th>Algorithm</th>\n",
       "      <th>Classification accuracy</th>\n",
       "      <th>Balanced classification accuracy</th>\n",
       "      <th>Precision</th>\n",
       "      <th>Recall</th>\n",
       "      <th>F1 score</th>\n",
       "      <th>AUC</th>\n",
       "      <th>Statistical parity difference</th>\n",
       "      <th>Disparate impact</th>\n",
       "      <th>Equal opportunity difference</th>\n",
       "      <th>Average odds difference</th>\n",
       "      <th>False positive rate difference</th>\n",
       "    </tr>\n",
       "  </thead>\n",
       "  <tbody>\n",
       "    <tr>\n",
       "      <th>0</th>\n",
       "      <td>LR</td>\n",
       "      <td>/</td>\n",
       "      <td>0.564575</td>\n",
       "      <td>0.539511</td>\n",
       "      <td>0.015686</td>\n",
       "      <td>0.513761</td>\n",
       "      <td>0.030443</td>\n",
       "      <td>0.539511</td>\n",
       "      <td>-0.028409</td>\n",
       "      <td>0.936281</td>\n",
       "      <td>-0.140217</td>\n",
       "      <td>-0.083578</td>\n",
       "      <td>-0.026938</td>\n",
       "    </tr>\n",
       "    <tr>\n",
       "      <th>1</th>\n",
       "      <td>SVM</td>\n",
       "      <td>/</td>\n",
       "      <td>0.508057</td>\n",
       "      <td>0.528972</td>\n",
       "      <td>0.014848</td>\n",
       "      <td>0.550459</td>\n",
       "      <td>0.028916</td>\n",
       "      <td>0.528972</td>\n",
       "      <td>-0.019760</td>\n",
       "      <td>0.960503</td>\n",
       "      <td>-0.119203</td>\n",
       "      <td>-0.068822</td>\n",
       "      <td>-0.018441</td>\n",
       "    </tr>\n",
       "    <tr>\n",
       "      <th>2</th>\n",
       "      <td>LR</td>\n",
       "      <td>Reweighing</td>\n",
       "      <td>0.563965</td>\n",
       "      <td>0.530151</td>\n",
       "      <td>0.015122</td>\n",
       "      <td>0.495413</td>\n",
       "      <td>0.029348</td>\n",
       "      <td>0.530151</td>\n",
       "      <td>-0.026997</td>\n",
       "      <td>0.939397</td>\n",
       "      <td>-0.071739</td>\n",
       "      <td>-0.049085</td>\n",
       "      <td>-0.026430</td>\n",
       "    </tr>\n",
       "    <tr>\n",
       "      <th>3</th>\n",
       "      <td>SVM</td>\n",
       "      <td>Reweighing</td>\n",
       "      <td>0.514038</td>\n",
       "      <td>0.527478</td>\n",
       "      <td>0.014787</td>\n",
       "      <td>0.541284</td>\n",
       "      <td>0.028788</td>\n",
       "      <td>0.527478</td>\n",
       "      <td>-0.021862</td>\n",
       "      <td>0.955816</td>\n",
       "      <td>-0.144203</td>\n",
       "      <td>-0.082215</td>\n",
       "      <td>-0.020228</td>\n",
       "    </tr>\n",
       "  </tbody>\n",
       "</table>\n",
       "</div>"
      ],
      "text/plain": [
       "  Classifier   Algorithm  Classification accuracy  \\\n",
       "0         LR           /                 0.564575   \n",
       "1        SVM           /                 0.508057   \n",
       "2         LR  Reweighing                 0.563965   \n",
       "3        SVM  Reweighing                 0.514038   \n",
       "\n",
       "   Balanced classification accuracy  Precision    Recall  F1 score       AUC  \\\n",
       "0                          0.539511   0.015686  0.513761  0.030443  0.539511   \n",
       "1                          0.528972   0.014848  0.550459  0.028916  0.528972   \n",
       "2                          0.530151   0.015122  0.495413  0.029348  0.530151   \n",
       "3                          0.527478   0.014787  0.541284  0.028788  0.527478   \n",
       "\n",
       "   Statistical parity difference  Disparate impact  \\\n",
       "0                      -0.028409          0.936281   \n",
       "1                      -0.019760          0.960503   \n",
       "2                      -0.026997          0.939397   \n",
       "3                      -0.021862          0.955816   \n",
       "\n",
       "   Equal opportunity difference  Average odds difference  \\\n",
       "0                     -0.140217                -0.083578   \n",
       "1                     -0.119203                -0.068822   \n",
       "2                     -0.071739                -0.049085   \n",
       "3                     -0.144203                -0.082215   \n",
       "\n",
       "   False positive rate difference  \n",
       "0                       -0.026938  \n",
       "1                       -0.018441  \n",
       "2                       -0.026430  \n",
       "3                       -0.020228  "
      ]
     },
     "execution_count": 28,
     "metadata": {},
     "output_type": "execute_result"
    }
   ],
   "source": [
    "results_df"
   ]
  },
  {
   "cell_type": "code",
   "execution_count": 29,
   "metadata": {},
   "outputs": [],
   "source": [
    "def fair_metrics(dataset, pred, dataset2, pred2, pred_is_dataset=False):\n",
    "    if pred_is_dataset:\n",
    "        dataset_pred = pred\n",
    "        dataset_pred2 = pred2\n",
    "    else:\n",
    "        dataset_pred = dataset.copy()\n",
    "        dataset_pred.labels = pred\n",
    "        dataset_pred2 = dataset2.copy()\n",
    "        dataset_pred2.labels = pred2\n",
    "    \n",
    "    cols = ['statistical_parity_difference', 'equal_opportunity_difference', 'average_abs_odds_difference',  'disparate_impact', 'false_positive_rate_difference']\n",
    "    obj_fairness = [[0,0,0,1,0]]\n",
    "    \n",
    "    fair_metrics = pd.DataFrame(data=obj_fairness, index=['objective'], columns=cols)\n",
    "    \n",
    "    for attr in dataset_pred.protected_attribute_names:\n",
    "        idx = dataset_pred.protected_attribute_names.index(attr)\n",
    "        privileged_groups =  [{attr:dataset_pred.privileged_protected_attributes[idx][0]}] \n",
    "        unprivileged_groups = [{attr:dataset_pred.unprivileged_protected_attributes[idx][0]}] \n",
    "        \n",
    "        classified_metric = ClassificationMetric(dataset, \n",
    "                                                     dataset_pred,\n",
    "                                                     unprivileged_groups=unprivileged_groups,\n",
    "                                                     privileged_groups=privileged_groups)\n",
    "\n",
    "        metric_pred = BinaryLabelDatasetMetric(dataset_pred,\n",
    "                                                     unprivileged_groups=unprivileged_groups,\n",
    "                                                     privileged_groups=privileged_groups)\n",
    "\n",
    "        acc = classified_metric.accuracy()\n",
    "\n",
    "        row = pd.DataFrame([[metric_pred.mean_difference(),\n",
    "                                classified_metric.equal_opportunity_difference(),\n",
    "                                classified_metric.average_abs_odds_difference(),\n",
    "                                metric_pred.disparate_impact(),\n",
    "                                classified_metric.false_positive_rate_difference()]],\n",
    "                           columns  = cols,\n",
    "                           index = ['before']\n",
    "                          )\n",
    "        fair_metrics = fair_metrics.append(row)\n",
    "\n",
    "    for attr in dataset_pred2.protected_attribute_names:\n",
    "        idx = dataset_pred2.protected_attribute_names.index(attr)\n",
    "        privileged_groups =  [{attr:dataset_pred2.privileged_protected_attributes[idx][0]}] \n",
    "        unprivileged_groups = [{attr:dataset_pred2.unprivileged_protected_attributes[idx][0]}] \n",
    "        \n",
    "        classified_metric = ClassificationMetric(dataset2, \n",
    "                                                     dataset_pred2,\n",
    "                                                     unprivileged_groups=unprivileged_groups,\n",
    "                                                     privileged_groups=privileged_groups)\n",
    "\n",
    "        metric_pred = BinaryLabelDatasetMetric(dataset_pred2,\n",
    "                                                     unprivileged_groups=unprivileged_groups,\n",
    "                                                     privileged_groups=privileged_groups)\n",
    "\n",
    "        acc = classified_metric.accuracy()\n",
    "\n",
    "        row = pd.DataFrame([[metric_pred.mean_difference(),\n",
    "                                classified_metric.equal_opportunity_difference(),\n",
    "                                classified_metric.average_abs_odds_difference(),\n",
    "                                metric_pred.disparate_impact(),\n",
    "                                classified_metric.false_positive_rate_difference()]],\n",
    "                           columns  = cols,\n",
    "                           index = ['after']\n",
    "                          )\n",
    "        fair_metrics = fair_metrics.append(row)\n",
    "        \n",
    "    return fair_metrics\n",
    "\n",
    "def plot_fair_metrics(fair_metrics):\n",
    "    fig, ax = plt.subplots(figsize=(20,4), ncols=5, nrows=1)\n",
    "\n",
    "    plt.subplots_adjust(\n",
    "        left    =  0.125, \n",
    "        bottom  =  0.1, \n",
    "        right   =  0.9, \n",
    "        top     =  0.9, \n",
    "        wspace  =  .5, \n",
    "        hspace  =  1.1\n",
    "    )\n",
    "\n",
    "    y_title_margin = 1.2\n",
    "\n",
    "    plt.suptitle(\"Fairness metrics\", y = 1.09, fontsize=20)\n",
    "    sns.set(style=\"dark\")\n",
    "\n",
    "    cols = fair_metrics.columns.values\n",
    "    obj = fair_metrics.loc['objective']\n",
    "    size_rect = [0.2,0.2,0.2,0.4,0.2]\n",
    "    rect = [-0.1,-0.1,-0.1,0.8,-0.1]\n",
    "    bottom = [-1,-1,-1,0,-1]\n",
    "    top = [1,1,1,2,1]\n",
    "    bound = [[-0.1,0.1],[-0.1,0.1],[-0.1,0.1],[0.8,1.2],[-0.1,0.1]]\n",
    "\n",
    "    display(Markdown(\"### Check bias metrics :\"))\n",
    "    display(Markdown(\"A model can be considered bias if just one of these five metrics show that this model is biased.\"))\n",
    "    for attr in fair_metrics.index[1:3].values:\n",
    "        display(Markdown(\"#### For the %s attribute :\"%attr))\n",
    "        check = [bound[i][0] < fair_metrics.loc[attr][i] < bound[i][1] for i in range(0,5)]\n",
    "        display(Markdown(\"With default thresholds, bias against unprivileged group detected in **%d** out of 5 metrics\"%(5 - sum(check))))\n",
    "\n",
    "\n",
    "    for i in range(0,5):\n",
    "        plt.subplot(1, 5, i+1)\n",
    "        ax = sns.barplot(x=fair_metrics.index[1:3], y=fair_metrics.iloc[1:3][cols[i]])\n",
    "        for j in range(0,len(fair_metrics)-1):\n",
    "            a, val = ax.patches[j], fair_metrics.iloc[j+1][cols[i]]\n",
    "            marg = -0.2 if val < 0 else 0.1\n",
    "            ax.text(a.get_x()+a.get_width()/5, a.get_y()+a.get_height()+marg, round(val, 3), fontsize=15,color='black')\n",
    "\n",
    "        plt.ylim(bottom[i], top[i])\n",
    "        plt.setp(ax.patches, linewidth=0)\n",
    "        ax.add_patch(patches.Rectangle((-5,rect[i]), 10, size_rect[i], alpha=0.3, facecolor=\"green\", linewidth=1, linestyle='solid'))\n",
    "        plt.axhline(obj[i], color='black', alpha=0.3)\n",
    "        plt.title(cols[i])\n",
    "        ax.set_ylabel('')    \n",
    "        ax.set_xlabel('')\n",
    "        \n",
    "def get_fair_metrics_and_plot(data, pred, data2, pred2, plot=True, model_aif=False):\n",
    "    # fair_metrics function available in the metrics.py file\n",
    "    fair = fair_metrics(data, pred, data2, pred2)\n",
    "\n",
    "    if plot:\n",
    "        # plot_fair_metrics function available in the visualisations.py file\n",
    "        # The visualisation of this function is inspired by the dashboard on the demo of IBM aif360 \n",
    "        plot_fair_metrics(fair)\n",
    "        display(fair)\n",
    "    \n",
    "    return fair"
   ]
  },
  {
   "cell_type": "code",
   "execution_count": 30,
   "metadata": {},
   "outputs": [
    {
     "data": {
      "text/markdown": [
       "### Bias metrics"
      ],
      "text/plain": [
       "<IPython.core.display.Markdown object>"
      ]
     },
     "metadata": {},
     "output_type": "display_data"
    },
    {
     "data": {
      "text/markdown": [
       "### Check bias metrics :"
      ],
      "text/plain": [
       "<IPython.core.display.Markdown object>"
      ]
     },
     "metadata": {},
     "output_type": "display_data"
    },
    {
     "data": {
      "text/markdown": [
       "A model can be considered bias if just one of these five metrics show that this model is biased."
      ],
      "text/plain": [
       "<IPython.core.display.Markdown object>"
      ]
     },
     "metadata": {},
     "output_type": "display_data"
    },
    {
     "data": {
      "text/markdown": [
       "#### For the before attribute :"
      ],
      "text/plain": [
       "<IPython.core.display.Markdown object>"
      ]
     },
     "metadata": {},
     "output_type": "display_data"
    },
    {
     "data": {
      "text/markdown": [
       "With default thresholds, bias against unprivileged group detected in **1** out of 5 metrics"
      ],
      "text/plain": [
       "<IPython.core.display.Markdown object>"
      ]
     },
     "metadata": {},
     "output_type": "display_data"
    },
    {
     "data": {
      "text/markdown": [
       "#### For the after attribute :"
      ],
      "text/plain": [
       "<IPython.core.display.Markdown object>"
      ]
     },
     "metadata": {},
     "output_type": "display_data"
    },
    {
     "data": {
      "text/markdown": [
       "With default thresholds, bias against unprivileged group detected in **0** out of 5 metrics"
      ],
      "text/plain": [
       "<IPython.core.display.Markdown object>"
      ]
     },
     "metadata": {},
     "output_type": "display_data"
    },
    {
     "data": {
      "text/html": [
       "<div>\n",
       "<style scoped>\n",
       "    .dataframe tbody tr th:only-of-type {\n",
       "        vertical-align: middle;\n",
       "    }\n",
       "\n",
       "    .dataframe tbody tr th {\n",
       "        vertical-align: top;\n",
       "    }\n",
       "\n",
       "    .dataframe thead th {\n",
       "        text-align: right;\n",
       "    }\n",
       "</style>\n",
       "<table border=\"1\" class=\"dataframe\">\n",
       "  <thead>\n",
       "    <tr style=\"text-align: right;\">\n",
       "      <th></th>\n",
       "      <th>statistical_parity_difference</th>\n",
       "      <th>equal_opportunity_difference</th>\n",
       "      <th>average_abs_odds_difference</th>\n",
       "      <th>disparate_impact</th>\n",
       "      <th>false_positive_rate_difference</th>\n",
       "    </tr>\n",
       "  </thead>\n",
       "  <tbody>\n",
       "    <tr>\n",
       "      <th>objective</th>\n",
       "      <td>0.000000</td>\n",
       "      <td>0.000000</td>\n",
       "      <td>0.000000</td>\n",
       "      <td>1.000000</td>\n",
       "      <td>0.000000</td>\n",
       "    </tr>\n",
       "    <tr>\n",
       "      <th>before</th>\n",
       "      <td>-0.028409</td>\n",
       "      <td>-0.140217</td>\n",
       "      <td>0.083578</td>\n",
       "      <td>0.936281</td>\n",
       "      <td>-0.026938</td>\n",
       "    </tr>\n",
       "    <tr>\n",
       "      <th>after</th>\n",
       "      <td>-0.026997</td>\n",
       "      <td>-0.071739</td>\n",
       "      <td>0.049085</td>\n",
       "      <td>0.939397</td>\n",
       "      <td>-0.026430</td>\n",
       "    </tr>\n",
       "  </tbody>\n",
       "</table>\n",
       "</div>"
      ],
      "text/plain": [
       "           statistical_parity_difference  equal_opportunity_difference  \\\n",
       "objective                       0.000000                      0.000000   \n",
       "before                         -0.028409                     -0.140217   \n",
       "after                          -0.026997                     -0.071739   \n",
       "\n",
       "           average_abs_odds_difference  disparate_impact  \\\n",
       "objective                     0.000000          1.000000   \n",
       "before                        0.083578          0.936281   \n",
       "after                         0.049085          0.939397   \n",
       "\n",
       "           false_positive_rate_difference  \n",
       "objective                        0.000000  \n",
       "before                          -0.026938  \n",
       "after                           -0.026430  "
      ]
     },
     "metadata": {},
     "output_type": "display_data"
    },
    {
     "data": {
      "image/png": "[encoded data removed]",
      "text/plain": [
       "<Figure size 1440x288 with 5 Axes>"
      ]
     },
     "metadata": {},
     "output_type": "display_data"
    }
   ],
   "source": [
    "display(Markdown('### Bias metrics'))\n",
    "fair_reweighing = get_fair_metrics_and_plot(original_test_dataset, y_pred_lr, original_test_dataset, y_pred_transf_lr)"
   ]
  },
  {
   "cell_type": "code",
   "execution_count": 31,
   "metadata": {},
   "outputs": [
    {
     "data": {
      "text/markdown": [
       "### Bias metrics"
      ],
      "text/plain": [
       "<IPython.core.display.Markdown object>"
      ]
     },
     "metadata": {},
     "output_type": "display_data"
    },
    {
     "data": {
      "text/markdown": [
       "### Check bias metrics :"
      ],
      "text/plain": [
       "<IPython.core.display.Markdown object>"
      ]
     },
     "metadata": {},
     "output_type": "display_data"
    },
    {
     "data": {
      "text/markdown": [
       "A model can be considered bias if just one of these five metrics show that this model is biased."
      ],
      "text/plain": [
       "<IPython.core.display.Markdown object>"
      ]
     },
     "metadata": {},
     "output_type": "display_data"
    },
    {
     "data": {
      "text/markdown": [
       "#### For the before attribute :"
      ],
      "text/plain": [
       "<IPython.core.display.Markdown object>"
      ]
     },
     "metadata": {},
     "output_type": "display_data"
    },
    {
     "data": {
      "text/markdown": [
       "With default thresholds, bias against unprivileged group detected in **1** out of 5 metrics"
      ],
      "text/plain": [
       "<IPython.core.display.Markdown object>"
      ]
     },
     "metadata": {},
     "output_type": "display_data"
    },
    {
     "data": {
      "text/markdown": [
       "#### For the after attribute :"
      ],
      "text/plain": [
       "<IPython.core.display.Markdown object>"
      ]
     },
     "metadata": {},
     "output_type": "display_data"
    },
    {
     "data": {
      "text/markdown": [
       "With default thresholds, bias against unprivileged group detected in **1** out of 5 metrics"
      ],
      "text/plain": [
       "<IPython.core.display.Markdown object>"
      ]
     },
     "metadata": {},
     "output_type": "display_data"
    },
    {
     "data": {
      "text/html": [
       "<div>\n",
       "<style scoped>\n",
       "    .dataframe tbody tr th:only-of-type {\n",
       "        vertical-align: middle;\n",
       "    }\n",
       "\n",
       "    .dataframe tbody tr th {\n",
       "        vertical-align: top;\n",
       "    }\n",
       "\n",
       "    .dataframe thead th {\n",
       "        text-align: right;\n",
       "    }\n",
       "</style>\n",
       "<table border=\"1\" class=\"dataframe\">\n",
       "  <thead>\n",
       "    <tr style=\"text-align: right;\">\n",
       "      <th></th>\n",
       "      <th>statistical_parity_difference</th>\n",
       "      <th>equal_opportunity_difference</th>\n",
       "      <th>average_abs_odds_difference</th>\n",
       "      <th>disparate_impact</th>\n",
       "      <th>false_positive_rate_difference</th>\n",
       "    </tr>\n",
       "  </thead>\n",
       "  <tbody>\n",
       "    <tr>\n",
       "      <th>objective</th>\n",
       "      <td>0.000000</td>\n",
       "      <td>0.000000</td>\n",
       "      <td>0.000000</td>\n",
       "      <td>1.000000</td>\n",
       "      <td>0.000000</td>\n",
       "    </tr>\n",
       "    <tr>\n",
       "      <th>before</th>\n",
       "      <td>-0.019760</td>\n",
       "      <td>-0.119203</td>\n",
       "      <td>0.068822</td>\n",
       "      <td>0.960503</td>\n",
       "      <td>-0.018441</td>\n",
       "    </tr>\n",
       "    <tr>\n",
       "      <th>after</th>\n",
       "      <td>-0.021862</td>\n",
       "      <td>-0.144203</td>\n",
       "      <td>0.082215</td>\n",
       "      <td>0.955816</td>\n",
       "      <td>-0.020228</td>\n",
       "    </tr>\n",
       "  </tbody>\n",
       "</table>\n",
       "</div>"
      ],
      "text/plain": [
       "           statistical_parity_difference  equal_opportunity_difference  \\\n",
       "objective                       0.000000                      0.000000   \n",
       "before                         -0.019760                     -0.119203   \n",
       "after                          -0.021862                     -0.144203   \n",
       "\n",
       "           average_abs_odds_difference  disparate_impact  \\\n",
       "objective                     0.000000          1.000000   \n",
       "before                        0.068822          0.960503   \n",
       "after                         0.082215          0.955816   \n",
       "\n",
       "           false_positive_rate_difference  \n",
       "objective                        0.000000  \n",
       "before                          -0.018441  \n",
       "after                           -0.020228  "
      ]
     },
     "metadata": {},
     "output_type": "display_data"
    },
    {
     "data": {
      "image/png": "[encoded data removed]",
      "text/plain": [
       "<Figure size 1440x288 with 5 Axes>"
      ]
     },
     "metadata": {},
     "output_type": "display_data"
    }
   ],
   "source": [
    "display(Markdown('### Bias metrics'))\n",
    "fair_reweighing = get_fair_metrics_and_plot(original_test_dataset, y_pred_svc, original_test_dataset, y_pred_transf_svc)"
   ]
  },
  {
   "cell_type": "markdown",
   "metadata": {},
   "source": [
    "# Disparate Impact Remover"
   ]
  },
  {
   "cell_type": "code",
   "execution_count": 32,
   "metadata": {},
   "outputs": [
    {
     "name": "stderr",
     "output_type": "stream",
     "text": [
      "100%|██████████| 11/11 [01:39<00:00,  8.93s/it]\n"
     ]
    }
   ],
   "source": [
    "from aif360.algorithms.preprocessing import DisparateImpactRemover\n",
    "\n",
    "index = original_training_dataset.feature_names.index('Candidate Gender')\n",
    "\n",
    "DI = []\n",
    "bal_acc = []\n",
    "for level in tqdm(np.linspace(0., 1., 11)):\n",
    "    di = DisparateImpactRemover(repair_level=level)\n",
    "    train_repd = di.fit_transform(original_training_dataset)\n",
    "    test_repd = di.fit_transform(original_test_dataset)\n",
    "    \n",
    "    X_tr = np.delete(train_repd.features, index, axis=1)\n",
    "    X_te = np.delete(test_repd.features, index, axis=1)\n",
    "    y_tr = train_repd.labels.ravel()\n",
    "    \n",
    "    lmod = LogisticRegression(penalty='l2', C=1, class_weight={0:1,1:75})\n",
    "    lmod.fit(X_tr, y_tr)\n",
    "    \n",
    "    test_repd_pred = test_repd.copy()\n",
    "    test_repd_pred.labels = lmod.predict(X_te)\n",
    "\n",
    "    cm = ClassificationMetric(test_repd,\n",
    "                             test_repd_pred,\n",
    "                             unprivileged_groups=unprivileged_groups,\n",
    "                             privileged_groups=privileged_groups)\n",
    "    DI.append(cm.disparate_impact())\n",
    "    TPR = cm.true_positive_rate()\n",
    "    TNR = cm.true_negative_rate()\n",
    "    acc = 0.5*(TPR+TNR)\n",
    "    bal_acc.append(acc)"
   ]
  },
  {
   "cell_type": "code",
   "execution_count": 33,
   "metadata": {},
   "outputs": [
    {
     "data": {
      "image/png": "[encoded data removed]",
      "text/plain": [
       "<Figure size 720x504 with 2 Axes>"
      ]
     },
     "metadata": {},
     "output_type": "display_data"
    }
   ],
   "source": [
    "fig, ax1 = plt.subplots(figsize=(10,7))\n",
    "ax1.plot(np.linspace(0, 1, 11), DI, marker='o')\n",
    "ax1.set_xlabel('Repair Level', fontsize=16, fontweight='bold')\n",
    "ax1.set_ylabel('Disparate Impact', color='b', fontsize=16, fontweight='bold')\n",
    "ax1.xaxis.set_tick_params(labelsize=14)\n",
    "ax1.yaxis.set_tick_params(labelsize=14)\n",
    "\n",
    "\n",
    "ax2 = ax1.twinx()\n",
    "ax2.plot(np.linspace(0, 1, 11), bal_acc, marker='o', color='r')\n",
    "ax2.set_ylabel('Balanced Accuracy', color='r', fontsize=16, fontweight='bold')\n",
    "ax2.yaxis.set_tick_params(labelsize=14)\n",
    "ax2.grid(True)"
   ]
  },
  {
   "cell_type": "code",
   "execution_count": 34,
   "metadata": {},
   "outputs": [],
   "source": [
    "DIR = DisparateImpactRemover(repair_level=0.4)\n",
    "transf_training_dataset = DIR.fit_transform(original_training_dataset)\n",
    "transf_test_dataset = DIR.fit_transform(original_test_dataset)"
   ]
  },
  {
   "cell_type": "code",
   "execution_count": 35,
   "metadata": {},
   "outputs": [
    {
     "data": {
      "text/html": [
       "<div>\n",
       "<style scoped>\n",
       "    .dataframe tbody tr th:only-of-type {\n",
       "        vertical-align: middle;\n",
       "    }\n",
       "\n",
       "    .dataframe tbody tr th {\n",
       "        vertical-align: top;\n",
       "    }\n",
       "\n",
       "    .dataframe thead th {\n",
       "        text-align: right;\n",
       "    }\n",
       "</style>\n",
       "<table border=\"1\" class=\"dataframe\">\n",
       "  <thead>\n",
       "    <tr style=\"text-align: right;\">\n",
       "      <th></th>\n",
       "      <th>iq</th>\n",
       "      <th>ambition</th>\n",
       "      <th>interpersonal</th>\n",
       "      <th>creativity</th>\n",
       "      <th>fluid_iq</th>\n",
       "      <th>achievement</th>\n",
       "      <th>achievement_striving</th>\n",
       "      <th>agreeableness</th>\n",
       "      <th>benevolence</th>\n",
       "      <th>cog_flex</th>\n",
       "      <th>collectivism</th>\n",
       "      <th>core_self_evaluation</th>\n",
       "      <th>curiosity</th>\n",
       "      <th>extraversion</th>\n",
       "      <th>neuroticism</th>\n",
       "      <th>openness</th>\n",
       "      <th>self_discipline</th>\n",
       "      <th>total score</th>\n",
       "      <th>Candidate Gender</th>\n",
       "      <th>Hired</th>\n",
       "    </tr>\n",
       "  </thead>\n",
       "  <tbody>\n",
       "    <tr>\n",
       "      <th>14056</th>\n",
       "      <td>-2.523867</td>\n",
       "      <td>-0.058443</td>\n",
       "      <td>1.162129</td>\n",
       "      <td>1.565253</td>\n",
       "      <td>-2.566492</td>\n",
       "      <td>0.157705</td>\n",
       "      <td>-0.022463</td>\n",
       "      <td>0.220669</td>\n",
       "      <td>-0.023060</td>\n",
       "      <td>0.593768</td>\n",
       "      <td>0.027558</td>\n",
       "      <td>0.035711</td>\n",
       "      <td>0.708425</td>\n",
       "      <td>0.187241</td>\n",
       "      <td>-1.586673</td>\n",
       "      <td>0.690745</td>\n",
       "      <td>-0.075060</td>\n",
       "      <td>24.0</td>\n",
       "      <td>0</td>\n",
       "      <td>0</td>\n",
       "    </tr>\n",
       "    <tr>\n",
       "      <th>28841</th>\n",
       "      <td>-2.461585</td>\n",
       "      <td>2.536760</td>\n",
       "      <td>1.949881</td>\n",
       "      <td>1.574910</td>\n",
       "      <td>-2.503158</td>\n",
       "      <td>0.524222</td>\n",
       "      <td>0.793407</td>\n",
       "      <td>0.374383</td>\n",
       "      <td>0.470029</td>\n",
       "      <td>0.502494</td>\n",
       "      <td>-0.017363</td>\n",
       "      <td>1.085790</td>\n",
       "      <td>0.742682</td>\n",
       "      <td>0.974141</td>\n",
       "      <td>-1.419788</td>\n",
       "      <td>0.755005</td>\n",
       "      <td>0.940248</td>\n",
       "      <td>85.0</td>\n",
       "      <td>0</td>\n",
       "      <td>0</td>\n",
       "    </tr>\n",
       "    <tr>\n",
       "      <th>19347</th>\n",
       "      <td>-2.410946</td>\n",
       "      <td>-0.893404</td>\n",
       "      <td>2.104757</td>\n",
       "      <td>1.572786</td>\n",
       "      <td>-2.451664</td>\n",
       "      <td>0.378321</td>\n",
       "      <td>-0.109868</td>\n",
       "      <td>0.589963</td>\n",
       "      <td>0.597826</td>\n",
       "      <td>0.596006</td>\n",
       "      <td>0.253685</td>\n",
       "      <td>-0.520146</td>\n",
       "      <td>0.805739</td>\n",
       "      <td>0.983120</td>\n",
       "      <td>-1.243320</td>\n",
       "      <td>0.607306</td>\n",
       "      <td>-0.366640</td>\n",
       "      <td>12.0</td>\n",
       "      <td>0</td>\n",
       "      <td>0</td>\n",
       "    </tr>\n",
       "    <tr>\n",
       "      <th>77486</th>\n",
       "      <td>-2.391987</td>\n",
       "      <td>0.684919</td>\n",
       "      <td>1.787170</td>\n",
       "      <td>1.326463</td>\n",
       "      <td>-2.432384</td>\n",
       "      <td>-0.017236</td>\n",
       "      <td>0.287508</td>\n",
       "      <td>0.823593</td>\n",
       "      <td>0.617694</td>\n",
       "      <td>0.592343</td>\n",
       "      <td>0.055885</td>\n",
       "      <td>0.226416</td>\n",
       "      <td>0.556964</td>\n",
       "      <td>0.587630</td>\n",
       "      <td>-1.255598</td>\n",
       "      <td>0.543268</td>\n",
       "      <td>0.245338</td>\n",
       "      <td>1.0</td>\n",
       "      <td>0</td>\n",
       "      <td>0</td>\n",
       "    </tr>\n",
       "    <tr>\n",
       "      <th>9913</th>\n",
       "      <td>-2.383519</td>\n",
       "      <td>1.663584</td>\n",
       "      <td>0.859122</td>\n",
       "      <td>1.411257</td>\n",
       "      <td>-2.423774</td>\n",
       "      <td>0.402582</td>\n",
       "      <td>0.478741</td>\n",
       "      <td>-0.441921</td>\n",
       "      <td>0.107710</td>\n",
       "      <td>0.580242</td>\n",
       "      <td>-0.155167</td>\n",
       "      <td>0.838280</td>\n",
       "      <td>0.778228</td>\n",
       "      <td>1.284102</td>\n",
       "      <td>-0.521417</td>\n",
       "      <td>0.451531</td>\n",
       "      <td>0.537771</td>\n",
       "      <td>1.0</td>\n",
       "      <td>0</td>\n",
       "      <td>0</td>\n",
       "    </tr>\n",
       "  </tbody>\n",
       "</table>\n",
       "</div>"
      ],
      "text/plain": [
       "             iq  ambition  interpersonal  creativity  fluid_iq  achievement  \\\n",
       "14056 -2.523867 -0.058443       1.162129    1.565253 -2.566492     0.157705   \n",
       "28841 -2.461585  2.536760       1.949881    1.574910 -2.503158     0.524222   \n",
       "19347 -2.410946 -0.893404       2.104757    1.572786 -2.451664     0.378321   \n",
       "77486 -2.391987  0.684919       1.787170    1.326463 -2.432384    -0.017236   \n",
       "9913  -2.383519  1.663584       0.859122    1.411257 -2.423774     0.402582   \n",
       "\n",
       "       achievement_striving  agreeableness  benevolence  cog_flex  \\\n",
       "14056             -0.022463       0.220669    -0.023060  0.593768   \n",
       "28841              0.793407       0.374383     0.470029  0.502494   \n",
       "19347             -0.109868       0.589963     0.597826  0.596006   \n",
       "77486              0.287508       0.823593     0.617694  0.592343   \n",
       "9913               0.478741      -0.441921     0.107710  0.580242   \n",
       "\n",
       "       collectivism  core_self_evaluation  curiosity  extraversion  \\\n",
       "14056      0.027558              0.035711   0.708425      0.187241   \n",
       "28841     -0.017363              1.085790   0.742682      0.974141   \n",
       "19347      0.253685             -0.520146   0.805739      0.983120   \n",
       "77486      0.055885              0.226416   0.556964      0.587630   \n",
       "9913      -0.155167              0.838280   0.778228      1.284102   \n",
       "\n",
       "       neuroticism  openness  self_discipline  total score  Candidate Gender  \\\n",
       "14056    -1.586673  0.690745        -0.075060         24.0                 0   \n",
       "28841    -1.419788  0.755005         0.940248         85.0                 0   \n",
       "19347    -1.243320  0.607306        -0.366640         12.0                 0   \n",
       "77486    -1.255598  0.543268         0.245338          1.0                 0   \n",
       "9913     -0.521417  0.451531         0.537771          1.0                 0   \n",
       "\n",
       "       Hired  \n",
       "14056      0  \n",
       "28841      0  \n",
       "19347      0  \n",
       "77486      0  \n",
       "9913       0  "
      ]
     },
     "execution_count": 35,
     "metadata": {},
     "output_type": "execute_result"
    }
   ],
   "source": [
    "train.columns.values.tolist()\n",
    "train_dir = pd.DataFrame(np.hstack([transf_training_dataset.features, transf_training_dataset.labels]),columns=train.columns.values.tolist())\n",
    "gender_0_orig = train.loc[train['Candidate Gender'] == 0]\n",
    "gender_0_transf = train_dir.loc[train_dir['Candidate Gender'] == 0]\n",
    "gender_0_orig.sort_values('iq')[:5]"
   ]
  },
  {
   "cell_type": "code",
   "execution_count": 36,
   "metadata": {},
   "outputs": [
    {
     "data": {
      "text/html": [
       "<div>\n",
       "<style scoped>\n",
       "    .dataframe tbody tr th:only-of-type {\n",
       "        vertical-align: middle;\n",
       "    }\n",
       "\n",
       "    .dataframe tbody tr th {\n",
       "        vertical-align: top;\n",
       "    }\n",
       "\n",
       "    .dataframe thead th {\n",
       "        text-align: right;\n",
       "    }\n",
       "</style>\n",
       "<table border=\"1\" class=\"dataframe\">\n",
       "  <thead>\n",
       "    <tr style=\"text-align: right;\">\n",
       "      <th></th>\n",
       "      <th>iq</th>\n",
       "      <th>ambition</th>\n",
       "      <th>interpersonal</th>\n",
       "      <th>creativity</th>\n",
       "      <th>fluid_iq</th>\n",
       "      <th>achievement</th>\n",
       "      <th>achievement_striving</th>\n",
       "      <th>agreeableness</th>\n",
       "      <th>benevolence</th>\n",
       "      <th>cog_flex</th>\n",
       "      <th>collectivism</th>\n",
       "      <th>core_self_evaluation</th>\n",
       "      <th>curiosity</th>\n",
       "      <th>extraversion</th>\n",
       "      <th>neuroticism</th>\n",
       "      <th>openness</th>\n",
       "      <th>self_discipline</th>\n",
       "      <th>total score</th>\n",
       "      <th>Candidate Gender</th>\n",
       "      <th>Hired</th>\n",
       "    </tr>\n",
       "  </thead>\n",
       "  <tbody>\n",
       "    <tr>\n",
       "      <th>372</th>\n",
       "      <td>-2.523867</td>\n",
       "      <td>-0.058443</td>\n",
       "      <td>1.154927</td>\n",
       "      <td>1.561969</td>\n",
       "      <td>-2.566492</td>\n",
       "      <td>0.157705</td>\n",
       "      <td>-0.031082</td>\n",
       "      <td>0.199940</td>\n",
       "      <td>-0.039433</td>\n",
       "      <td>0.591613</td>\n",
       "      <td>0.024074</td>\n",
       "      <td>0.034905</td>\n",
       "      <td>0.708275</td>\n",
       "      <td>0.165877</td>\n",
       "      <td>-1.604683</td>\n",
       "      <td>0.687300</td>\n",
       "      <td>-0.083844</td>\n",
       "      <td>24.0</td>\n",
       "      <td>0.0</td>\n",
       "      <td>0.0</td>\n",
       "    </tr>\n",
       "    <tr>\n",
       "      <th>2766</th>\n",
       "      <td>-2.461585</td>\n",
       "      <td>2.486993</td>\n",
       "      <td>1.949881</td>\n",
       "      <td>1.571687</td>\n",
       "      <td>-2.503158</td>\n",
       "      <td>0.524222</td>\n",
       "      <td>0.788076</td>\n",
       "      <td>0.360127</td>\n",
       "      <td>0.462550</td>\n",
       "      <td>0.499700</td>\n",
       "      <td>-0.020698</td>\n",
       "      <td>1.085790</td>\n",
       "      <td>0.742327</td>\n",
       "      <td>0.974141</td>\n",
       "      <td>-1.440834</td>\n",
       "      <td>0.753457</td>\n",
       "      <td>0.936490</td>\n",
       "      <td>85.0</td>\n",
       "      <td>0.0</td>\n",
       "      <td>0.0</td>\n",
       "    </tr>\n",
       "    <tr>\n",
       "      <th>2032</th>\n",
       "      <td>-2.410946</td>\n",
       "      <td>-0.893404</td>\n",
       "      <td>2.104757</td>\n",
       "      <td>1.569301</td>\n",
       "      <td>-2.451664</td>\n",
       "      <td>0.378321</td>\n",
       "      <td>-0.116970</td>\n",
       "      <td>0.577873</td>\n",
       "      <td>0.595233</td>\n",
       "      <td>0.594151</td>\n",
       "      <td>0.252994</td>\n",
       "      <td>-0.520146</td>\n",
       "      <td>0.805680</td>\n",
       "      <td>0.983120</td>\n",
       "      <td>-1.266032</td>\n",
       "      <td>0.601733</td>\n",
       "      <td>-0.377565</td>\n",
       "      <td>12.0</td>\n",
       "      <td>0.0</td>\n",
       "      <td>0.0</td>\n",
       "    </tr>\n",
       "    <tr>\n",
       "      <th>5023</th>\n",
       "      <td>-2.391987</td>\n",
       "      <td>0.677967</td>\n",
       "      <td>1.787170</td>\n",
       "      <td>1.321146</td>\n",
       "      <td>-2.432384</td>\n",
       "      <td>-0.017236</td>\n",
       "      <td>0.276703</td>\n",
       "      <td>0.814225</td>\n",
       "      <td>0.616652</td>\n",
       "      <td>0.590250</td>\n",
       "      <td>0.053907</td>\n",
       "      <td>0.225199</td>\n",
       "      <td>0.556964</td>\n",
       "      <td>0.585118</td>\n",
       "      <td>-1.280377</td>\n",
       "      <td>0.537862</td>\n",
       "      <td>0.239271</td>\n",
       "      <td>1.0</td>\n",
       "      <td>0.0</td>\n",
       "      <td>0.0</td>\n",
       "    </tr>\n",
       "    <tr>\n",
       "      <th>3955</th>\n",
       "      <td>-2.383519</td>\n",
       "      <td>1.656289</td>\n",
       "      <td>0.837472</td>\n",
       "      <td>1.406047</td>\n",
       "      <td>-2.423774</td>\n",
       "      <td>0.402582</td>\n",
       "      <td>0.468524</td>\n",
       "      <td>-0.467737</td>\n",
       "      <td>0.092690</td>\n",
       "      <td>0.578195</td>\n",
       "      <td>-0.157417</td>\n",
       "      <td>0.838280</td>\n",
       "      <td>0.777810</td>\n",
       "      <td>1.284102</td>\n",
       "      <td>-0.529267</td>\n",
       "      <td>0.444419</td>\n",
       "      <td>0.535129</td>\n",
       "      <td>1.0</td>\n",
       "      <td>0.0</td>\n",
       "      <td>0.0</td>\n",
       "    </tr>\n",
       "  </tbody>\n",
       "</table>\n",
       "</div>"
      ],
      "text/plain": [
       "            iq  ambition  interpersonal  creativity  fluid_iq  achievement  \\\n",
       "372  -2.523867 -0.058443       1.154927    1.561969 -2.566492     0.157705   \n",
       "2766 -2.461585  2.486993       1.949881    1.571687 -2.503158     0.524222   \n",
       "2032 -2.410946 -0.893404       2.104757    1.569301 -2.451664     0.378321   \n",
       "5023 -2.391987  0.677967       1.787170    1.321146 -2.432384    -0.017236   \n",
       "3955 -2.383519  1.656289       0.837472    1.406047 -2.423774     0.402582   \n",
       "\n",
       "      achievement_striving  agreeableness  benevolence  cog_flex  \\\n",
       "372              -0.031082       0.199940    -0.039433  0.591613   \n",
       "2766              0.788076       0.360127     0.462550  0.499700   \n",
       "2032             -0.116970       0.577873     0.595233  0.594151   \n",
       "5023              0.276703       0.814225     0.616652  0.590250   \n",
       "3955              0.468524      -0.467737     0.092690  0.578195   \n",
       "\n",
       "      collectivism  core_self_evaluation  curiosity  extraversion  \\\n",
       "372       0.024074              0.034905   0.708275      0.165877   \n",
       "2766     -0.020698              1.085790   0.742327      0.974141   \n",
       "2032      0.252994             -0.520146   0.805680      0.983120   \n",
       "5023      0.053907              0.225199   0.556964      0.585118   \n",
       "3955     -0.157417              0.838280   0.777810      1.284102   \n",
       "\n",
       "      neuroticism  openness  self_discipline  total score  Candidate Gender  \\\n",
       "372     -1.604683  0.687300        -0.083844         24.0               0.0   \n",
       "2766    -1.440834  0.753457         0.936490         85.0               0.0   \n",
       "2032    -1.266032  0.601733        -0.377565         12.0               0.0   \n",
       "5023    -1.280377  0.537862         0.239271          1.0               0.0   \n",
       "3955    -0.529267  0.444419         0.535129          1.0               0.0   \n",
       "\n",
       "      Hired  \n",
       "372     0.0  \n",
       "2766    0.0  \n",
       "2032    0.0  \n",
       "5023    0.0  \n",
       "3955    0.0  "
      ]
     },
     "execution_count": 36,
     "metadata": {},
     "output_type": "execute_result"
    }
   ],
   "source": [
    "gender_0_transf.sort_values('iq')[:5]"
   ]
  },
  {
   "cell_type": "code",
   "execution_count": 37,
   "metadata": {},
   "outputs": [
    {
     "data": {
      "text/plain": [
       "<matplotlib.axes._subplots.AxesSubplot at 0x7f79501577f0>"
      ]
     },
     "execution_count": 37,
     "metadata": {},
     "output_type": "execute_result"
    },
    {
     "data": {
      "image/png": "[encoded data removed]",
      "text/plain": [
       "<Figure size 432x288 with 1 Axes>"
      ]
     },
     "metadata": {},
     "output_type": "display_data"
    }
   ],
   "source": [
    "gender_1_orig = train.loc[train['Candidate Gender'] == 1]\n",
    "sns.distplot(train_dir['iq'], hist=False)\n",
    "sns.distplot(gender_0_orig['iq'], hist=False)\n",
    "sns.distplot(gender_1_orig['iq'], hist=False)"
   ]
  },
  {
   "cell_type": "code",
   "execution_count": 38,
   "metadata": {},
   "outputs": [],
   "source": [
    "index = transf_training_dataset.feature_names.index('Candidate Gender')\n",
    "X_tr = np.delete(transf_training_dataset.features, index, axis=1)\n",
    "X_te = np.delete(transf_test_dataset.features, index, axis=1)\n",
    "y_tr = transf_training_dataset.labels.ravel()\n",
    "\n",
    "unbiased_lr = LogisticRegression(penalty='l2', C=1, class_weight={0:1,1:75})\n",
    "unbiased_lr.fit(X_tr, y_tr)\n",
    "\n",
    "y_pred_transf_lr = unbiased_lr.predict(X_te)\n",
    "y_pred_transf_lr_df = test.copy()\n",
    "y_pred_transf_lr_df['Hired'] = y_pred_transf_lr\n",
    "\n",
    "\n",
    "transf_predictions_test_dataset_lr = StandardDataset(y_pred_transf_lr_df, \n",
    "                                                   label_name='Hired', \n",
    "                                                   favorable_classes=[favorable_label], \n",
    "                                                   protected_attribute_names=['Candidate Gender'], \n",
    "                                                   privileged_classes=[privileged_sex])\n",
    "\n",
    "classified_metric_dir_test_lr = ClassificationMetric(original_test_dataset, \n",
    "                                                 transf_predictions_test_dataset_lr,\n",
    "                                                 unprivileged_groups=unprivileged_groups,\n",
    "                                                 privileged_groups=privileged_groups)"
   ]
  },
  {
   "cell_type": "code",
   "execution_count": 39,
   "metadata": {},
   "outputs": [],
   "source": [
    "unbiased_svc = SVC(kernel='linear', C=1, class_weight={0:1,1:75})\n",
    "unbiased_svc.fit(X_tr, y_tr)\n",
    "    \n",
    "y_pred_transf_svc = unbiased_svc.predict(X_te)\n",
    "y_pred_transf_svc_df = test.copy()\n",
    "y_pred_transf_svc_df['Hired'] = y_pred_transf_svc\n",
    "\n",
    "transf_predictions_test_dataset_svc = StandardDataset(y_pred_transf_svc_df, \n",
    "                                                   label_name='Hired', \n",
    "                                                   favorable_classes=[favorable_label], \n",
    "                                                   protected_attribute_names=['Candidate Gender'], \n",
    "                                                   privileged_classes=[privileged_sex])\n",
    "\n",
    "classified_metric_dir_test_svc = ClassificationMetric(original_test_dataset, \n",
    "                                                 transf_predictions_test_dataset_svc,\n",
    "                                                 unprivileged_groups=unprivileged_groups,\n",
    "                                                 privileged_groups=privileged_groups)"
   ]
  },
  {
   "cell_type": "code",
   "execution_count": 40,
   "metadata": {},
   "outputs": [],
   "source": [
    "y_pred_transf_svc_df = test.copy()\n",
    "y_pred_transf_svc_df['Hired'] = y_pred_transf_svc\n",
    "\n",
    "transf_predictions_test_dataset_svc = StandardDataset(y_pred_transf_svc_df, \n",
    "                                                   label_name='Hired', \n",
    "                                                   favorable_classes=[favorable_label], \n",
    "                                                   protected_attribute_names=['Candidate Gender'], \n",
    "                                                   privileged_classes=[privileged_sex])\n",
    "\n",
    "classified_metric_dir_test_svc = ClassificationMetric(original_test_dataset, \n",
    "                                                 transf_predictions_test_dataset_svc,\n",
    "                                                 unprivileged_groups=unprivileged_groups,\n",
    "                                                 privileged_groups=privileged_groups)"
   ]
  },
  {
   "cell_type": "code",
   "execution_count": 41,
   "metadata": {},
   "outputs": [],
   "source": [
    "results_lr = produce_metrics_dataframe('LR', 'Disparate Impact Remover', classified_metric_dir_test_lr)\n",
    "results_svc = produce_metrics_dataframe('SVM', 'Disparate Impact Remover', classified_metric_dir_test_svc)\n",
    "results_df_lr = pd.DataFrame(results_lr, index = [0])\n",
    "results_df_svc = pd.DataFrame(results_svc, index = [0])\n",
    "results_df = pd.concat([results_df, results_df_lr, results_df_svc],ignore_index = True)"
   ]
  },
  {
   "cell_type": "code",
   "execution_count": 42,
   "metadata": {},
   "outputs": [
    {
     "data": {
      "text/html": [
       "<div>\n",
       "<style scoped>\n",
       "    .dataframe tbody tr th:only-of-type {\n",
       "        vertical-align: middle;\n",
       "    }\n",
       "\n",
       "    .dataframe tbody tr th {\n",
       "        vertical-align: top;\n",
       "    }\n",
       "\n",
       "    .dataframe thead th {\n",
       "        text-align: right;\n",
       "    }\n",
       "</style>\n",
       "<table border=\"1\" class=\"dataframe\">\n",
       "  <thead>\n",
       "    <tr style=\"text-align: right;\">\n",
       "      <th></th>\n",
       "      <th>Classifier</th>\n",
       "      <th>Algorithm</th>\n",
       "      <th>Classification accuracy</th>\n",
       "      <th>Balanced classification accuracy</th>\n",
       "      <th>Precision</th>\n",
       "      <th>Recall</th>\n",
       "      <th>F1 score</th>\n",
       "      <th>AUC</th>\n",
       "      <th>Statistical parity difference</th>\n",
       "      <th>Disparate impact</th>\n",
       "      <th>Equal opportunity difference</th>\n",
       "      <th>Average odds difference</th>\n",
       "      <th>False positive rate difference</th>\n",
       "    </tr>\n",
       "  </thead>\n",
       "  <tbody>\n",
       "    <tr>\n",
       "      <th>0</th>\n",
       "      <td>LR</td>\n",
       "      <td>/</td>\n",
       "      <td>0.564575</td>\n",
       "      <td>0.539511</td>\n",
       "      <td>0.015686</td>\n",
       "      <td>0.513761</td>\n",
       "      <td>0.030443</td>\n",
       "      <td>0.539511</td>\n",
       "      <td>-0.028409</td>\n",
       "      <td>0.936281</td>\n",
       "      <td>-0.140217</td>\n",
       "      <td>-0.083578</td>\n",
       "      <td>-0.026938</td>\n",
       "    </tr>\n",
       "    <tr>\n",
       "      <th>1</th>\n",
       "      <td>SVM</td>\n",
       "      <td>/</td>\n",
       "      <td>0.508057</td>\n",
       "      <td>0.528972</td>\n",
       "      <td>0.014848</td>\n",
       "      <td>0.550459</td>\n",
       "      <td>0.028916</td>\n",
       "      <td>0.528972</td>\n",
       "      <td>-0.019760</td>\n",
       "      <td>0.960503</td>\n",
       "      <td>-0.119203</td>\n",
       "      <td>-0.068822</td>\n",
       "      <td>-0.018441</td>\n",
       "    </tr>\n",
       "    <tr>\n",
       "      <th>2</th>\n",
       "      <td>LR</td>\n",
       "      <td>Reweighing</td>\n",
       "      <td>0.563965</td>\n",
       "      <td>0.530151</td>\n",
       "      <td>0.015122</td>\n",
       "      <td>0.495413</td>\n",
       "      <td>0.029348</td>\n",
       "      <td>0.530151</td>\n",
       "      <td>-0.026997</td>\n",
       "      <td>0.939397</td>\n",
       "      <td>-0.071739</td>\n",
       "      <td>-0.049085</td>\n",
       "      <td>-0.026430</td>\n",
       "    </tr>\n",
       "    <tr>\n",
       "      <th>3</th>\n",
       "      <td>SVM</td>\n",
       "      <td>Reweighing</td>\n",
       "      <td>0.514038</td>\n",
       "      <td>0.527478</td>\n",
       "      <td>0.014787</td>\n",
       "      <td>0.541284</td>\n",
       "      <td>0.028788</td>\n",
       "      <td>0.527478</td>\n",
       "      <td>-0.021862</td>\n",
       "      <td>0.955816</td>\n",
       "      <td>-0.144203</td>\n",
       "      <td>-0.082215</td>\n",
       "      <td>-0.020228</td>\n",
       "    </tr>\n",
       "    <tr>\n",
       "      <th>4</th>\n",
       "      <td>LR</td>\n",
       "      <td>Disparate Impact Remover</td>\n",
       "      <td>0.566528</td>\n",
       "      <td>0.513349</td>\n",
       "      <td>0.014116</td>\n",
       "      <td>0.458716</td>\n",
       "      <td>0.027390</td>\n",
       "      <td>0.513349</td>\n",
       "      <td>-0.003904</td>\n",
       "      <td>0.991000</td>\n",
       "      <td>-0.013768</td>\n",
       "      <td>-0.008778</td>\n",
       "      <td>-0.003789</td>\n",
       "    </tr>\n",
       "    <tr>\n",
       "      <th>5</th>\n",
       "      <td>SVM</td>\n",
       "      <td>Disparate Impact Remover</td>\n",
       "      <td>0.504028</td>\n",
       "      <td>0.522405</td>\n",
       "      <td>0.014489</td>\n",
       "      <td>0.541284</td>\n",
       "      <td>0.028223</td>\n",
       "      <td>0.522405</td>\n",
       "      <td>0.007471</td>\n",
       "      <td>1.015111</td>\n",
       "      <td>-0.183696</td>\n",
       "      <td>-0.086820</td>\n",
       "      <td>0.010056</td>\n",
       "    </tr>\n",
       "  </tbody>\n",
       "</table>\n",
       "</div>"
      ],
      "text/plain": [
       "  Classifier                 Algorithm  Classification accuracy  \\\n",
       "0         LR                         /                 0.564575   \n",
       "1        SVM                         /                 0.508057   \n",
       "2         LR                Reweighing                 0.563965   \n",
       "3        SVM                Reweighing                 0.514038   \n",
       "4         LR  Disparate Impact Remover                 0.566528   \n",
       "5        SVM  Disparate Impact Remover                 0.504028   \n",
       "\n",
       "   Balanced classification accuracy  Precision    Recall  F1 score       AUC  \\\n",
       "0                          0.539511   0.015686  0.513761  0.030443  0.539511   \n",
       "1                          0.528972   0.014848  0.550459  0.028916  0.528972   \n",
       "2                          0.530151   0.015122  0.495413  0.029348  0.530151   \n",
       "3                          0.527478   0.014787  0.541284  0.028788  0.527478   \n",
       "4                          0.513349   0.014116  0.458716  0.027390  0.513349   \n",
       "5                          0.522405   0.014489  0.541284  0.028223  0.522405   \n",
       "\n",
       "   Statistical parity difference  Disparate impact  \\\n",
       "0                      -0.028409          0.936281   \n",
       "1                      -0.019760          0.960503   \n",
       "2                      -0.026997          0.939397   \n",
       "3                      -0.021862          0.955816   \n",
       "4                      -0.003904          0.991000   \n",
       "5                       0.007471          1.015111   \n",
       "\n",
       "   Equal opportunity difference  Average odds difference  \\\n",
       "0                     -0.140217                -0.083578   \n",
       "1                     -0.119203                -0.068822   \n",
       "2                     -0.071739                -0.049085   \n",
       "3                     -0.144203                -0.082215   \n",
       "4                     -0.013768                -0.008778   \n",
       "5                     -0.183696                -0.086820   \n",
       "\n",
       "   False positive rate difference  \n",
       "0                       -0.026938  \n",
       "1                       -0.018441  \n",
       "2                       -0.026430  \n",
       "3                       -0.020228  \n",
       "4                       -0.003789  \n",
       "5                        0.010056  "
      ]
     },
     "execution_count": 42,
     "metadata": {},
     "output_type": "execute_result"
    }
   ],
   "source": [
    "results_df"
   ]
  },
  {
   "cell_type": "code",
   "execution_count": 43,
   "metadata": {},
   "outputs": [
    {
     "data": {
      "text/markdown": [
       "### Bias metrics"
      ],
      "text/plain": [
       "<IPython.core.display.Markdown object>"
      ]
     },
     "metadata": {},
     "output_type": "display_data"
    },
    {
     "data": {
      "text/markdown": [
       "### Check bias metrics :"
      ],
      "text/plain": [
       "<IPython.core.display.Markdown object>"
      ]
     },
     "metadata": {},
     "output_type": "display_data"
    },
    {
     "data": {
      "text/markdown": [
       "A model can be considered bias if just one of these five metrics show that this model is biased."
      ],
      "text/plain": [
       "<IPython.core.display.Markdown object>"
      ]
     },
     "metadata": {},
     "output_type": "display_data"
    },
    {
     "data": {
      "text/markdown": [
       "#### For the before attribute :"
      ],
      "text/plain": [
       "<IPython.core.display.Markdown object>"
      ]
     },
     "metadata": {},
     "output_type": "display_data"
    },
    {
     "data": {
      "text/markdown": [
       "With default thresholds, bias against unprivileged group detected in **1** out of 5 metrics"
      ],
      "text/plain": [
       "<IPython.core.display.Markdown object>"
      ]
     },
     "metadata": {},
     "output_type": "display_data"
    },
    {
     "data": {
      "text/markdown": [
       "#### For the after attribute :"
      ],
      "text/plain": [
       "<IPython.core.display.Markdown object>"
      ]
     },
     "metadata": {},
     "output_type": "display_data"
    },
    {
     "data": {
      "text/markdown": [
       "With default thresholds, bias against unprivileged group detected in **0** out of 5 metrics"
      ],
      "text/plain": [
       "<IPython.core.display.Markdown object>"
      ]
     },
     "metadata": {},
     "output_type": "display_data"
    },
    {
     "data": {
      "text/html": [
       "<div>\n",
       "<style scoped>\n",
       "    .dataframe tbody tr th:only-of-type {\n",
       "        vertical-align: middle;\n",
       "    }\n",
       "\n",
       "    .dataframe tbody tr th {\n",
       "        vertical-align: top;\n",
       "    }\n",
       "\n",
       "    .dataframe thead th {\n",
       "        text-align: right;\n",
       "    }\n",
       "</style>\n",
       "<table border=\"1\" class=\"dataframe\">\n",
       "  <thead>\n",
       "    <tr style=\"text-align: right;\">\n",
       "      <th></th>\n",
       "      <th>statistical_parity_difference</th>\n",
       "      <th>equal_opportunity_difference</th>\n",
       "      <th>average_abs_odds_difference</th>\n",
       "      <th>disparate_impact</th>\n",
       "      <th>false_positive_rate_difference</th>\n",
       "    </tr>\n",
       "  </thead>\n",
       "  <tbody>\n",
       "    <tr>\n",
       "      <th>objective</th>\n",
       "      <td>0.000000</td>\n",
       "      <td>0.000000</td>\n",
       "      <td>0.000000</td>\n",
       "      <td>1.000000</td>\n",
       "      <td>0.000000</td>\n",
       "    </tr>\n",
       "    <tr>\n",
       "      <th>before</th>\n",
       "      <td>-0.028409</td>\n",
       "      <td>-0.140217</td>\n",
       "      <td>0.083578</td>\n",
       "      <td>0.936281</td>\n",
       "      <td>-0.026938</td>\n",
       "    </tr>\n",
       "    <tr>\n",
       "      <th>after</th>\n",
       "      <td>-0.003904</td>\n",
       "      <td>-0.013768</td>\n",
       "      <td>0.008778</td>\n",
       "      <td>0.991000</td>\n",
       "      <td>-0.003789</td>\n",
       "    </tr>\n",
       "  </tbody>\n",
       "</table>\n",
       "</div>"
      ],
      "text/plain": [
       "           statistical_parity_difference  equal_opportunity_difference  \\\n",
       "objective                       0.000000                      0.000000   \n",
       "before                         -0.028409                     -0.140217   \n",
       "after                          -0.003904                     -0.013768   \n",
       "\n",
       "           average_abs_odds_difference  disparate_impact  \\\n",
       "objective                     0.000000          1.000000   \n",
       "before                        0.083578          0.936281   \n",
       "after                         0.008778          0.991000   \n",
       "\n",
       "           false_positive_rate_difference  \n",
       "objective                        0.000000  \n",
       "before                          -0.026938  \n",
       "after                           -0.003789  "
      ]
     },
     "metadata": {},
     "output_type": "display_data"
    },
    {
     "data": {
      "image/png": "[encoded data removed]",
      "text/plain": [
       "<Figure size 1440x288 with 5 Axes>"
      ]
     },
     "metadata": {},
     "output_type": "display_data"
    }
   ],
   "source": [
    "display(Markdown('### Bias metrics'))\n",
    "fair_reweighing = get_fair_metrics_and_plot(original_test_dataset, y_pred_lr, original_test_dataset, y_pred_transf_lr)"
   ]
  },
  {
   "cell_type": "code",
   "execution_count": 44,
   "metadata": {},
   "outputs": [
    {
     "data": {
      "text/markdown": [
       "### Bias metrics"
      ],
      "text/plain": [
       "<IPython.core.display.Markdown object>"
      ]
     },
     "metadata": {},
     "output_type": "display_data"
    },
    {
     "data": {
      "text/markdown": [
       "### Check bias metrics :"
      ],
      "text/plain": [
       "<IPython.core.display.Markdown object>"
      ]
     },
     "metadata": {},
     "output_type": "display_data"
    },
    {
     "data": {
      "text/markdown": [
       "A model can be considered bias if just one of these five metrics show that this model is biased."
      ],
      "text/plain": [
       "<IPython.core.display.Markdown object>"
      ]
     },
     "metadata": {},
     "output_type": "display_data"
    },
    {
     "data": {
      "text/markdown": [
       "#### For the before attribute :"
      ],
      "text/plain": [
       "<IPython.core.display.Markdown object>"
      ]
     },
     "metadata": {},
     "output_type": "display_data"
    },
    {
     "data": {
      "text/markdown": [
       "With default thresholds, bias against unprivileged group detected in **1** out of 5 metrics"
      ],
      "text/plain": [
       "<IPython.core.display.Markdown object>"
      ]
     },
     "metadata": {},
     "output_type": "display_data"
    },
    {
     "data": {
      "text/markdown": [
       "#### For the after attribute :"
      ],
      "text/plain": [
       "<IPython.core.display.Markdown object>"
      ]
     },
     "metadata": {},
     "output_type": "display_data"
    },
    {
     "data": {
      "text/markdown": [
       "With default thresholds, bias against unprivileged group detected in **1** out of 5 metrics"
      ],
      "text/plain": [
       "<IPython.core.display.Markdown object>"
      ]
     },
     "metadata": {},
     "output_type": "display_data"
    },
    {
     "data": {
      "text/html": [
       "<div>\n",
       "<style scoped>\n",
       "    .dataframe tbody tr th:only-of-type {\n",
       "        vertical-align: middle;\n",
       "    }\n",
       "\n",
       "    .dataframe tbody tr th {\n",
       "        vertical-align: top;\n",
       "    }\n",
       "\n",
       "    .dataframe thead th {\n",
       "        text-align: right;\n",
       "    }\n",
       "</style>\n",
       "<table border=\"1\" class=\"dataframe\">\n",
       "  <thead>\n",
       "    <tr style=\"text-align: right;\">\n",
       "      <th></th>\n",
       "      <th>statistical_parity_difference</th>\n",
       "      <th>equal_opportunity_difference</th>\n",
       "      <th>average_abs_odds_difference</th>\n",
       "      <th>disparate_impact</th>\n",
       "      <th>false_positive_rate_difference</th>\n",
       "    </tr>\n",
       "  </thead>\n",
       "  <tbody>\n",
       "    <tr>\n",
       "      <th>objective</th>\n",
       "      <td>0.000000</td>\n",
       "      <td>0.000000</td>\n",
       "      <td>0.000000</td>\n",
       "      <td>1.000000</td>\n",
       "      <td>0.000000</td>\n",
       "    </tr>\n",
       "    <tr>\n",
       "      <th>before</th>\n",
       "      <td>-0.019760</td>\n",
       "      <td>-0.119203</td>\n",
       "      <td>0.068822</td>\n",
       "      <td>0.960503</td>\n",
       "      <td>-0.018441</td>\n",
       "    </tr>\n",
       "    <tr>\n",
       "      <th>after</th>\n",
       "      <td>0.007471</td>\n",
       "      <td>-0.183696</td>\n",
       "      <td>0.096876</td>\n",
       "      <td>1.015111</td>\n",
       "      <td>0.010056</td>\n",
       "    </tr>\n",
       "  </tbody>\n",
       "</table>\n",
       "</div>"
      ],
      "text/plain": [
       "           statistical_parity_difference  equal_opportunity_difference  \\\n",
       "objective                       0.000000                      0.000000   \n",
       "before                         -0.019760                     -0.119203   \n",
       "after                           0.007471                     -0.183696   \n",
       "\n",
       "           average_abs_odds_difference  disparate_impact  \\\n",
       "objective                     0.000000          1.000000   \n",
       "before                        0.068822          0.960503   \n",
       "after                         0.096876          1.015111   \n",
       "\n",
       "           false_positive_rate_difference  \n",
       "objective                        0.000000  \n",
       "before                          -0.018441  \n",
       "after                            0.010056  "
      ]
     },
     "metadata": {},
     "output_type": "display_data"
    },
    {
     "data": {
      "image/png": "[encoded data removed]",
      "text/plain": [
       "<Figure size 1440x288 with 5 Axes>"
      ]
     },
     "metadata": {},
     "output_type": "display_data"
    }
   ],
   "source": [
    "display(Markdown('### Bias metrics'))\n",
    "fair_reweighing = get_fair_metrics_and_plot(original_test_dataset, y_pred_svc, original_test_dataset, y_pred_transf_svc)"
   ]
  },
  {
   "cell_type": "markdown",
   "metadata": {},
   "source": [
    "# Adversarial Debiasing"
   ]
  },
  {
   "cell_type": "code",
   "execution_count": 45,
   "metadata": {},
   "outputs": [
    {
     "name": "stderr",
     "output_type": "stream",
     "text": [
      "Using TensorFlow backend.\n"
     ]
    }
   ],
   "source": [
    "from imblearn.over_sampling import RandomOverSampler\n",
    "\n",
    "ros = RandomOverSampler()\n",
    "X_ros, y_ros = ros.fit_sample(original_training_dataset.features, original_training_dataset.labels.ravel())\n",
    "train_ros = pd.DataFrame(X_ros, columns = ['iq', 'ambition', 'interpersonal', 'creativity', 'fluid_iq', 'achievement', 'achievement_striving', 'agreeableness', 'benevolence', 'cog_flex', 'collectivism', 'core_self_evaluation', 'curiosity', 'extraversion', 'neuroticism', 'openness', 'self_discipline', 'total score', 'Candidate Gender'])\n",
    "train_ros['Hired'] = y_ros\n",
    "\n",
    "ros_training_dataset = StandardDataset(train_ros, \n",
    "                               label_name='Hired', \n",
    "                               favorable_classes=[favorable_label], \n",
    "                               protected_attribute_names=['Candidate Gender'], \n",
    "                               privileged_classes=[privileged_sex])"
   ]
  },
  {
   "cell_type": "code",
   "execution_count": 46,
   "metadata": {},
   "outputs": [
    {
     "name": "stdout",
     "output_type": "stream",
     "text": [
      "epoch 0; iter: 0; batch classifier loss: 2.606324; batch adversarial loss: 0.731426\n",
      "epoch 0; iter: 200; batch classifier loss: 0.727587; batch adversarial loss: 0.704163\n",
      "epoch 1; iter: 0; batch classifier loss: 0.725492; batch adversarial loss: 0.702076\n",
      "epoch 1; iter: 200; batch classifier loss: 0.696812; batch adversarial loss: 0.695940\n",
      "epoch 2; iter: 0; batch classifier loss: 0.662290; batch adversarial loss: 0.698187\n",
      "epoch 2; iter: 200; batch classifier loss: 0.665624; batch adversarial loss: 0.677557\n",
      "epoch 3; iter: 0; batch classifier loss: 0.653337; batch adversarial loss: 0.664070\n",
      "epoch 3; iter: 200; batch classifier loss: 0.613410; batch adversarial loss: 0.660962\n",
      "epoch 4; iter: 0; batch classifier loss: 0.687598; batch adversarial loss: 0.648033\n",
      "epoch 4; iter: 200; batch classifier loss: 0.629645; batch adversarial loss: 0.674261\n",
      "epoch 5; iter: 0; batch classifier loss: 0.620798; batch adversarial loss: 0.683532\n",
      "epoch 5; iter: 200; batch classifier loss: 0.646897; batch adversarial loss: 0.686227\n",
      "epoch 6; iter: 0; batch classifier loss: 0.649131; batch adversarial loss: 0.662429\n",
      "epoch 6; iter: 200; batch classifier loss: 0.620422; batch adversarial loss: 0.647869\n",
      "epoch 7; iter: 0; batch classifier loss: 0.672970; batch adversarial loss: 0.658467\n",
      "epoch 7; iter: 200; batch classifier loss: 0.585443; batch adversarial loss: 0.637368\n",
      "epoch 8; iter: 0; batch classifier loss: 0.589591; batch adversarial loss: 0.651598\n",
      "epoch 8; iter: 200; batch classifier loss: 0.571608; batch adversarial loss: 0.622555\n",
      "epoch 9; iter: 0; batch classifier loss: 0.617885; batch adversarial loss: 0.640300\n",
      "epoch 9; iter: 200; batch classifier loss: 0.584819; batch adversarial loss: 0.636369\n",
      "epoch 10; iter: 0; batch classifier loss: 0.578596; batch adversarial loss: 0.680656\n",
      "epoch 10; iter: 200; batch classifier loss: 0.633721; batch adversarial loss: 0.661063\n",
      "epoch 11; iter: 0; batch classifier loss: 0.639186; batch adversarial loss: 0.687153\n",
      "epoch 11; iter: 200; batch classifier loss: 0.546695; batch adversarial loss: 0.687359\n",
      "epoch 12; iter: 0; batch classifier loss: 0.619395; batch adversarial loss: 0.666514\n",
      "epoch 12; iter: 200; batch classifier loss: 0.633402; batch adversarial loss: 0.698794\n",
      "epoch 13; iter: 0; batch classifier loss: 0.563431; batch adversarial loss: 0.632185\n",
      "epoch 13; iter: 200; batch classifier loss: 0.607367; batch adversarial loss: 0.659170\n",
      "epoch 14; iter: 0; batch classifier loss: 0.611798; batch adversarial loss: 0.665350\n",
      "epoch 14; iter: 200; batch classifier loss: 0.525295; batch adversarial loss: 0.704891\n",
      "epoch 15; iter: 0; batch classifier loss: 0.599514; batch adversarial loss: 0.626930\n",
      "epoch 15; iter: 200; batch classifier loss: 0.626642; batch adversarial loss: 0.620224\n",
      "epoch 16; iter: 0; batch classifier loss: 0.643326; batch adversarial loss: 0.656544\n",
      "epoch 16; iter: 200; batch classifier loss: 0.573517; batch adversarial loss: 0.679181\n",
      "epoch 17; iter: 0; batch classifier loss: 0.567945; batch adversarial loss: 0.617968\n",
      "epoch 17; iter: 200; batch classifier loss: 0.578925; batch adversarial loss: 0.671836\n",
      "epoch 18; iter: 0; batch classifier loss: 0.599042; batch adversarial loss: 0.699716\n",
      "epoch 18; iter: 200; batch classifier loss: 0.543448; batch adversarial loss: 0.647635\n",
      "epoch 19; iter: 0; batch classifier loss: 0.603089; batch adversarial loss: 0.634112\n",
      "epoch 19; iter: 200; batch classifier loss: 0.628949; batch adversarial loss: 0.647198\n",
      "epoch 20; iter: 0; batch classifier loss: 0.619381; batch adversarial loss: 0.663088\n",
      "epoch 20; iter: 200; batch classifier loss: 0.593436; batch adversarial loss: 0.661202\n",
      "epoch 21; iter: 0; batch classifier loss: 0.572285; batch adversarial loss: 0.642247\n",
      "epoch 21; iter: 200; batch classifier loss: 0.574703; batch adversarial loss: 0.610096\n",
      "epoch 22; iter: 0; batch classifier loss: 0.503499; batch adversarial loss: 0.684358\n",
      "epoch 22; iter: 200; batch classifier loss: 0.539970; batch adversarial loss: 0.667629\n",
      "epoch 23; iter: 0; batch classifier loss: 0.542849; batch adversarial loss: 0.683391\n",
      "epoch 23; iter: 200; batch classifier loss: 0.595369; batch adversarial loss: 0.669122\n",
      "epoch 24; iter: 0; batch classifier loss: 0.591380; batch adversarial loss: 0.646815\n",
      "epoch 24; iter: 200; batch classifier loss: 0.593062; batch adversarial loss: 0.631139\n",
      "epoch 25; iter: 0; batch classifier loss: 0.543972; batch adversarial loss: 0.675782\n",
      "epoch 25; iter: 200; batch classifier loss: 0.597054; batch adversarial loss: 0.669857\n",
      "epoch 26; iter: 0; batch classifier loss: 0.596454; batch adversarial loss: 0.704297\n",
      "epoch 26; iter: 200; batch classifier loss: 0.556275; batch adversarial loss: 0.625371\n",
      "epoch 27; iter: 0; batch classifier loss: 0.606745; batch adversarial loss: 0.655973\n",
      "epoch 27; iter: 200; batch classifier loss: 0.544361; batch adversarial loss: 0.654125\n",
      "epoch 28; iter: 0; batch classifier loss: 0.539657; batch adversarial loss: 0.652814\n",
      "epoch 28; iter: 200; batch classifier loss: 0.613259; batch adversarial loss: 0.685215\n",
      "epoch 29; iter: 0; batch classifier loss: 0.519885; batch adversarial loss: 0.638218\n",
      "epoch 29; iter: 200; batch classifier loss: 0.537452; batch adversarial loss: 0.705350\n",
      "epoch 30; iter: 0; batch classifier loss: 0.573536; batch adversarial loss: 0.670110\n",
      "epoch 30; iter: 200; batch classifier loss: 0.519581; batch adversarial loss: 0.681711\n",
      "epoch 31; iter: 0; batch classifier loss: 0.535375; batch adversarial loss: 0.704686\n",
      "epoch 31; iter: 200; batch classifier loss: 0.588794; batch adversarial loss: 0.693643\n",
      "epoch 32; iter: 0; batch classifier loss: 0.565618; batch adversarial loss: 0.639520\n",
      "epoch 32; iter: 200; batch classifier loss: 0.551729; batch adversarial loss: 0.715396\n",
      "epoch 33; iter: 0; batch classifier loss: 0.563246; batch adversarial loss: 0.696105\n",
      "epoch 33; iter: 200; batch classifier loss: 0.583978; batch adversarial loss: 0.646265\n",
      "epoch 34; iter: 0; batch classifier loss: 0.555844; batch adversarial loss: 0.657920\n",
      "epoch 34; iter: 200; batch classifier loss: 0.555543; batch adversarial loss: 0.625441\n",
      "epoch 35; iter: 0; batch classifier loss: 0.502948; batch adversarial loss: 0.651717\n",
      "epoch 35; iter: 200; batch classifier loss: 0.566148; batch adversarial loss: 0.627183\n",
      "epoch 36; iter: 0; batch classifier loss: 0.538738; batch adversarial loss: 0.665617\n",
      "epoch 36; iter: 200; batch classifier loss: 0.532222; batch adversarial loss: 0.656696\n",
      "epoch 37; iter: 0; batch classifier loss: 0.580937; batch adversarial loss: 0.672956\n",
      "epoch 37; iter: 200; batch classifier loss: 0.495799; batch adversarial loss: 0.699405\n",
      "epoch 38; iter: 0; batch classifier loss: 0.556542; batch adversarial loss: 0.674214\n",
      "epoch 38; iter: 200; batch classifier loss: 0.523334; batch adversarial loss: 0.671309\n",
      "epoch 39; iter: 0; batch classifier loss: 0.565635; batch adversarial loss: 0.646247\n",
      "epoch 39; iter: 200; batch classifier loss: 0.569030; batch adversarial loss: 0.661728\n",
      "epoch 40; iter: 0; batch classifier loss: 0.519720; batch adversarial loss: 0.655671\n",
      "epoch 40; iter: 200; batch classifier loss: 0.583288; batch adversarial loss: 0.655484\n",
      "epoch 41; iter: 0; batch classifier loss: 0.526043; batch adversarial loss: 0.670981\n",
      "epoch 41; iter: 200; batch classifier loss: 0.512629; batch adversarial loss: 0.670320\n",
      "epoch 42; iter: 0; batch classifier loss: 0.546362; batch adversarial loss: 0.662073\n",
      "epoch 42; iter: 200; batch classifier loss: 0.509170; batch adversarial loss: 0.697507\n",
      "epoch 43; iter: 0; batch classifier loss: 0.434721; batch adversarial loss: 0.658017\n",
      "epoch 43; iter: 200; batch classifier loss: 0.563776; batch adversarial loss: 0.712169\n",
      "epoch 44; iter: 0; batch classifier loss: 0.517094; batch adversarial loss: 0.640296\n",
      "epoch 44; iter: 200; batch classifier loss: 0.567703; batch adversarial loss: 0.683706\n",
      "epoch 45; iter: 0; batch classifier loss: 0.469673; batch adversarial loss: 0.649055\n",
      "epoch 45; iter: 200; batch classifier loss: 0.556623; batch adversarial loss: 0.656907\n",
      "epoch 46; iter: 0; batch classifier loss: 0.511029; batch adversarial loss: 0.658027\n",
      "epoch 46; iter: 200; batch classifier loss: 0.508330; batch adversarial loss: 0.707732\n",
      "epoch 47; iter: 0; batch classifier loss: 0.533879; batch adversarial loss: 0.674930\n",
      "epoch 47; iter: 200; batch classifier loss: 0.543825; batch adversarial loss: 0.671316\n",
      "epoch 48; iter: 0; batch classifier loss: 0.525323; batch adversarial loss: 0.678781\n",
      "epoch 48; iter: 200; batch classifier loss: 0.532238; batch adversarial loss: 0.671434\n",
      "epoch 49; iter: 0; batch classifier loss: 0.554947; batch adversarial loss: 0.607316\n",
      "epoch 49; iter: 200; batch classifier loss: 0.485135; batch adversarial loss: 0.657049\n"
     ]
    }
   ],
   "source": [
    "from aif360.algorithms.inprocessing import AdversarialDebiasing\n",
    "\n",
    "tf.reset_default_graph()\n",
    "sess = tf.Session()\n",
    "\n",
    "AD = AdversarialDebiasing(unprivileged_groups=unprivileged_groups,\n",
    "                          privileged_groups=privileged_groups,\n",
    "                          scope_name=\"debiased_classifier\", \n",
    "                          debias=True, sess=sess) \n",
    "AD.fit(ros_training_dataset)\n",
    "y_pred_AD = AD.predict(original_test_dataset)"
   ]
  },
  {
   "cell_type": "code",
   "execution_count": 47,
   "metadata": {},
   "outputs": [
    {
     "name": "stdout",
     "output_type": "stream",
     "text": [
      "epoch 0; iter: 0; batch classifier loss: 1.095663\n",
      "epoch 0; iter: 200; batch classifier loss: 0.819639\n",
      "epoch 1; iter: 0; batch classifier loss: 0.692377\n",
      "epoch 1; iter: 200; batch classifier loss: 0.692611\n",
      "epoch 2; iter: 0; batch classifier loss: 0.631661\n",
      "epoch 2; iter: 200; batch classifier loss: 0.682273\n",
      "epoch 3; iter: 0; batch classifier loss: 0.632916\n",
      "epoch 3; iter: 200; batch classifier loss: 0.620544\n",
      "epoch 4; iter: 0; batch classifier loss: 0.626666\n",
      "epoch 4; iter: 200; batch classifier loss: 0.616850\n",
      "epoch 5; iter: 0; batch classifier loss: 0.587630\n",
      "epoch 5; iter: 200; batch classifier loss: 0.650993\n",
      "epoch 6; iter: 0; batch classifier loss: 0.599507\n",
      "epoch 6; iter: 200; batch classifier loss: 0.540146\n",
      "epoch 7; iter: 0; batch classifier loss: 0.595495\n",
      "epoch 7; iter: 200; batch classifier loss: 0.609529\n",
      "epoch 8; iter: 0; batch classifier loss: 0.550247\n",
      "epoch 8; iter: 200; batch classifier loss: 0.591443\n",
      "epoch 9; iter: 0; batch classifier loss: 0.609168\n",
      "epoch 9; iter: 200; batch classifier loss: 0.579652\n",
      "epoch 10; iter: 0; batch classifier loss: 0.620191\n",
      "epoch 10; iter: 200; batch classifier loss: 0.592662\n",
      "epoch 11; iter: 0; batch classifier loss: 0.597996\n",
      "epoch 11; iter: 200; batch classifier loss: 0.553032\n",
      "epoch 12; iter: 0; batch classifier loss: 0.524997\n",
      "epoch 12; iter: 200; batch classifier loss: 0.575580\n",
      "epoch 13; iter: 0; batch classifier loss: 0.533309\n",
      "epoch 13; iter: 200; batch classifier loss: 0.548232\n",
      "epoch 14; iter: 0; batch classifier loss: 0.633242\n",
      "epoch 14; iter: 200; batch classifier loss: 0.552815\n",
      "epoch 15; iter: 0; batch classifier loss: 0.595514\n",
      "epoch 15; iter: 200; batch classifier loss: 0.541702\n",
      "epoch 16; iter: 0; batch classifier loss: 0.594045\n",
      "epoch 16; iter: 200; batch classifier loss: 0.673224\n",
      "epoch 17; iter: 0; batch classifier loss: 0.550192\n",
      "epoch 17; iter: 200; batch classifier loss: 0.563277\n",
      "epoch 18; iter: 0; batch classifier loss: 0.486159\n",
      "epoch 18; iter: 200; batch classifier loss: 0.484424\n",
      "epoch 19; iter: 0; batch classifier loss: 0.540046\n",
      "epoch 19; iter: 200; batch classifier loss: 0.571268\n",
      "epoch 20; iter: 0; batch classifier loss: 0.594130\n",
      "epoch 20; iter: 200; batch classifier loss: 0.529396\n",
      "epoch 21; iter: 0; batch classifier loss: 0.549948\n",
      "epoch 21; iter: 200; batch classifier loss: 0.522260\n",
      "epoch 22; iter: 0; batch classifier loss: 0.495542\n",
      "epoch 22; iter: 200; batch classifier loss: 0.515526\n",
      "epoch 23; iter: 0; batch classifier loss: 0.563744\n",
      "epoch 23; iter: 200; batch classifier loss: 0.571558\n",
      "epoch 24; iter: 0; batch classifier loss: 0.564369\n",
      "epoch 24; iter: 200; batch classifier loss: 0.490053\n",
      "epoch 25; iter: 0; batch classifier loss: 0.529448\n",
      "epoch 25; iter: 200; batch classifier loss: 0.493623\n",
      "epoch 26; iter: 0; batch classifier loss: 0.521540\n",
      "epoch 26; iter: 200; batch classifier loss: 0.568287\n",
      "epoch 27; iter: 0; batch classifier loss: 0.569295\n",
      "epoch 27; iter: 200; batch classifier loss: 0.537539\n",
      "epoch 28; iter: 0; batch classifier loss: 0.471235\n",
      "epoch 28; iter: 200; batch classifier loss: 0.508026\n",
      "epoch 29; iter: 0; batch classifier loss: 0.469295\n",
      "epoch 29; iter: 200; batch classifier loss: 0.566881\n",
      "epoch 30; iter: 0; batch classifier loss: 0.496930\n",
      "epoch 30; iter: 200; batch classifier loss: 0.613500\n",
      "epoch 31; iter: 0; batch classifier loss: 0.536423\n",
      "epoch 31; iter: 200; batch classifier loss: 0.447617\n",
      "epoch 32; iter: 0; batch classifier loss: 0.576625\n",
      "epoch 32; iter: 200; batch classifier loss: 0.558887\n",
      "epoch 33; iter: 0; batch classifier loss: 0.530726\n",
      "epoch 33; iter: 200; batch classifier loss: 0.501672\n",
      "epoch 34; iter: 0; batch classifier loss: 0.470392\n",
      "epoch 34; iter: 200; batch classifier loss: 0.533485\n",
      "epoch 35; iter: 0; batch classifier loss: 0.477329\n",
      "epoch 35; iter: 200; batch classifier loss: 0.453743\n",
      "epoch 36; iter: 0; batch classifier loss: 0.521515\n",
      "epoch 36; iter: 200; batch classifier loss: 0.483729\n",
      "epoch 37; iter: 0; batch classifier loss: 0.511266\n",
      "epoch 37; iter: 200; batch classifier loss: 0.488466\n",
      "epoch 38; iter: 0; batch classifier loss: 0.471476\n",
      "epoch 38; iter: 200; batch classifier loss: 0.453007\n",
      "epoch 39; iter: 0; batch classifier loss: 0.550060\n",
      "epoch 39; iter: 200; batch classifier loss: 0.365691\n",
      "epoch 40; iter: 0; batch classifier loss: 0.502131\n",
      "epoch 40; iter: 200; batch classifier loss: 0.434692\n",
      "epoch 41; iter: 0; batch classifier loss: 0.526789\n",
      "epoch 41; iter: 200; batch classifier loss: 0.524808\n",
      "epoch 42; iter: 0; batch classifier loss: 0.537589\n",
      "epoch 42; iter: 200; batch classifier loss: 0.500021\n",
      "epoch 43; iter: 0; batch classifier loss: 0.511512\n",
      "epoch 43; iter: 200; batch classifier loss: 0.515983\n",
      "epoch 44; iter: 0; batch classifier loss: 0.531355\n",
      "epoch 44; iter: 200; batch classifier loss: 0.438557\n",
      "epoch 45; iter: 0; batch classifier loss: 0.481453\n",
      "epoch 45; iter: 200; batch classifier loss: 0.503640\n",
      "epoch 46; iter: 0; batch classifier loss: 0.542825\n",
      "epoch 46; iter: 200; batch classifier loss: 0.494482\n",
      "epoch 47; iter: 0; batch classifier loss: 0.439658\n",
      "epoch 47; iter: 200; batch classifier loss: 0.437439\n",
      "epoch 48; iter: 0; batch classifier loss: 0.483268\n",
      "epoch 48; iter: 200; batch classifier loss: 0.495244\n",
      "epoch 49; iter: 0; batch classifier loss: 0.484626\n",
      "epoch 49; iter: 200; batch classifier loss: 0.389358\n"
     ]
    }
   ],
   "source": [
    "sess.close()\n",
    "tf.reset_default_graph()\n",
    "sess = tf.Session()\n",
    "plain_model = AdversarialDebiasing(privileged_groups = privileged_groups,\n",
    "                          unprivileged_groups = unprivileged_groups,\n",
    "                          scope_name='plain_classifier',\n",
    "                          debias=False, sess=sess)\n",
    "plain_model.fit(ros_training_dataset)\n",
    "y_pred_plain = plain_model.predict(original_test_dataset)"
   ]
  },
  {
   "cell_type": "code",
   "execution_count": 48,
   "metadata": {},
   "outputs": [
    {
     "name": "stdout",
     "output_type": "stream",
     "text": [
      "Plain model - without debiasing - classification metrics\n",
      "Test set: Classification accuracy = 0.692871\n",
      "Test set: Balanced classification accuracy = 0.527594\n",
      "Test set: Statistical parity difference = 0.026684\n",
      "Test set: Disparate impact = 1.090794\n",
      "Test set: Equal opportunity difference = 0.066667\n",
      "Test set: Average odds difference = 0.046381\n",
      "Test set: Theil index = 0.066190\n",
      "Test set: False negative rate difference = 0.026095\n",
      "\n",
      "model - with adversarial debiasing - classification metrics\n",
      "Test set: Classification accuracy = 0.683838\n",
      "Test set: Balanced classification accuracy = 0.541118\n",
      "Test set: Statistical parity difference = 0.019725\n",
      "Test set: Disparate impact = 1.064384\n",
      "Test set: Equal opportunity difference = -0.030797\n",
      "Test set: Average odds difference = -0.005221\n",
      "Test set: Theil index = 0.066143\n",
      "Test set: False negative rate difference = 0.020355\n",
      "\n"
     ]
    }
   ],
   "source": [
    "classified_metric_noadversarialdebiasing_test = ClassificationMetric(original_test_dataset, \n",
    "                                                 y_pred_plain,\n",
    "                                                 unprivileged_groups=unprivileged_groups,\n",
    "                                                 privileged_groups=privileged_groups)\n",
    "classified_metric_adversarialdebiasing_test = ClassificationMetric(original_test_dataset, \n",
    "                                                 y_pred_AD,\n",
    "                                                 unprivileged_groups=unprivileged_groups,\n",
    "                                                 privileged_groups=privileged_groups)\n",
    "\n",
    "print_metrics(classified_metric_noadversarialdebiasing_test, \"Plain model - without debiasing - classification metrics\")\n",
    "print_metrics(classified_metric_adversarialdebiasing_test, \"model - with adversarial debiasing - classification metrics\")"
   ]
  },
  {
   "cell_type": "code",
   "execution_count": 49,
   "metadata": {},
   "outputs": [],
   "source": [
    "results_plain = produce_metrics_dataframe('/', 'no Adversarial Debiasing', classified_metric_noadversarialdebiasing_test)\n",
    "results_ad = produce_metrics_dataframe('/', 'Adversarial Debiasing', classified_metric_adversarialdebiasing_test)\n",
    "results_df_plain = pd.DataFrame(results_plain, index = [0])\n",
    "results_df_ad = pd.DataFrame(results_ad, index = [0])\n",
    "results_df = pd.concat([results_df, results_df_plain, results_df_ad],ignore_index = True)"
   ]
  },
  {
   "cell_type": "code",
   "execution_count": 50,
   "metadata": {},
   "outputs": [
    {
     "data": {
      "text/html": [
       "<div>\n",
       "<style scoped>\n",
       "    .dataframe tbody tr th:only-of-type {\n",
       "        vertical-align: middle;\n",
       "    }\n",
       "\n",
       "    .dataframe tbody tr th {\n",
       "        vertical-align: top;\n",
       "    }\n",
       "\n",
       "    .dataframe thead th {\n",
       "        text-align: right;\n",
       "    }\n",
       "</style>\n",
       "<table border=\"1\" class=\"dataframe\">\n",
       "  <thead>\n",
       "    <tr style=\"text-align: right;\">\n",
       "      <th></th>\n",
       "      <th>Classifier</th>\n",
       "      <th>Algorithm</th>\n",
       "      <th>Classification accuracy</th>\n",
       "      <th>Balanced classification accuracy</th>\n",
       "      <th>Precision</th>\n",
       "      <th>Recall</th>\n",
       "      <th>F1 score</th>\n",
       "      <th>AUC</th>\n",
       "      <th>Statistical parity difference</th>\n",
       "      <th>Disparate impact</th>\n",
       "      <th>Equal opportunity difference</th>\n",
       "      <th>Average odds difference</th>\n",
       "      <th>False positive rate difference</th>\n",
       "    </tr>\n",
       "  </thead>\n",
       "  <tbody>\n",
       "    <tr>\n",
       "      <th>0</th>\n",
       "      <td>LR</td>\n",
       "      <td>/</td>\n",
       "      <td>0.564575</td>\n",
       "      <td>0.539511</td>\n",
       "      <td>0.015686</td>\n",
       "      <td>0.513761</td>\n",
       "      <td>0.030443</td>\n",
       "      <td>0.539511</td>\n",
       "      <td>-0.028409</td>\n",
       "      <td>0.936281</td>\n",
       "      <td>-0.140217</td>\n",
       "      <td>-0.083578</td>\n",
       "      <td>-0.026938</td>\n",
       "    </tr>\n",
       "    <tr>\n",
       "      <th>1</th>\n",
       "      <td>SVM</td>\n",
       "      <td>/</td>\n",
       "      <td>0.508057</td>\n",
       "      <td>0.528972</td>\n",
       "      <td>0.014848</td>\n",
       "      <td>0.550459</td>\n",
       "      <td>0.028916</td>\n",
       "      <td>0.528972</td>\n",
       "      <td>-0.019760</td>\n",
       "      <td>0.960503</td>\n",
       "      <td>-0.119203</td>\n",
       "      <td>-0.068822</td>\n",
       "      <td>-0.018441</td>\n",
       "    </tr>\n",
       "    <tr>\n",
       "      <th>2</th>\n",
       "      <td>LR</td>\n",
       "      <td>Reweighing</td>\n",
       "      <td>0.563965</td>\n",
       "      <td>0.530151</td>\n",
       "      <td>0.015122</td>\n",
       "      <td>0.495413</td>\n",
       "      <td>0.029348</td>\n",
       "      <td>0.530151</td>\n",
       "      <td>-0.026997</td>\n",
       "      <td>0.939397</td>\n",
       "      <td>-0.071739</td>\n",
       "      <td>-0.049085</td>\n",
       "      <td>-0.026430</td>\n",
       "    </tr>\n",
       "    <tr>\n",
       "      <th>3</th>\n",
       "      <td>SVM</td>\n",
       "      <td>Reweighing</td>\n",
       "      <td>0.514038</td>\n",
       "      <td>0.527478</td>\n",
       "      <td>0.014787</td>\n",
       "      <td>0.541284</td>\n",
       "      <td>0.028788</td>\n",
       "      <td>0.527478</td>\n",
       "      <td>-0.021862</td>\n",
       "      <td>0.955816</td>\n",
       "      <td>-0.144203</td>\n",
       "      <td>-0.082215</td>\n",
       "      <td>-0.020228</td>\n",
       "    </tr>\n",
       "    <tr>\n",
       "      <th>4</th>\n",
       "      <td>LR</td>\n",
       "      <td>Disparate Impact Remover</td>\n",
       "      <td>0.566528</td>\n",
       "      <td>0.513349</td>\n",
       "      <td>0.014116</td>\n",
       "      <td>0.458716</td>\n",
       "      <td>0.027390</td>\n",
       "      <td>0.513349</td>\n",
       "      <td>-0.003904</td>\n",
       "      <td>0.991000</td>\n",
       "      <td>-0.013768</td>\n",
       "      <td>-0.008778</td>\n",
       "      <td>-0.003789</td>\n",
       "    </tr>\n",
       "    <tr>\n",
       "      <th>5</th>\n",
       "      <td>SVM</td>\n",
       "      <td>Disparate Impact Remover</td>\n",
       "      <td>0.504028</td>\n",
       "      <td>0.522405</td>\n",
       "      <td>0.014489</td>\n",
       "      <td>0.541284</td>\n",
       "      <td>0.028223</td>\n",
       "      <td>0.522405</td>\n",
       "      <td>0.007471</td>\n",
       "      <td>1.015111</td>\n",
       "      <td>-0.183696</td>\n",
       "      <td>-0.086820</td>\n",
       "      <td>0.010056</td>\n",
       "    </tr>\n",
       "    <tr>\n",
       "      <th>6</th>\n",
       "      <td>/</td>\n",
       "      <td>no Adversarial Debiasing</td>\n",
       "      <td>0.692871</td>\n",
       "      <td>0.527594</td>\n",
       "      <td>0.015694</td>\n",
       "      <td>0.357798</td>\n",
       "      <td>0.030069</td>\n",
       "      <td>0.527594</td>\n",
       "      <td>0.026684</td>\n",
       "      <td>1.090794</td>\n",
       "      <td>0.066667</td>\n",
       "      <td>0.046381</td>\n",
       "      <td>0.026095</td>\n",
       "    </tr>\n",
       "    <tr>\n",
       "      <th>7</th>\n",
       "      <td>/</td>\n",
       "      <td>Adversarial Debiasing</td>\n",
       "      <td>0.683838</td>\n",
       "      <td>0.541118</td>\n",
       "      <td>0.016751</td>\n",
       "      <td>0.394495</td>\n",
       "      <td>0.032138</td>\n",
       "      <td>0.541118</td>\n",
       "      <td>0.019725</td>\n",
       "      <td>1.064384</td>\n",
       "      <td>-0.030797</td>\n",
       "      <td>-0.005221</td>\n",
       "      <td>0.020355</td>\n",
       "    </tr>\n",
       "  </tbody>\n",
       "</table>\n",
       "</div>"
      ],
      "text/plain": [
       "  Classifier                 Algorithm  Classification accuracy  \\\n",
       "0         LR                         /                 0.564575   \n",
       "1        SVM                         /                 0.508057   \n",
       "2         LR                Reweighing                 0.563965   \n",
       "3        SVM                Reweighing                 0.514038   \n",
       "4         LR  Disparate Impact Remover                 0.566528   \n",
       "5        SVM  Disparate Impact Remover                 0.504028   \n",
       "6          /  no Adversarial Debiasing                 0.692871   \n",
       "7          /     Adversarial Debiasing                 0.683838   \n",
       "\n",
       "   Balanced classification accuracy  Precision    Recall  F1 score       AUC  \\\n",
       "0                          0.539511   0.015686  0.513761  0.030443  0.539511   \n",
       "1                          0.528972   0.014848  0.550459  0.028916  0.528972   \n",
       "2                          0.530151   0.015122  0.495413  0.029348  0.530151   \n",
       "3                          0.527478   0.014787  0.541284  0.028788  0.527478   \n",
       "4                          0.513349   0.014116  0.458716  0.027390  0.513349   \n",
       "5                          0.522405   0.014489  0.541284  0.028223  0.522405   \n",
       "6                          0.527594   0.015694  0.357798  0.030069  0.527594   \n",
       "7                          0.541118   0.016751  0.394495  0.032138  0.541118   \n",
       "\n",
       "   Statistical parity difference  Disparate impact  \\\n",
       "0                      -0.028409          0.936281   \n",
       "1                      -0.019760          0.960503   \n",
       "2                      -0.026997          0.939397   \n",
       "3                      -0.021862          0.955816   \n",
       "4                      -0.003904          0.991000   \n",
       "5                       0.007471          1.015111   \n",
       "6                       0.026684          1.090794   \n",
       "7                       0.019725          1.064384   \n",
       "\n",
       "   Equal opportunity difference  Average odds difference  \\\n",
       "0                     -0.140217                -0.083578   \n",
       "1                     -0.119203                -0.068822   \n",
       "2                     -0.071739                -0.049085   \n",
       "3                     -0.144203                -0.082215   \n",
       "4                     -0.013768                -0.008778   \n",
       "5                     -0.183696                -0.086820   \n",
       "6                      0.066667                 0.046381   \n",
       "7                     -0.030797                -0.005221   \n",
       "\n",
       "   False positive rate difference  \n",
       "0                       -0.026938  \n",
       "1                       -0.018441  \n",
       "2                       -0.026430  \n",
       "3                       -0.020228  \n",
       "4                       -0.003789  \n",
       "5                        0.010056  \n",
       "6                        0.026095  \n",
       "7                        0.020355  "
      ]
     },
     "execution_count": 50,
     "metadata": {},
     "output_type": "execute_result"
    }
   ],
   "source": [
    "results_df"
   ]
  },
  {
   "cell_type": "code",
   "execution_count": 51,
   "metadata": {},
   "outputs": [
    {
     "data": {
      "text/markdown": [
       "### Bias metrics"
      ],
      "text/plain": [
       "<IPython.core.display.Markdown object>"
      ]
     },
     "metadata": {},
     "output_type": "display_data"
    },
    {
     "data": {
      "text/markdown": [
       "### Check bias metrics :"
      ],
      "text/plain": [
       "<IPython.core.display.Markdown object>"
      ]
     },
     "metadata": {},
     "output_type": "display_data"
    },
    {
     "data": {
      "text/markdown": [
       "A model can be considered bias if just one of these five metrics show that this model is biased."
      ],
      "text/plain": [
       "<IPython.core.display.Markdown object>"
      ]
     },
     "metadata": {},
     "output_type": "display_data"
    },
    {
     "data": {
      "text/markdown": [
       "#### For the before attribute :"
      ],
      "text/plain": [
       "<IPython.core.display.Markdown object>"
      ]
     },
     "metadata": {},
     "output_type": "display_data"
    },
    {
     "data": {
      "text/markdown": [
       "With default thresholds, bias against unprivileged group detected in **0** out of 5 metrics"
      ],
      "text/plain": [
       "<IPython.core.display.Markdown object>"
      ]
     },
     "metadata": {},
     "output_type": "display_data"
    },
    {
     "data": {
      "text/markdown": [
       "#### For the after attribute :"
      ],
      "text/plain": [
       "<IPython.core.display.Markdown object>"
      ]
     },
     "metadata": {},
     "output_type": "display_data"
    },
    {
     "data": {
      "text/markdown": [
       "With default thresholds, bias against unprivileged group detected in **0** out of 5 metrics"
      ],
      "text/plain": [
       "<IPython.core.display.Markdown object>"
      ]
     },
     "metadata": {},
     "output_type": "display_data"
    },
    {
     "data": {
      "text/html": [
       "<div>\n",
       "<style scoped>\n",
       "    .dataframe tbody tr th:only-of-type {\n",
       "        vertical-align: middle;\n",
       "    }\n",
       "\n",
       "    .dataframe tbody tr th {\n",
       "        vertical-align: top;\n",
       "    }\n",
       "\n",
       "    .dataframe thead th {\n",
       "        text-align: right;\n",
       "    }\n",
       "</style>\n",
       "<table border=\"1\" class=\"dataframe\">\n",
       "  <thead>\n",
       "    <tr style=\"text-align: right;\">\n",
       "      <th></th>\n",
       "      <th>statistical_parity_difference</th>\n",
       "      <th>equal_opportunity_difference</th>\n",
       "      <th>average_abs_odds_difference</th>\n",
       "      <th>disparate_impact</th>\n",
       "      <th>false_positive_rate_difference</th>\n",
       "    </tr>\n",
       "  </thead>\n",
       "  <tbody>\n",
       "    <tr>\n",
       "      <th>objective</th>\n",
       "      <td>0.000000</td>\n",
       "      <td>0.000000</td>\n",
       "      <td>0.000000</td>\n",
       "      <td>1.000000</td>\n",
       "      <td>0.000000</td>\n",
       "    </tr>\n",
       "    <tr>\n",
       "      <th>before</th>\n",
       "      <td>0.026684</td>\n",
       "      <td>0.066667</td>\n",
       "      <td>0.046381</td>\n",
       "      <td>1.090794</td>\n",
       "      <td>0.026095</td>\n",
       "    </tr>\n",
       "    <tr>\n",
       "      <th>after</th>\n",
       "      <td>0.019725</td>\n",
       "      <td>-0.030797</td>\n",
       "      <td>0.025576</td>\n",
       "      <td>1.064384</td>\n",
       "      <td>0.020355</td>\n",
       "    </tr>\n",
       "  </tbody>\n",
       "</table>\n",
       "</div>"
      ],
      "text/plain": [
       "           statistical_parity_difference  equal_opportunity_difference  \\\n",
       "objective                       0.000000                      0.000000   \n",
       "before                          0.026684                      0.066667   \n",
       "after                           0.019725                     -0.030797   \n",
       "\n",
       "           average_abs_odds_difference  disparate_impact  \\\n",
       "objective                     0.000000          1.000000   \n",
       "before                        0.046381          1.090794   \n",
       "after                         0.025576          1.064384   \n",
       "\n",
       "           false_positive_rate_difference  \n",
       "objective                        0.000000  \n",
       "before                           0.026095  \n",
       "after                            0.020355  "
      ]
     },
     "metadata": {},
     "output_type": "display_data"
    },
    {
     "data": {
      "image/png": "[encoded data removed]",
      "text/plain": [
       "<Figure size 1440x288 with 5 Axes>"
      ]
     },
     "metadata": {},
     "output_type": "display_data"
    }
   ],
   "source": [
    "display(Markdown('### Bias metrics'))\n",
    "fair_reweighing = get_fair_metrics_and_plot(original_test_dataset, y_pred_plain.labels, original_test_dataset, y_pred_AD.labels)"
   ]
  },
  {
   "cell_type": "markdown",
   "metadata": {},
   "source": [
    "# Equality of Odds"
   ]
  },
  {
   "cell_type": "code",
   "execution_count": 52,
   "metadata": {},
   "outputs": [],
   "source": [
    "from aif360.algorithms.postprocessing import EqOddsPostprocessing\n",
    "\n",
    "\n",
    "pos_ind = np.where(plain_lr.classes_ == original_test_dataset.favorable_label)[0][0]\n",
    "dataset_orig_test_pred_lr = original_test_dataset.copy(deepcopy=True)\n",
    "dataset_orig_test_pred_lr.scores = plain_lr.predict_proba(X_test)[:,pos_ind].reshape(-1,1)\n",
    "dataset_orig_test_pred_lr.labels = y_pred_lr.reshape(-1,1)\n",
    "\n",
    "pos_ind = np.where(plain_svc.classes_ == original_training_dataset.favorable_label)[0][0]\n",
    "dataset_orig_test_pred_svc = original_test_dataset.copy(deepcopy=True)\n",
    "dataset_orig_test_pred_svc.scores = plain_svc.predict_proba(X_test)[:,pos_ind].reshape(-1,1)\n",
    "dataset_orig_test_pred_svc.labels = y_pred_svc.reshape(-1,1)\n",
    "\n",
    "\n",
    "\n",
    "EOP_lr = EqOddsPostprocessing(unprivileged_groups=unprivileged_groups, privileged_groups=privileged_groups)\n",
    "EOP_lr.fit(original_test_dataset, dataset_orig_test_pred_lr)\n",
    "dataset_EOP_test_pred_lr = EOP_lr.predict(dataset_orig_test_pred_lr)\n",
    "\n",
    "EOP_svc = EqOddsPostprocessing(unprivileged_groups=unprivileged_groups, privileged_groups=privileged_groups)\n",
    "EOP_svc.fit(original_test_dataset, dataset_orig_test_pred_svc)\n",
    "dataset_EOP_test_pred_svc = EOP_svc.predict(dataset_orig_test_pred_svc)"
   ]
  },
  {
   "cell_type": "code",
   "execution_count": 53,
   "metadata": {},
   "outputs": [
    {
     "name": "stdout",
     "output_type": "stream",
     "text": [
      "[[0.36194615]\n",
      " [0.4768236 ]\n",
      " [0.57198896]\n",
      " ...\n",
      " [0.63961716]\n",
      " [0.46291835]\n",
      " [0.60481747]]\n",
      "\n",
      "[[0.]\n",
      " [0.]\n",
      " [0.]\n",
      " ...\n",
      " [0.]\n",
      " [0.]\n",
      " [0.]]\n"
     ]
    }
   ],
   "source": [
    "print(dataset_orig_test_pred_lr.scores)\n",
    "print('')\n",
    "print(dataset_EOP_test_pred_lr.labels)"
   ]
  },
  {
   "cell_type": "code",
   "execution_count": 54,
   "metadata": {},
   "outputs": [
    {
     "name": "stdout",
     "output_type": "stream",
     "text": [
      "LR model - with Equalized Odds - classification metrics\n",
      "Test set: Classification accuracy = 0.986572\n",
      "Test set: Balanced classification accuracy = 0.499938\n",
      "Test set: Statistical parity difference = 0.000345\n",
      "Test set: Disparate impact = inf\n",
      "Test set: Equal opportunity difference = 0.000000\n",
      "Test set: Average odds difference = 0.000175\n",
      "Test set: Theil index = 0.013443\n",
      "Test set: False negative rate difference = 0.000350\n",
      "\n",
      "SVM model - with Equalized Odds - classification metrics\n",
      "Test set: Classification accuracy = 0.986572\n",
      "Test set: Balanced classification accuracy = 0.499938\n",
      "Test set: Statistical parity difference = -0.000189\n",
      "Test set: Disparate impact = 0.000000\n",
      "Test set: Equal opportunity difference = 0.000000\n",
      "Test set: Average odds difference = -0.000096\n",
      "Test set: Theil index = 0.013443\n",
      "Test set: False negative rate difference = -0.000191\n",
      "\n"
     ]
    }
   ],
   "source": [
    "classified_metric_eqodds_test_lr = ClassificationMetric(original_test_dataset,\n",
    "                                                 dataset_EOP_test_pred_lr,\n",
    "                                                 unprivileged_groups=unprivileged_groups,\n",
    "                                                 privileged_groups=privileged_groups)\n",
    "classified_metric_eqodds_test_svc = ClassificationMetric(original_test_dataset, \n",
    "                                                 dataset_EOP_test_pred_svc,\n",
    "                                                 unprivileged_groups=unprivileged_groups,\n",
    "                                                 privileged_groups=privileged_groups)\n",
    "\n",
    "\n",
    "print_metrics(classified_metric_eqodds_test_lr, \"LR model - with Equalized Odds - classification metrics\")\n",
    "print_metrics(classified_metric_eqodds_test_svc, \"SVM model - with Equalized Odds - classification metrics\")"
   ]
  },
  {
   "cell_type": "code",
   "execution_count": 55,
   "metadata": {},
   "outputs": [],
   "source": [
    "results_lr = produce_metrics_dataframe('LR', 'Equalized Odds', classified_metric_eqodds_test_lr)\n",
    "results_svc = produce_metrics_dataframe('SVM', 'Equalized Odds', classified_metric_eqodds_test_svc)\n",
    "results_df_lr = pd.DataFrame(results_lr, index = [0])\n",
    "results_df_svc = pd.DataFrame(results_svc, index = [0])\n",
    "results_df = pd.concat([results_df, results_df_lr, results_df_svc],ignore_index = True)"
   ]
  },
  {
   "cell_type": "code",
   "execution_count": 56,
   "metadata": {},
   "outputs": [
    {
     "data": {
      "text/html": [
       "<div>\n",
       "<style scoped>\n",
       "    .dataframe tbody tr th:only-of-type {\n",
       "        vertical-align: middle;\n",
       "    }\n",
       "\n",
       "    .dataframe tbody tr th {\n",
       "        vertical-align: top;\n",
       "    }\n",
       "\n",
       "    .dataframe thead th {\n",
       "        text-align: right;\n",
       "    }\n",
       "</style>\n",
       "<table border=\"1\" class=\"dataframe\">\n",
       "  <thead>\n",
       "    <tr style=\"text-align: right;\">\n",
       "      <th></th>\n",
       "      <th>Classifier</th>\n",
       "      <th>Algorithm</th>\n",
       "      <th>Classification accuracy</th>\n",
       "      <th>Balanced classification accuracy</th>\n",
       "      <th>Precision</th>\n",
       "      <th>Recall</th>\n",
       "      <th>F1 score</th>\n",
       "      <th>AUC</th>\n",
       "      <th>Statistical parity difference</th>\n",
       "      <th>Disparate impact</th>\n",
       "      <th>Equal opportunity difference</th>\n",
       "      <th>Average odds difference</th>\n",
       "      <th>False positive rate difference</th>\n",
       "    </tr>\n",
       "  </thead>\n",
       "  <tbody>\n",
       "    <tr>\n",
       "      <th>0</th>\n",
       "      <td>LR</td>\n",
       "      <td>/</td>\n",
       "      <td>0.564575</td>\n",
       "      <td>0.539511</td>\n",
       "      <td>0.015686</td>\n",
       "      <td>0.513761</td>\n",
       "      <td>0.030443</td>\n",
       "      <td>0.539511</td>\n",
       "      <td>-0.028409</td>\n",
       "      <td>0.936281</td>\n",
       "      <td>-0.140217</td>\n",
       "      <td>-0.083578</td>\n",
       "      <td>-0.026938</td>\n",
       "    </tr>\n",
       "    <tr>\n",
       "      <th>1</th>\n",
       "      <td>SVM</td>\n",
       "      <td>/</td>\n",
       "      <td>0.508057</td>\n",
       "      <td>0.528972</td>\n",
       "      <td>0.014848</td>\n",
       "      <td>0.550459</td>\n",
       "      <td>0.028916</td>\n",
       "      <td>0.528972</td>\n",
       "      <td>-0.019760</td>\n",
       "      <td>0.960503</td>\n",
       "      <td>-0.119203</td>\n",
       "      <td>-0.068822</td>\n",
       "      <td>-0.018441</td>\n",
       "    </tr>\n",
       "    <tr>\n",
       "      <th>2</th>\n",
       "      <td>LR</td>\n",
       "      <td>Reweighing</td>\n",
       "      <td>0.563965</td>\n",
       "      <td>0.530151</td>\n",
       "      <td>0.015122</td>\n",
       "      <td>0.495413</td>\n",
       "      <td>0.029348</td>\n",
       "      <td>0.530151</td>\n",
       "      <td>-0.026997</td>\n",
       "      <td>0.939397</td>\n",
       "      <td>-0.071739</td>\n",
       "      <td>-0.049085</td>\n",
       "      <td>-0.026430</td>\n",
       "    </tr>\n",
       "    <tr>\n",
       "      <th>3</th>\n",
       "      <td>SVM</td>\n",
       "      <td>Reweighing</td>\n",
       "      <td>0.514038</td>\n",
       "      <td>0.527478</td>\n",
       "      <td>0.014787</td>\n",
       "      <td>0.541284</td>\n",
       "      <td>0.028788</td>\n",
       "      <td>0.527478</td>\n",
       "      <td>-0.021862</td>\n",
       "      <td>0.955816</td>\n",
       "      <td>-0.144203</td>\n",
       "      <td>-0.082215</td>\n",
       "      <td>-0.020228</td>\n",
       "    </tr>\n",
       "    <tr>\n",
       "      <th>4</th>\n",
       "      <td>LR</td>\n",
       "      <td>Disparate Impact Remover</td>\n",
       "      <td>0.566528</td>\n",
       "      <td>0.513349</td>\n",
       "      <td>0.014116</td>\n",
       "      <td>0.458716</td>\n",
       "      <td>0.027390</td>\n",
       "      <td>0.513349</td>\n",
       "      <td>-0.003904</td>\n",
       "      <td>0.991000</td>\n",
       "      <td>-0.013768</td>\n",
       "      <td>-0.008778</td>\n",
       "      <td>-0.003789</td>\n",
       "    </tr>\n",
       "    <tr>\n",
       "      <th>5</th>\n",
       "      <td>SVM</td>\n",
       "      <td>Disparate Impact Remover</td>\n",
       "      <td>0.504028</td>\n",
       "      <td>0.522405</td>\n",
       "      <td>0.014489</td>\n",
       "      <td>0.541284</td>\n",
       "      <td>0.028223</td>\n",
       "      <td>0.522405</td>\n",
       "      <td>0.007471</td>\n",
       "      <td>1.015111</td>\n",
       "      <td>-0.183696</td>\n",
       "      <td>-0.086820</td>\n",
       "      <td>0.010056</td>\n",
       "    </tr>\n",
       "    <tr>\n",
       "      <th>6</th>\n",
       "      <td>/</td>\n",
       "      <td>no Adversarial Debiasing</td>\n",
       "      <td>0.692871</td>\n",
       "      <td>0.527594</td>\n",
       "      <td>0.015694</td>\n",
       "      <td>0.357798</td>\n",
       "      <td>0.030069</td>\n",
       "      <td>0.527594</td>\n",
       "      <td>0.026684</td>\n",
       "      <td>1.090794</td>\n",
       "      <td>0.066667</td>\n",
       "      <td>0.046381</td>\n",
       "      <td>0.026095</td>\n",
       "    </tr>\n",
       "    <tr>\n",
       "      <th>7</th>\n",
       "      <td>/</td>\n",
       "      <td>Adversarial Debiasing</td>\n",
       "      <td>0.683838</td>\n",
       "      <td>0.541118</td>\n",
       "      <td>0.016751</td>\n",
       "      <td>0.394495</td>\n",
       "      <td>0.032138</td>\n",
       "      <td>0.541118</td>\n",
       "      <td>0.019725</td>\n",
       "      <td>1.064384</td>\n",
       "      <td>-0.030797</td>\n",
       "      <td>-0.005221</td>\n",
       "      <td>0.020355</td>\n",
       "    </tr>\n",
       "    <tr>\n",
       "      <th>8</th>\n",
       "      <td>LR</td>\n",
       "      <td>Equalized Odds</td>\n",
       "      <td>0.986572</td>\n",
       "      <td>0.499938</td>\n",
       "      <td>0.000000</td>\n",
       "      <td>0.000000</td>\n",
       "      <td>NaN</td>\n",
       "      <td>0.499938</td>\n",
       "      <td>0.000345</td>\n",
       "      <td>inf</td>\n",
       "      <td>0.000000</td>\n",
       "      <td>0.000175</td>\n",
       "      <td>0.000350</td>\n",
       "    </tr>\n",
       "    <tr>\n",
       "      <th>9</th>\n",
       "      <td>SVM</td>\n",
       "      <td>Equalized Odds</td>\n",
       "      <td>0.986572</td>\n",
       "      <td>0.499938</td>\n",
       "      <td>0.000000</td>\n",
       "      <td>0.000000</td>\n",
       "      <td>NaN</td>\n",
       "      <td>0.499938</td>\n",
       "      <td>-0.000189</td>\n",
       "      <td>0.000000</td>\n",
       "      <td>0.000000</td>\n",
       "      <td>-0.000096</td>\n",
       "      <td>-0.000191</td>\n",
       "    </tr>\n",
       "  </tbody>\n",
       "</table>\n",
       "</div>"
      ],
      "text/plain": [
       "  Classifier                 Algorithm  Classification accuracy  \\\n",
       "0         LR                         /                 0.564575   \n",
       "1        SVM                         /                 0.508057   \n",
       "2         LR                Reweighing                 0.563965   \n",
       "3        SVM                Reweighing                 0.514038   \n",
       "4         LR  Disparate Impact Remover                 0.566528   \n",
       "5        SVM  Disparate Impact Remover                 0.504028   \n",
       "6          /  no Adversarial Debiasing                 0.692871   \n",
       "7          /     Adversarial Debiasing                 0.683838   \n",
       "8         LR            Equalized Odds                 0.986572   \n",
       "9        SVM            Equalized Odds                 0.986572   \n",
       "\n",
       "   Balanced classification accuracy  Precision    Recall  F1 score       AUC  \\\n",
       "0                          0.539511   0.015686  0.513761  0.030443  0.539511   \n",
       "1                          0.528972   0.014848  0.550459  0.028916  0.528972   \n",
       "2                          0.530151   0.015122  0.495413  0.029348  0.530151   \n",
       "3                          0.527478   0.014787  0.541284  0.028788  0.527478   \n",
       "4                          0.513349   0.014116  0.458716  0.027390  0.513349   \n",
       "5                          0.522405   0.014489  0.541284  0.028223  0.522405   \n",
       "6                          0.527594   0.015694  0.357798  0.030069  0.527594   \n",
       "7                          0.541118   0.016751  0.394495  0.032138  0.541118   \n",
       "8                          0.499938   0.000000  0.000000       NaN  0.499938   \n",
       "9                          0.499938   0.000000  0.000000       NaN  0.499938   \n",
       "\n",
       "   Statistical parity difference  Disparate impact  \\\n",
       "0                      -0.028409          0.936281   \n",
       "1                      -0.019760          0.960503   \n",
       "2                      -0.026997          0.939397   \n",
       "3                      -0.021862          0.955816   \n",
       "4                      -0.003904          0.991000   \n",
       "5                       0.007471          1.015111   \n",
       "6                       0.026684          1.090794   \n",
       "7                       0.019725          1.064384   \n",
       "8                       0.000345               inf   \n",
       "9                      -0.000189          0.000000   \n",
       "\n",
       "   Equal opportunity difference  Average odds difference  \\\n",
       "0                     -0.140217                -0.083578   \n",
       "1                     -0.119203                -0.068822   \n",
       "2                     -0.071739                -0.049085   \n",
       "3                     -0.144203                -0.082215   \n",
       "4                     -0.013768                -0.008778   \n",
       "5                     -0.183696                -0.086820   \n",
       "6                      0.066667                 0.046381   \n",
       "7                     -0.030797                -0.005221   \n",
       "8                      0.000000                 0.000175   \n",
       "9                      0.000000                -0.000096   \n",
       "\n",
       "   False positive rate difference  \n",
       "0                       -0.026938  \n",
       "1                       -0.018441  \n",
       "2                       -0.026430  \n",
       "3                       -0.020228  \n",
       "4                       -0.003789  \n",
       "5                        0.010056  \n",
       "6                        0.026095  \n",
       "7                        0.020355  \n",
       "8                        0.000350  \n",
       "9                       -0.000191  "
      ]
     },
     "execution_count": 56,
     "metadata": {},
     "output_type": "execute_result"
    }
   ],
   "source": [
    "results_df"
   ]
  },
  {
   "cell_type": "code",
   "execution_count": 57,
   "metadata": {},
   "outputs": [
    {
     "data": {
      "text/markdown": [
       "### Bias metrics"
      ],
      "text/plain": [
       "<IPython.core.display.Markdown object>"
      ]
     },
     "metadata": {},
     "output_type": "display_data"
    },
    {
     "data": {
      "text/markdown": [
       "### Check bias metrics :"
      ],
      "text/plain": [
       "<IPython.core.display.Markdown object>"
      ]
     },
     "metadata": {},
     "output_type": "display_data"
    },
    {
     "data": {
      "text/markdown": [
       "A model can be considered bias if just one of these five metrics show that this model is biased."
      ],
      "text/plain": [
       "<IPython.core.display.Markdown object>"
      ]
     },
     "metadata": {},
     "output_type": "display_data"
    },
    {
     "data": {
      "text/markdown": [
       "#### For the before attribute :"
      ],
      "text/plain": [
       "<IPython.core.display.Markdown object>"
      ]
     },
     "metadata": {},
     "output_type": "display_data"
    },
    {
     "data": {
      "text/markdown": [
       "With default thresholds, bias against unprivileged group detected in **1** out of 5 metrics"
      ],
      "text/plain": [
       "<IPython.core.display.Markdown object>"
      ]
     },
     "metadata": {},
     "output_type": "display_data"
    },
    {
     "data": {
      "text/markdown": [
       "#### For the after attribute :"
      ],
      "text/plain": [
       "<IPython.core.display.Markdown object>"
      ]
     },
     "metadata": {},
     "output_type": "display_data"
    },
    {
     "data": {
      "text/markdown": [
       "With default thresholds, bias against unprivileged group detected in **1** out of 5 metrics"
      ],
      "text/plain": [
       "<IPython.core.display.Markdown object>"
      ]
     },
     "metadata": {},
     "output_type": "display_data"
    },
    {
     "data": {
      "text/html": [
       "<div>\n",
       "<style scoped>\n",
       "    .dataframe tbody tr th:only-of-type {\n",
       "        vertical-align: middle;\n",
       "    }\n",
       "\n",
       "    .dataframe tbody tr th {\n",
       "        vertical-align: top;\n",
       "    }\n",
       "\n",
       "    .dataframe thead th {\n",
       "        text-align: right;\n",
       "    }\n",
       "</style>\n",
       "<table border=\"1\" class=\"dataframe\">\n",
       "  <thead>\n",
       "    <tr style=\"text-align: right;\">\n",
       "      <th></th>\n",
       "      <th>statistical_parity_difference</th>\n",
       "      <th>equal_opportunity_difference</th>\n",
       "      <th>average_abs_odds_difference</th>\n",
       "      <th>disparate_impact</th>\n",
       "      <th>false_positive_rate_difference</th>\n",
       "    </tr>\n",
       "  </thead>\n",
       "  <tbody>\n",
       "    <tr>\n",
       "      <th>objective</th>\n",
       "      <td>0.000000</td>\n",
       "      <td>0.000000</td>\n",
       "      <td>0.000000</td>\n",
       "      <td>1.000000</td>\n",
       "      <td>0.000000</td>\n",
       "    </tr>\n",
       "    <tr>\n",
       "      <th>before</th>\n",
       "      <td>-0.028409</td>\n",
       "      <td>-0.140217</td>\n",
       "      <td>0.083578</td>\n",
       "      <td>0.936281</td>\n",
       "      <td>-0.026938</td>\n",
       "    </tr>\n",
       "    <tr>\n",
       "      <th>after</th>\n",
       "      <td>0.000345</td>\n",
       "      <td>0.000000</td>\n",
       "      <td>0.000175</td>\n",
       "      <td>inf</td>\n",
       "      <td>0.000350</td>\n",
       "    </tr>\n",
       "  </tbody>\n",
       "</table>\n",
       "</div>"
      ],
      "text/plain": [
       "           statistical_parity_difference  equal_opportunity_difference  \\\n",
       "objective                       0.000000                      0.000000   \n",
       "before                         -0.028409                     -0.140217   \n",
       "after                           0.000345                      0.000000   \n",
       "\n",
       "           average_abs_odds_difference  disparate_impact  \\\n",
       "objective                     0.000000          1.000000   \n",
       "before                        0.083578          0.936281   \n",
       "after                         0.000175               inf   \n",
       "\n",
       "           false_positive_rate_difference  \n",
       "objective                        0.000000  \n",
       "before                          -0.026938  \n",
       "after                            0.000350  "
      ]
     },
     "metadata": {},
     "output_type": "display_data"
    },
    {
     "data": {
      "image/png": "[encoded data removed]",
      "text/plain": [
       "<Figure size 1440x288 with 5 Axes>"
      ]
     },
     "metadata": {},
     "output_type": "display_data"
    }
   ],
   "source": [
    "display(Markdown('### Bias metrics'))\n",
    "fair_reweighing = get_fair_metrics_and_plot(original_test_dataset, y_pred_lr, original_test_dataset, dataset_EOP_test_pred_lr.labels)"
   ]
  },
  {
   "cell_type": "code",
   "execution_count": 58,
   "metadata": {},
   "outputs": [
    {
     "data": {
      "text/markdown": [
       "### Bias metrics"
      ],
      "text/plain": [
       "<IPython.core.display.Markdown object>"
      ]
     },
     "metadata": {},
     "output_type": "display_data"
    },
    {
     "data": {
      "text/markdown": [
       "### Check bias metrics :"
      ],
      "text/plain": [
       "<IPython.core.display.Markdown object>"
      ]
     },
     "metadata": {},
     "output_type": "display_data"
    },
    {
     "data": {
      "text/markdown": [
       "A model can be considered bias if just one of these five metrics show that this model is biased."
      ],
      "text/plain": [
       "<IPython.core.display.Markdown object>"
      ]
     },
     "metadata": {},
     "output_type": "display_data"
    },
    {
     "data": {
      "text/markdown": [
       "#### For the before attribute :"
      ],
      "text/plain": [
       "<IPython.core.display.Markdown object>"
      ]
     },
     "metadata": {},
     "output_type": "display_data"
    },
    {
     "data": {
      "text/markdown": [
       "With default thresholds, bias against unprivileged group detected in **1** out of 5 metrics"
      ],
      "text/plain": [
       "<IPython.core.display.Markdown object>"
      ]
     },
     "metadata": {},
     "output_type": "display_data"
    },
    {
     "data": {
      "text/markdown": [
       "#### For the after attribute :"
      ],
      "text/plain": [
       "<IPython.core.display.Markdown object>"
      ]
     },
     "metadata": {},
     "output_type": "display_data"
    },
    {
     "data": {
      "text/markdown": [
       "With default thresholds, bias against unprivileged group detected in **1** out of 5 metrics"
      ],
      "text/plain": [
       "<IPython.core.display.Markdown object>"
      ]
     },
     "metadata": {},
     "output_type": "display_data"
    },
    {
     "data": {
      "text/html": [
       "<div>\n",
       "<style scoped>\n",
       "    .dataframe tbody tr th:only-of-type {\n",
       "        vertical-align: middle;\n",
       "    }\n",
       "\n",
       "    .dataframe tbody tr th {\n",
       "        vertical-align: top;\n",
       "    }\n",
       "\n",
       "    .dataframe thead th {\n",
       "        text-align: right;\n",
       "    }\n",
       "</style>\n",
       "<table border=\"1\" class=\"dataframe\">\n",
       "  <thead>\n",
       "    <tr style=\"text-align: right;\">\n",
       "      <th></th>\n",
       "      <th>statistical_parity_difference</th>\n",
       "      <th>equal_opportunity_difference</th>\n",
       "      <th>average_abs_odds_difference</th>\n",
       "      <th>disparate_impact</th>\n",
       "      <th>false_positive_rate_difference</th>\n",
       "    </tr>\n",
       "  </thead>\n",
       "  <tbody>\n",
       "    <tr>\n",
       "      <th>objective</th>\n",
       "      <td>0.000000</td>\n",
       "      <td>0.000000</td>\n",
       "      <td>0.000000</td>\n",
       "      <td>1.000000</td>\n",
       "      <td>0.000000</td>\n",
       "    </tr>\n",
       "    <tr>\n",
       "      <th>before</th>\n",
       "      <td>-0.019760</td>\n",
       "      <td>-0.119203</td>\n",
       "      <td>0.068822</td>\n",
       "      <td>0.960503</td>\n",
       "      <td>-0.018441</td>\n",
       "    </tr>\n",
       "    <tr>\n",
       "      <th>after</th>\n",
       "      <td>-0.000189</td>\n",
       "      <td>0.000000</td>\n",
       "      <td>0.000096</td>\n",
       "      <td>0.000000</td>\n",
       "      <td>-0.000191</td>\n",
       "    </tr>\n",
       "  </tbody>\n",
       "</table>\n",
       "</div>"
      ],
      "text/plain": [
       "           statistical_parity_difference  equal_opportunity_difference  \\\n",
       "objective                       0.000000                      0.000000   \n",
       "before                         -0.019760                     -0.119203   \n",
       "after                          -0.000189                      0.000000   \n",
       "\n",
       "           average_abs_odds_difference  disparate_impact  \\\n",
       "objective                     0.000000          1.000000   \n",
       "before                        0.068822          0.960503   \n",
       "after                         0.000096          0.000000   \n",
       "\n",
       "           false_positive_rate_difference  \n",
       "objective                        0.000000  \n",
       "before                          -0.018441  \n",
       "after                           -0.000191  "
      ]
     },
     "metadata": {},
     "output_type": "display_data"
    },
    {
     "data": {
      "image/png": "[encoded data removed]",
      "text/plain": [
       "<Figure size 1440x288 with 5 Axes>"
      ]
     },
     "metadata": {},
     "output_type": "display_data"
    }
   ],
   "source": [
    "display(Markdown('### Bias metrics'))\n",
    "fair_reweighing = get_fair_metrics_and_plot(original_test_dataset, y_pred_svc, original_test_dataset, dataset_EOP_test_pred_svc.labels)"
   ]
  },
  {
   "cell_type": "markdown",
   "metadata": {},
   "source": [
    "# Reject Option Classification"
   ]
  },
  {
   "cell_type": "code",
   "execution_count": 59,
   "metadata": {},
   "outputs": [],
   "source": [
    "from aif360.algorithms.postprocessing import RejectOptionClassification\n",
    "\n",
    "ROC_lr = RejectOptionClassification(unprivileged_groups=unprivileged_groups, privileged_groups=privileged_groups)\n",
    "ROC_lr.fit(original_test_dataset, dataset_orig_test_pred_lr)\n",
    "dataset_ROC_test_pred_lr = ROC_lr.predict(dataset_orig_test_pred_lr)\n",
    "\n",
    "ROC_svc = RejectOptionClassification(unprivileged_groups=unprivileged_groups, privileged_groups=privileged_groups)\n",
    "ROC_svc.fit(original_test_dataset, dataset_orig_test_pred_svc)\n",
    "dataset_ROC_test_pred_svc = ROC_svc.predict(dataset_orig_test_pred_svc)"
   ]
  },
  {
   "cell_type": "code",
   "execution_count": 60,
   "metadata": {},
   "outputs": [
    {
     "name": "stdout",
     "output_type": "stream",
     "text": [
      "Optimal classification threshold (with fairness constraints) = 0.0100\n",
      "Optimal ROC margin = 0.0002\n"
     ]
    }
   ],
   "source": [
    "print(\"Optimal classification threshold (with fairness constraints) = %.4f\" % ROC_svc.classification_threshold)\n",
    "print(\"Optimal ROC margin = %.4f\" % ROC_svc.ROC_margin)"
   ]
  },
  {
   "cell_type": "code",
   "execution_count": 61,
   "metadata": {},
   "outputs": [
    {
     "name": "stdout",
     "output_type": "stream",
     "text": [
      "Plain LR model - without debiasing - classification metrics\n",
      "Test set: Classification accuracy = 0.564575\n",
      "Test set: Balanced classification accuracy = 0.539511\n",
      "Test set: Statistical parity difference = -0.028409\n",
      "Test set: Disparate impact = 0.936281\n",
      "Test set: Equal opportunity difference = -0.140217\n",
      "Test set: Average odds difference = -0.083578\n",
      "Test set: Theil index = 0.065636\n",
      "Test set: False negative rate difference = -0.026938\n",
      "\n",
      "\n",
      "LR model - with Reject Option Classification - classification metrics\n",
      "Test set: Classification accuracy = 0.421021\n",
      "Test set: Balanced classification accuracy = 0.548221\n",
      "Test set: Statistical parity difference = 0.043001\n",
      "Test set: Disparate impact = 1.075637\n",
      "Test set: Equal opportunity difference = -0.045652\n",
      "Test set: Average odds difference = -0.000755\n",
      "Test set: Theil index = 0.055968\n",
      "Test set: False negative rate difference = 0.044143\n",
      "\n",
      "\n",
      "Plain SVM model - without debiasing - classification metrics\n",
      "Test set: Classification accuracy = 0.508057\n",
      "Test set: Balanced classification accuracy = 0.528972\n",
      "Test set: Statistical parity difference = -0.019760\n",
      "Test set: Disparate impact = 0.960503\n",
      "Test set: Equal opportunity difference = -0.119203\n",
      "Test set: Average odds difference = -0.068822\n",
      "Test set: Theil index = 0.063171\n",
      "Test set: False negative rate difference = -0.018441\n",
      "\n",
      "\n",
      "SVM model - with Reject Option Classification - classification metrics\n",
      "Test set: Classification accuracy = 0.192749\n",
      "Test set: Balanced classification accuracy = 0.536628\n",
      "Test set: Statistical parity difference = 0.029388\n",
      "Test set: Disparate impact = 1.036407\n",
      "Test set: Equal opportunity difference = -0.102536\n",
      "Test set: Average odds difference = -0.035698\n",
      "Test set: Theil index = 0.028916\n",
      "Test set: False negative rate difference = 0.031140\n",
      "\n"
     ]
    }
   ],
   "source": [
    "classified_metric_roc_test_lr = ClassificationMetric(original_test_dataset, \n",
    "                                                 dataset_ROC_test_pred_lr,\n",
    "                                                 unprivileged_groups=unprivileged_groups,\n",
    "                                                 privileged_groups=privileged_groups)\n",
    "classified_metric_roc_test_svc = ClassificationMetric(original_test_dataset, \n",
    "                                                 dataset_ROC_test_pred_svc,\n",
    "                                                 unprivileged_groups=unprivileged_groups,\n",
    "                                                 privileged_groups=privileged_groups)\n",
    "\n",
    "print_metrics(classified_metric_nodebiasing_test_lr, \"Plain LR model - without debiasing - classification metrics\")\n",
    "print('')\n",
    "print_metrics(classified_metric_roc_test_lr, \"LR model - with Reject Option Classification - classification metrics\")\n",
    "print('')\n",
    "print_metrics(classified_metric_nodebiasing_test_svc, \"Plain SVM model - without debiasing - classification metrics\")\n",
    "print('')\n",
    "print_metrics(classified_metric_roc_test_svc, \"SVM model - with Reject Option Classification - classification metrics\")"
   ]
  },
  {
   "cell_type": "code",
   "execution_count": 62,
   "metadata": {},
   "outputs": [],
   "source": [
    "results_lr = produce_metrics_dataframe('LR', 'Reject Option Classification', classified_metric_roc_test_lr)\n",
    "results_svc = produce_metrics_dataframe('SVM', 'Reject Option Classification', classified_metric_roc_test_svc)\n",
    "results_df_lr = pd.DataFrame(results_lr, index = [0])\n",
    "results_df_svc = pd.DataFrame(results_svc, index = [0])\n",
    "results_df = pd.concat([results_df, results_df_lr, results_df_svc],ignore_index = True)"
   ]
  },
  {
   "cell_type": "code",
   "execution_count": 63,
   "metadata": {},
   "outputs": [
    {
     "data": {
      "text/html": [
       "<div>\n",
       "<style scoped>\n",
       "    .dataframe tbody tr th:only-of-type {\n",
       "        vertical-align: middle;\n",
       "    }\n",
       "\n",
       "    .dataframe tbody tr th {\n",
       "        vertical-align: top;\n",
       "    }\n",
       "\n",
       "    .dataframe thead th {\n",
       "        text-align: right;\n",
       "    }\n",
       "</style>\n",
       "<table border=\"1\" class=\"dataframe\">\n",
       "  <thead>\n",
       "    <tr style=\"text-align: right;\">\n",
       "      <th></th>\n",
       "      <th>Classifier</th>\n",
       "      <th>Algorithm</th>\n",
       "      <th>Classification accuracy</th>\n",
       "      <th>Balanced classification accuracy</th>\n",
       "      <th>Precision</th>\n",
       "      <th>Recall</th>\n",
       "      <th>F1 score</th>\n",
       "      <th>AUC</th>\n",
       "      <th>Statistical parity difference</th>\n",
       "      <th>Disparate impact</th>\n",
       "      <th>Equal opportunity difference</th>\n",
       "      <th>Average odds difference</th>\n",
       "      <th>False positive rate difference</th>\n",
       "    </tr>\n",
       "  </thead>\n",
       "  <tbody>\n",
       "    <tr>\n",
       "      <th>0</th>\n",
       "      <td>LR</td>\n",
       "      <td>/</td>\n",
       "      <td>0.564575</td>\n",
       "      <td>0.539511</td>\n",
       "      <td>0.015686</td>\n",
       "      <td>0.513761</td>\n",
       "      <td>0.030443</td>\n",
       "      <td>0.539511</td>\n",
       "      <td>-0.028409</td>\n",
       "      <td>0.936281</td>\n",
       "      <td>-0.140217</td>\n",
       "      <td>-0.083578</td>\n",
       "      <td>-0.026938</td>\n",
       "    </tr>\n",
       "    <tr>\n",
       "      <th>1</th>\n",
       "      <td>SVM</td>\n",
       "      <td>/</td>\n",
       "      <td>0.508057</td>\n",
       "      <td>0.528972</td>\n",
       "      <td>0.014848</td>\n",
       "      <td>0.550459</td>\n",
       "      <td>0.028916</td>\n",
       "      <td>0.528972</td>\n",
       "      <td>-0.019760</td>\n",
       "      <td>0.960503</td>\n",
       "      <td>-0.119203</td>\n",
       "      <td>-0.068822</td>\n",
       "      <td>-0.018441</td>\n",
       "    </tr>\n",
       "    <tr>\n",
       "      <th>2</th>\n",
       "      <td>LR</td>\n",
       "      <td>Reweighing</td>\n",
       "      <td>0.563965</td>\n",
       "      <td>0.530151</td>\n",
       "      <td>0.015122</td>\n",
       "      <td>0.495413</td>\n",
       "      <td>0.029348</td>\n",
       "      <td>0.530151</td>\n",
       "      <td>-0.026997</td>\n",
       "      <td>0.939397</td>\n",
       "      <td>-0.071739</td>\n",
       "      <td>-0.049085</td>\n",
       "      <td>-0.026430</td>\n",
       "    </tr>\n",
       "    <tr>\n",
       "      <th>3</th>\n",
       "      <td>SVM</td>\n",
       "      <td>Reweighing</td>\n",
       "      <td>0.514038</td>\n",
       "      <td>0.527478</td>\n",
       "      <td>0.014787</td>\n",
       "      <td>0.541284</td>\n",
       "      <td>0.028788</td>\n",
       "      <td>0.527478</td>\n",
       "      <td>-0.021862</td>\n",
       "      <td>0.955816</td>\n",
       "      <td>-0.144203</td>\n",
       "      <td>-0.082215</td>\n",
       "      <td>-0.020228</td>\n",
       "    </tr>\n",
       "    <tr>\n",
       "      <th>4</th>\n",
       "      <td>LR</td>\n",
       "      <td>Disparate Impact Remover</td>\n",
       "      <td>0.566528</td>\n",
       "      <td>0.513349</td>\n",
       "      <td>0.014116</td>\n",
       "      <td>0.458716</td>\n",
       "      <td>0.027390</td>\n",
       "      <td>0.513349</td>\n",
       "      <td>-0.003904</td>\n",
       "      <td>0.991000</td>\n",
       "      <td>-0.013768</td>\n",
       "      <td>-0.008778</td>\n",
       "      <td>-0.003789</td>\n",
       "    </tr>\n",
       "    <tr>\n",
       "      <th>5</th>\n",
       "      <td>SVM</td>\n",
       "      <td>Disparate Impact Remover</td>\n",
       "      <td>0.504028</td>\n",
       "      <td>0.522405</td>\n",
       "      <td>0.014489</td>\n",
       "      <td>0.541284</td>\n",
       "      <td>0.028223</td>\n",
       "      <td>0.522405</td>\n",
       "      <td>0.007471</td>\n",
       "      <td>1.015111</td>\n",
       "      <td>-0.183696</td>\n",
       "      <td>-0.086820</td>\n",
       "      <td>0.010056</td>\n",
       "    </tr>\n",
       "    <tr>\n",
       "      <th>6</th>\n",
       "      <td>/</td>\n",
       "      <td>no Adversarial Debiasing</td>\n",
       "      <td>0.692871</td>\n",
       "      <td>0.527594</td>\n",
       "      <td>0.015694</td>\n",
       "      <td>0.357798</td>\n",
       "      <td>0.030069</td>\n",
       "      <td>0.527594</td>\n",
       "      <td>0.026684</td>\n",
       "      <td>1.090794</td>\n",
       "      <td>0.066667</td>\n",
       "      <td>0.046381</td>\n",
       "      <td>0.026095</td>\n",
       "    </tr>\n",
       "    <tr>\n",
       "      <th>7</th>\n",
       "      <td>/</td>\n",
       "      <td>Adversarial Debiasing</td>\n",
       "      <td>0.683838</td>\n",
       "      <td>0.541118</td>\n",
       "      <td>0.016751</td>\n",
       "      <td>0.394495</td>\n",
       "      <td>0.032138</td>\n",
       "      <td>0.541118</td>\n",
       "      <td>0.019725</td>\n",
       "      <td>1.064384</td>\n",
       "      <td>-0.030797</td>\n",
       "      <td>-0.005221</td>\n",
       "      <td>0.020355</td>\n",
       "    </tr>\n",
       "    <tr>\n",
       "      <th>8</th>\n",
       "      <td>LR</td>\n",
       "      <td>Equalized Odds</td>\n",
       "      <td>0.986572</td>\n",
       "      <td>0.499938</td>\n",
       "      <td>0.000000</td>\n",
       "      <td>0.000000</td>\n",
       "      <td>NaN</td>\n",
       "      <td>0.499938</td>\n",
       "      <td>0.000345</td>\n",
       "      <td>inf</td>\n",
       "      <td>0.000000</td>\n",
       "      <td>0.000175</td>\n",
       "      <td>0.000350</td>\n",
       "    </tr>\n",
       "    <tr>\n",
       "      <th>9</th>\n",
       "      <td>SVM</td>\n",
       "      <td>Equalized Odds</td>\n",
       "      <td>0.986572</td>\n",
       "      <td>0.499938</td>\n",
       "      <td>0.000000</td>\n",
       "      <td>0.000000</td>\n",
       "      <td>NaN</td>\n",
       "      <td>0.499938</td>\n",
       "      <td>-0.000189</td>\n",
       "      <td>0.000000</td>\n",
       "      <td>0.000000</td>\n",
       "      <td>-0.000096</td>\n",
       "      <td>-0.000191</td>\n",
       "    </tr>\n",
       "    <tr>\n",
       "      <th>10</th>\n",
       "      <td>LR</td>\n",
       "      <td>Reject Option Classification</td>\n",
       "      <td>0.421021</td>\n",
       "      <td>0.548221</td>\n",
       "      <td>0.015475</td>\n",
       "      <td>0.678899</td>\n",
       "      <td>0.030260</td>\n",
       "      <td>0.548221</td>\n",
       "      <td>0.043001</td>\n",
       "      <td>1.075637</td>\n",
       "      <td>-0.045652</td>\n",
       "      <td>-0.000755</td>\n",
       "      <td>0.044143</td>\n",
       "    </tr>\n",
       "    <tr>\n",
       "      <th>11</th>\n",
       "      <td>SVM</td>\n",
       "      <td>Reject Option Classification</td>\n",
       "      <td>0.192749</td>\n",
       "      <td>0.536628</td>\n",
       "      <td>0.014482</td>\n",
       "      <td>0.889908</td>\n",
       "      <td>0.028500</td>\n",
       "      <td>0.536628</td>\n",
       "      <td>0.029388</td>\n",
       "      <td>1.036407</td>\n",
       "      <td>-0.102536</td>\n",
       "      <td>-0.035698</td>\n",
       "      <td>0.031140</td>\n",
       "    </tr>\n",
       "  </tbody>\n",
       "</table>\n",
       "</div>"
      ],
      "text/plain": [
       "   Classifier                     Algorithm  Classification accuracy  \\\n",
       "0          LR                             /                 0.564575   \n",
       "1         SVM                             /                 0.508057   \n",
       "2          LR                    Reweighing                 0.563965   \n",
       "3         SVM                    Reweighing                 0.514038   \n",
       "4          LR      Disparate Impact Remover                 0.566528   \n",
       "5         SVM      Disparate Impact Remover                 0.504028   \n",
       "6           /      no Adversarial Debiasing                 0.692871   \n",
       "7           /         Adversarial Debiasing                 0.683838   \n",
       "8          LR                Equalized Odds                 0.986572   \n",
       "9         SVM                Equalized Odds                 0.986572   \n",
       "10         LR  Reject Option Classification                 0.421021   \n",
       "11        SVM  Reject Option Classification                 0.192749   \n",
       "\n",
       "    Balanced classification accuracy  Precision    Recall  F1 score       AUC  \\\n",
       "0                           0.539511   0.015686  0.513761  0.030443  0.539511   \n",
       "1                           0.528972   0.014848  0.550459  0.028916  0.528972   \n",
       "2                           0.530151   0.015122  0.495413  0.029348  0.530151   \n",
       "3                           0.527478   0.014787  0.541284  0.028788  0.527478   \n",
       "4                           0.513349   0.014116  0.458716  0.027390  0.513349   \n",
       "5                           0.522405   0.014489  0.541284  0.028223  0.522405   \n",
       "6                           0.527594   0.015694  0.357798  0.030069  0.527594   \n",
       "7                           0.541118   0.016751  0.394495  0.032138  0.541118   \n",
       "8                           0.499938   0.000000  0.000000       NaN  0.499938   \n",
       "9                           0.499938   0.000000  0.000000       NaN  0.499938   \n",
       "10                          0.548221   0.015475  0.678899  0.030260  0.548221   \n",
       "11                          0.536628   0.014482  0.889908  0.028500  0.536628   \n",
       "\n",
       "    Statistical parity difference  Disparate impact  \\\n",
       "0                       -0.028409          0.936281   \n",
       "1                       -0.019760          0.960503   \n",
       "2                       -0.026997          0.939397   \n",
       "3                       -0.021862          0.955816   \n",
       "4                       -0.003904          0.991000   \n",
       "5                        0.007471          1.015111   \n",
       "6                        0.026684          1.090794   \n",
       "7                        0.019725          1.064384   \n",
       "8                        0.000345               inf   \n",
       "9                       -0.000189          0.000000   \n",
       "10                       0.043001          1.075637   \n",
       "11                       0.029388          1.036407   \n",
       "\n",
       "    Equal opportunity difference  Average odds difference  \\\n",
       "0                      -0.140217                -0.083578   \n",
       "1                      -0.119203                -0.068822   \n",
       "2                      -0.071739                -0.049085   \n",
       "3                      -0.144203                -0.082215   \n",
       "4                      -0.013768                -0.008778   \n",
       "5                      -0.183696                -0.086820   \n",
       "6                       0.066667                 0.046381   \n",
       "7                      -0.030797                -0.005221   \n",
       "8                       0.000000                 0.000175   \n",
       "9                       0.000000                -0.000096   \n",
       "10                     -0.045652                -0.000755   \n",
       "11                     -0.102536                -0.035698   \n",
       "\n",
       "    False positive rate difference  \n",
       "0                        -0.026938  \n",
       "1                        -0.018441  \n",
       "2                        -0.026430  \n",
       "3                        -0.020228  \n",
       "4                        -0.003789  \n",
       "5                         0.010056  \n",
       "6                         0.026095  \n",
       "7                         0.020355  \n",
       "8                         0.000350  \n",
       "9                        -0.000191  \n",
       "10                        0.044143  \n",
       "11                        0.031140  "
      ]
     },
     "execution_count": 63,
     "metadata": {},
     "output_type": "execute_result"
    }
   ],
   "source": [
    "results_df"
   ]
  },
  {
   "cell_type": "code",
   "execution_count": 64,
   "metadata": {},
   "outputs": [
    {
     "data": {
      "text/markdown": [
       "### Bias metrics"
      ],
      "text/plain": [
       "<IPython.core.display.Markdown object>"
      ]
     },
     "metadata": {},
     "output_type": "display_data"
    },
    {
     "data": {
      "text/markdown": [
       "### Check bias metrics :"
      ],
      "text/plain": [
       "<IPython.core.display.Markdown object>"
      ]
     },
     "metadata": {},
     "output_type": "display_data"
    },
    {
     "data": {
      "text/markdown": [
       "A model can be considered bias if just one of these five metrics show that this model is biased."
      ],
      "text/plain": [
       "<IPython.core.display.Markdown object>"
      ]
     },
     "metadata": {},
     "output_type": "display_data"
    },
    {
     "data": {
      "text/markdown": [
       "#### For the before attribute :"
      ],
      "text/plain": [
       "<IPython.core.display.Markdown object>"
      ]
     },
     "metadata": {},
     "output_type": "display_data"
    },
    {
     "data": {
      "text/markdown": [
       "With default thresholds, bias against unprivileged group detected in **1** out of 5 metrics"
      ],
      "text/plain": [
       "<IPython.core.display.Markdown object>"
      ]
     },
     "metadata": {},
     "output_type": "display_data"
    },
    {
     "data": {
      "text/markdown": [
       "#### For the after attribute :"
      ],
      "text/plain": [
       "<IPython.core.display.Markdown object>"
      ]
     },
     "metadata": {},
     "output_type": "display_data"
    },
    {
     "data": {
      "text/markdown": [
       "With default thresholds, bias against unprivileged group detected in **0** out of 5 metrics"
      ],
      "text/plain": [
       "<IPython.core.display.Markdown object>"
      ]
     },
     "metadata": {},
     "output_type": "display_data"
    },
    {
     "data": {
      "text/html": [
       "<div>\n",
       "<style scoped>\n",
       "    .dataframe tbody tr th:only-of-type {\n",
       "        vertical-align: middle;\n",
       "    }\n",
       "\n",
       "    .dataframe tbody tr th {\n",
       "        vertical-align: top;\n",
       "    }\n",
       "\n",
       "    .dataframe thead th {\n",
       "        text-align: right;\n",
       "    }\n",
       "</style>\n",
       "<table border=\"1\" class=\"dataframe\">\n",
       "  <thead>\n",
       "    <tr style=\"text-align: right;\">\n",
       "      <th></th>\n",
       "      <th>statistical_parity_difference</th>\n",
       "      <th>equal_opportunity_difference</th>\n",
       "      <th>average_abs_odds_difference</th>\n",
       "      <th>disparate_impact</th>\n",
       "      <th>false_positive_rate_difference</th>\n",
       "    </tr>\n",
       "  </thead>\n",
       "  <tbody>\n",
       "    <tr>\n",
       "      <th>objective</th>\n",
       "      <td>0.000000</td>\n",
       "      <td>0.000000</td>\n",
       "      <td>0.000000</td>\n",
       "      <td>1.000000</td>\n",
       "      <td>0.000000</td>\n",
       "    </tr>\n",
       "    <tr>\n",
       "      <th>before</th>\n",
       "      <td>-0.028409</td>\n",
       "      <td>-0.140217</td>\n",
       "      <td>0.083578</td>\n",
       "      <td>0.936281</td>\n",
       "      <td>-0.026938</td>\n",
       "    </tr>\n",
       "    <tr>\n",
       "      <th>after</th>\n",
       "      <td>0.043001</td>\n",
       "      <td>-0.045652</td>\n",
       "      <td>0.044897</td>\n",
       "      <td>1.075637</td>\n",
       "      <td>0.044143</td>\n",
       "    </tr>\n",
       "  </tbody>\n",
       "</table>\n",
       "</div>"
      ],
      "text/plain": [
       "           statistical_parity_difference  equal_opportunity_difference  \\\n",
       "objective                       0.000000                      0.000000   \n",
       "before                         -0.028409                     -0.140217   \n",
       "after                           0.043001                     -0.045652   \n",
       "\n",
       "           average_abs_odds_difference  disparate_impact  \\\n",
       "objective                     0.000000          1.000000   \n",
       "before                        0.083578          0.936281   \n",
       "after                         0.044897          1.075637   \n",
       "\n",
       "           false_positive_rate_difference  \n",
       "objective                        0.000000  \n",
       "before                          -0.026938  \n",
       "after                            0.044143  "
      ]
     },
     "metadata": {},
     "output_type": "display_data"
    },
    {
     "data": {
      "image/png": "[encoded data removed]",
      "text/plain": [
       "<Figure size 1440x288 with 5 Axes>"
      ]
     },
     "metadata": {},
     "output_type": "display_data"
    }
   ],
   "source": [
    "display(Markdown('### Bias metrics'))\n",
    "fair_reweighing = get_fair_metrics_and_plot(original_test_dataset, y_pred_lr, original_test_dataset, dataset_ROC_test_pred_lr.labels)"
   ]
  },
  {
   "cell_type": "code",
   "execution_count": 65,
   "metadata": {},
   "outputs": [
    {
     "data": {
      "text/markdown": [
       "### Bias metrics"
      ],
      "text/plain": [
       "<IPython.core.display.Markdown object>"
      ]
     },
     "metadata": {},
     "output_type": "display_data"
    },
    {
     "data": {
      "text/markdown": [
       "### Check bias metrics :"
      ],
      "text/plain": [
       "<IPython.core.display.Markdown object>"
      ]
     },
     "metadata": {},
     "output_type": "display_data"
    },
    {
     "data": {
      "text/markdown": [
       "A model can be considered bias if just one of these five metrics show that this model is biased."
      ],
      "text/plain": [
       "<IPython.core.display.Markdown object>"
      ]
     },
     "metadata": {},
     "output_type": "display_data"
    },
    {
     "data": {
      "text/markdown": [
       "#### For the before attribute :"
      ],
      "text/plain": [
       "<IPython.core.display.Markdown object>"
      ]
     },
     "metadata": {},
     "output_type": "display_data"
    },
    {
     "data": {
      "text/markdown": [
       "With default thresholds, bias against unprivileged group detected in **1** out of 5 metrics"
      ],
      "text/plain": [
       "<IPython.core.display.Markdown object>"
      ]
     },
     "metadata": {},
     "output_type": "display_data"
    },
    {
     "data": {
      "text/markdown": [
       "#### For the after attribute :"
      ],
      "text/plain": [
       "<IPython.core.display.Markdown object>"
      ]
     },
     "metadata": {},
     "output_type": "display_data"
    },
    {
     "data": {
      "text/markdown": [
       "With default thresholds, bias against unprivileged group detected in **1** out of 5 metrics"
      ],
      "text/plain": [
       "<IPython.core.display.Markdown object>"
      ]
     },
     "metadata": {},
     "output_type": "display_data"
    },
    {
     "data": {
      "text/html": [
       "<div>\n",
       "<style scoped>\n",
       "    .dataframe tbody tr th:only-of-type {\n",
       "        vertical-align: middle;\n",
       "    }\n",
       "\n",
       "    .dataframe tbody tr th {\n",
       "        vertical-align: top;\n",
       "    }\n",
       "\n",
       "    .dataframe thead th {\n",
       "        text-align: right;\n",
       "    }\n",
       "</style>\n",
       "<table border=\"1\" class=\"dataframe\">\n",
       "  <thead>\n",
       "    <tr style=\"text-align: right;\">\n",
       "      <th></th>\n",
       "      <th>statistical_parity_difference</th>\n",
       "      <th>equal_opportunity_difference</th>\n",
       "      <th>average_abs_odds_difference</th>\n",
       "      <th>disparate_impact</th>\n",
       "      <th>false_positive_rate_difference</th>\n",
       "    </tr>\n",
       "  </thead>\n",
       "  <tbody>\n",
       "    <tr>\n",
       "      <th>objective</th>\n",
       "      <td>0.000000</td>\n",
       "      <td>0.000000</td>\n",
       "      <td>0.000000</td>\n",
       "      <td>1.000000</td>\n",
       "      <td>0.000000</td>\n",
       "    </tr>\n",
       "    <tr>\n",
       "      <th>before</th>\n",
       "      <td>-0.019760</td>\n",
       "      <td>-0.119203</td>\n",
       "      <td>0.068822</td>\n",
       "      <td>0.960503</td>\n",
       "      <td>-0.018441</td>\n",
       "    </tr>\n",
       "    <tr>\n",
       "      <th>after</th>\n",
       "      <td>0.029388</td>\n",
       "      <td>-0.102536</td>\n",
       "      <td>0.066838</td>\n",
       "      <td>1.036407</td>\n",
       "      <td>0.031140</td>\n",
       "    </tr>\n",
       "  </tbody>\n",
       "</table>\n",
       "</div>"
      ],
      "text/plain": [
       "           statistical_parity_difference  equal_opportunity_difference  \\\n",
       "objective                       0.000000                      0.000000   \n",
       "before                         -0.019760                     -0.119203   \n",
       "after                           0.029388                     -0.102536   \n",
       "\n",
       "           average_abs_odds_difference  disparate_impact  \\\n",
       "objective                     0.000000          1.000000   \n",
       "before                        0.068822          0.960503   \n",
       "after                         0.066838          1.036407   \n",
       "\n",
       "           false_positive_rate_difference  \n",
       "objective                        0.000000  \n",
       "before                          -0.018441  \n",
       "after                            0.031140  "
      ]
     },
     "metadata": {},
     "output_type": "display_data"
    },
    {
     "data": {
      "image/png": "[encoded data removed]",
      "text/plain": [
       "<Figure size 1440x288 with 5 Axes>"
      ]
     },
     "metadata": {},
     "output_type": "display_data"
    }
   ],
   "source": [
    "display(Markdown('### Bias metrics'))\n",
    "fair_reweighing = get_fair_metrics_and_plot(original_test_dataset, y_pred_svc, original_test_dataset, dataset_ROC_test_pred_svc.labels)"
   ]
  },
  {
   "cell_type": "code",
   "execution_count": null,
   "metadata": {},
   "outputs": [],
   "source": []
  }
 ],
 "metadata": {
  "kernelspec": {
   "display_name": "Python 3",
   "language": "python",
   "name": "python3"
  },
  "language_info": {
   "codemirror_mode": {
    "name": "ipython",
    "version": 3
   },
   "file_extension": ".py",
   "mimetype": "text/x-python",
   "name": "python",
   "nbconvert_exporter": "python",
   "pygments_lexer": "ipython3",
   "version": "3.6.6"
  }
 },
 "nbformat": 4,
 "nbformat_minor": 1
}
